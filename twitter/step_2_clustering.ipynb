{
 "cells": [
  {
   "attachments": {},
   "cell_type": "markdown",
   "metadata": {},
   "source": [
    "# Clustering the whole dataset\n",
    "\n",
    "In this step you should load the saved autoencoder and the embeddings, reduce the dimension of embeddings and apply some clustering (kmeans, hbdscan) to identify the clusters.\n",
    "Then you should save the cluster information (index of points in each cluster) to be used for analysis. \n",
    "\n",
    "The goal here is to identify broad topics that exist in our dataset"
   ]
  },
  {
   "cell_type": "code",
   "execution_count": null,
   "metadata": {},
   "outputs": [],
   "source": [
    "import torch\n",
    "from utils.autoencoders import LinearAutoencoder\n",
    "\n",
    "# same deal\n",
    "from utils.embeddings import get_sbert_embeddings\n",
    "from pathlib import Path\n",
    "DATA_DIR = Path('/data/blockchain-interoperability/blockchain-social-media/twitter-data')\n",
    "\n",
    "embeddings = get_sbert_embeddings(\n",
    "    snapshot_path = DATA_DIR/'snapshots',\n",
    "    embeddings_path = DATA_DIR/'embeddings',\n",
    ")\n",
    "\n",
    "\n",
    "\n",
    "# and the model\n",
    "autoenc = LinearAutoencoder()\n",
    "autoenc.load_state_dict(torch.load(DATA_DIR/'best_model.pkl'))\n",
    "# freeze the model, because we don't want to do any more calculations. This saves computational power\n",
    "autoenc.requires_grad = False"
   ]
  },
  {
   "cell_type": "code",
   "execution_count": null,
   "metadata": {},
   "outputs": [],
   "source": [
    "# example of using the encoder\n",
    "# this line may not work, if it complains, just break into smaller batches and append them back. \n",
    "\n",
    "reduced_embs = autoenc.encoder(embeddings)\n"
   ]
  },
  {
   "attachments": {},
   "cell_type": "markdown",
   "metadata": {},
   "source": [
    "And here the clustering starts..."
   ]
  },
  {
   "cell_type": "markdown",
   "metadata": {},
   "source": []
  }
 ],
 "metadata": {
  "kernelspec": {
   "display_name": "blockchain-sns-env",
   "language": "python",
   "name": "python3"
  },
  "language_info": {
   "name": "python",
   "version": "3.10.9"
  },
  "orig_nbformat": 4,
  "vscode": {
   "interpreter": {
    "hash": "6cd29d4fa90de0455862d632ba5d82eded8ec761054fa1c425c75462c69e58ed"
   }
  }
 },
 "nbformat": 4,
 "nbformat_minor": 2
}
