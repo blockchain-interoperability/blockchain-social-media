{
 "cells": [
  {
   "cell_type": "code",
   "execution_count": 1,
   "metadata": {},
   "outputs": [],
   "source": [
    "import pandas as pd\n",
    "from pathlib import Path\n",
    "\n",
    "import json\n",
    "\n",
    "TWITTER_BASE = Path('/data/blockchain-interoperability/blockchain-social-media/twitter-data/')\n",
    "\n",
    "ids = pd.read_pickle(TWITTER_BASE/'snapshots/id.pkl')\n",
    "# timestamps = pd.to_datetime(pd.read_pickle(TWITTER_BASE/'snapshots/timestamp_ms.pkl'),unit='ms')\n",
    "whole_text = pd.read_pickle(TWITTER_BASE/'snapshots/whole_text.pkl')\n",
    "\n",
    "df = pd.concat([ids,whole_text],axis=1)\n",
    "\n",
    "kmeans_clusters = json.load(open(TWITTER_BASE/'kmeans_clusters/kmeans_init_clusters.json'))\n",
    "kmeans_clusters_sampled = {i:json.load(open(file)) for i,file in enumerate(sorted((TWITTER_BASE/'kmeans_clusters_resampled').glob('*.json')))}\n",
    "\n"
   ]
  },
  {
   "cell_type": "code",
   "execution_count": 3,
   "metadata": {},
   "outputs": [],
   "source": [
    "import json\n",
    "\n",
    "topics = json.load(open('/data/blockchain-interoperability/blockchain-social-media/tfidf_keytokens.json'))"
   ]
  },
  {
   "cell_type": "code",
   "execution_count": 4,
   "metadata": {},
   "outputs": [
    {
     "name": "stdout",
     "output_type": "stream",
     "text": [
      "0 ['free', 'youre', 'great', 'event', 'exchange', 'ftx', 'fund', 'future', 'game', 'going', 'good', 'got', 'group', 'year', 'guy', 'ha', 'hack', 'happen', 'help', 'id', 'im', 'job', 'join', 'just', 'dont', 'doesnt', 'doe', 'didnt', 'airdrop', 'amp', 'asset', 'bad', 'bank', 'best', 'better', 'big', 'binance', 'bitcoin', 'blockchain', 'bridge', 'buy', 'check', 'coin', 'come', 'community', 'company', 'crypto', 'day', 'did', 'know', 'let', 'life', 'security', 'social', 'space', 'support', 'team', 'thats', 'thing', 'think', 'time', 'today', 'token', 'twitter', 'use', 'user', 'wa', 'wallet', 'want', 'way', 'week', 'whale', 'work', 'world', 'signal', 'say', 'like', 'roll', 'long', 'look', 'lot', 'love', 'make', 'market', 'money', 'national', 'need', 'new', 'news', 'nft', 'people', 'place', 'platform', 'price', 'project', 'pump', 'real', 'really', 'right', 'account']\n",
      "1 ['binance', 'year', 'insight', 'ftx', 'future', 'going', 'good', 'got', 'guy', 'ha', 'hack', 'hour', 'im', 'just', 'eth', 'know', 'let', 'like', 'line', 'liquid', 'long', 'look', 'love', 'ma200', 'exchange', 'dont', 'world', 'doe', 'address', 'alert', 'amp', 'average', 'bear', 'best', 'big', 'bitcoin', 'blockchain', 'bridge', 'btc', 'bullish', 'buy', 'check', 'coin', 'come', 'crypto', 'current', 'daily', 'day', 'did', 'ma50', 'macd', 'make', 'sushi', 'thats', 'thing', 'think', 'time', 'today', 'token', 'twitter', 'update', 'usd', 'usdt', 'use', 'volume', 'volumeprice', 'wa', 'wallet', 'want', 'way', 'week', 'whale', 'win', 'work', 'telegram', 'spot', 'market', 'sold', 'meter', 'million', 'min', 'money', 'moving', 'need', 'new', 'people', 'price', 'project', 'pump', 'really', 'realtime', 'recent', 'result', 'right', 'roll', 'said', 'say', 'security', 'signal', '20']\n",
      "2 ['zk', 'group', 'exchange', 'free', 'ftx', 'fund', 'future', 'game', 'going', 'good', 'got', 'great', 'guy', 'youre', 'ha', 'hack', 'happen', 'help', 'hour', 'im', 'join', 'just', 'know', 'let', 'evmcompatible', 'event', 'eth', 'dont', 'address', 'amp', 'asset', 'best', 'better', 'big', 'binance', 'bitcoin', 'blockchain', 'bridge', 'btc', 'buy', 'check', 'claiming', 'coin', 'come', 'community', 'crypto', 'day', 'did', 'doe', 'life', 'like', 'liquid', 'social', 'team', 'testnet', 'thats', 'thing', 'think', 'time', 'today', 'token', 'twitter', 'use', 'user', 'v2', 'wa', 'wallet', 'want', 'way', 'week', 'whale', 'work', 'world', 'year', 'sushi', 'signal', 'look', 'security', 'love', 'make', 'market', 'million', 'money', 'national', 'need', 'new', 'news', 'people', 'platform', 'price', 'project', 'pump', 'real', 'really', 'right', 'roll', 'rollupmy', 'said', 'say', 'account']\n",
      "3 ['security', 'gbp', 'current', 'daily', 'day', 'doge', 'drop', 'eth', 'euro', 'ftt', 'ftx', 'future', 'xrp', 'crypto', 'good', 'gt', 'h00utc', 'ha', 'hack', 'hour', 'im', 'indicatorschange', 'indicatorsvariation', 'information', 'going', 'cosmos', 'just', 'compared', '2022112', '24h', '4h4h4', '77w77w77', 'acc', 'ago', 'apibtc', 'avax', 'bad', 'best', 'binance', 'bitcoin', 'bnb', 'bridge', 'btc', 'buy', 'change', 'changebtc', 'check', 'coin', 'coingecko', 'jump', 'know', 'whale', 'sat', 'short', 'signal', 'sol', 'stop', 'sun', 'sushi', 'target', 'thu', 'time', 'today', 'token', 'trade', 'trader', 'update', 'usd', 'usdc', 'usdt', 'volume', 'wa', 'wallet', 'want', 'shib', 'roll', 'l2', 'project', 'let', 'like', 'line', 'link', 'liquid', 'litecoin', 'live', 'long', 'loser', 'love', 'ltc', 'macd', 'market', 'matic', 'min', 'narrow', 'need', 'nov', 'price', 'priceusd', 'profit', '00']\n",
      "4 ['good', 'token', 'like', 'just', 'know', 'great', 'exchange', 'free', 'ftx', 'fund', 'future', 'game', 'going', 'let', 'got', 'group', 'event', 'guy', 'ha', 'hack', 'happen', 'help', 'hour', 'im', 'join', 'youre', 'dont', 'doesnt', 'bridge', 'amp', 'asset', 'bad', 'best', 'better', 'big', 'binance', 'bitcoin', 'blockchain', 'btc', 'doe', 'buy', 'check', 'coin', 'come', 'community', 'company', 'crypto', 'day', 'did', 'life', 'liquid', 'year', 'security', 'space', 'state', 'support', 'sure', 'team', 'thats', 'thing', 'think', 'time', 'today', 'twitter', 'use', 'user', 'wa', 'wallet', 'want', 'way', 'week', 'whale', 'work', 'world', 'social', 'say', 'live', 'said', 'long', 'look', 'lot', 'love', 'make', 'market', 'money', 'national', 'need', 'new', 'news', 'nft', 'people', 'platform', 'price', 'project', 'pump', 'real', 'really', 'right', 'roll', 'account']\n",
      "5 ['prediction', 'ago', 'profit', 'min', 'price', 'want', 'macd', 'ftx', 'future', 'gbp', 'gmt', 'going', 'good', 'h00utc', 'ha', 'hack', 'hour', 'im', 'insight', 'just', 'know', 'let', 'like', 'line', 'liquid', 'long', 'look', 'exchange', 'eth', 'dont', 'bridge', 'alert', 'amp', 'apiece', 'best', 'binance', 'binancetarget', 'bitcoin', 'blockchain', 'bnb', 'btc', 'did', 'btcusdt', 'buy', 'change', 'crypto', 'current', 'daily', 'data', 'date', 'day', 'love', 'make', 'wallet', 'unknown', 'sushi', 'test', 'thing', 'think', 'time', 'today', 'token', 'try', 'twitter', 'upbitkorea', 'sold', 'update', 'updated', 'upflow', 'usd', 'usdm', 'usdt', 'utc', 'volume', 'wa', 'spot', 'signal', 'market', 'weekly', 'whale', 'minute', 'monday', 'money', 'narrow', 'need', 'new', 'nov', 'people', 'predictionprice', 'short', 'way', 'realtime', 'recent', 'right', 'rise', 'roll', 'say', 'security', 'sell', 'year']\n"
     ]
    }
   ],
   "source": [
    "for cluster_id,(_,by_score) in topics.items():\n",
    "    print(cluster_id, by_score[:100])"
   ]
  },
  {
   "attachments": {},
   "cell_type": "markdown",
   "metadata": {},
   "source": [
    "**Cluster 0**: \n",
    "Keywords: FTX, exchange, positive sentiment?\n",
    "\n",
    "**Cluster 1**: \n",
    "Keywords: Binance, FTX, Liquidity\n",
    "\n",
    "**Cluster 2**: \n",
    "Keywords: ZK (Rollup/proof) FTX, Game\n",
    "\n",
    "**Cluster 3**: \n",
    "Keywords: Security, various cryptocurrencies (Doge, XRP, ), indicators (investing related)\n",
    "\n",
    "**Cluster 4**: \n",
    "Keywords: Group, Event, Community\n",
    "\n",
    "**Cluster 5**: \n",
    "Keywords: Prediction, Price, Insight, Profit\n",
    "\n"
   ]
  },
  {
   "cell_type": "code",
   "execution_count": 21,
   "metadata": {},
   "outputs": [],
   "source": [
    "import seaborn as sns\n",
    "\n",
    "per_delta = pd.DataFrame(\n",
    "    [\n",
    "        (timestamp,len(subgroup))\n",
    "        for timestamp,subgroup in df.resample('30min', on='timestamp_ms')\n",
    "    ],\n",
    "    columns=['timedelta','tweet_count']\n",
    ")"
   ]
  }
 ],
 "metadata": {
  "kernelspec": {
   "display_name": "blockchain-sns-env",
   "language": "python",
   "name": "blockchain-sns-env"
  },
  "language_info": {
   "codemirror_mode": {
    "name": "ipython",
    "version": 3
   },
   "file_extension": ".py",
   "mimetype": "text/x-python",
   "name": "python",
   "nbconvert_exporter": "python",
   "pygments_lexer": "ipython3",
   "version": "3.10.9"
  },
  "orig_nbformat": 4
 },
 "nbformat": 4,
 "nbformat_minor": 2
}
