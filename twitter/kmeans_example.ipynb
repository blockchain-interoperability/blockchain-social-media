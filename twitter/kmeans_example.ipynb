{
 "cells": [
  {
   "cell_type": "code",
   "execution_count": null,
   "metadata": {},
   "outputs": [],
   "source": [
    "import torch\n",
    "import pandas as pd\n",
    "# from torch.utils.data import DataLoader, SequentialSampler\n",
    "from sklearn.preprocessing import MaxAbsScaler\n",
    "import numpy as np\n",
    "from sklearn.cluster import KMeans\n",
    "from collections import Counter\n",
    "from itertools import chain\n",
    "from tqdm.auto import tqdm\n",
    "\n",
    "from dataset import TwitterDataset\n",
    "from autoencoders import LinearAutoEncoder"
   ]
  },
  {
   "cell_type": "code",
   "execution_count": null,
   "metadata": {},
   "outputs": [],
   "source": [
    "dset = TwitterDataset(\n",
    "    'timestamp',\n",
    "    'sentiment/vader/',\n",
    "    # whole_text_path = 'whole_text',\n",
    "    # token_path = 'tokens/text',\n",
    "    embedding_path = 'embeddings/all-MiniLM-L6-v2/',\n",
    ")\n",
    "\n"
   ]
  },
  {
   "cell_type": "code",
   "execution_count": null,
   "metadata": {},
   "outputs": [],
   "source": [
    "# don' even need to sort\n",
    "\n",
    "dset.embedding"
   ]
  }
 ],
 "metadata": {
  "kernelspec": {
   "display_name": "Python 3.6.8 ('blockchain-sns-env': venv)",
   "language": "python",
   "name": "python3"
  },
  "language_info": {
   "name": "python",
   "version": "3.6.8"
  },
  "orig_nbformat": 4,
  "vscode": {
   "interpreter": {
    "hash": "2e720e392c2c98493a55dd45de07d550878f3bc93cd6920decc8053fb22b0362"
   }
  }
 },
 "nbformat": 4,
 "nbformat_minor": 2
}
