{
 "cells": [
  {
   "cell_type": "code",
   "execution_count": 3,
   "metadata": {},
   "outputs": [
    {
     "ename": "AttributeError",
     "evalue": "__enter__",
     "output_type": "error",
     "traceback": [
      "\u001b[0;31m---------------------------------------------------------------------------\u001b[0m",
      "\u001b[0;31mAttributeError\u001b[0m                            Traceback (most recent call last)",
      "Cell \u001b[0;32mIn[3], line 8\u001b[0m\n\u001b[1;32m      6\u001b[0m embedding_type \u001b[39m=\u001b[39m \u001b[39m'\u001b[39m\u001b[39msbert\u001b[39m\u001b[39m'\u001b[39m\n\u001b[1;32m      7\u001b[0m use_responses \u001b[39m=\u001b[39m \u001b[39mFalse\u001b[39;00m\n\u001b[0;32m----> 8\u001b[0m date_range \u001b[39m=\u001b[39m get_index_date_boundaries(es_uri, es_index, embedding_type, use_responses)\n\u001b[1;32m      9\u001b[0m embedding_model \u001b[39m=\u001b[39m SentenceTransformer(\u001b[39m\"\u001b[39m\u001b[39mall-MiniLM-L12-v2\u001b[39m\u001b[39m\"\u001b[39m)\n\u001b[1;32m     11\u001b[0m query \u001b[39m=\u001b[39m \u001b[39m'\u001b[39m\u001b[39mbinance and ftx\u001b[39m\u001b[39m'\u001b[39m\n",
      "File \u001b[0;32m~/blockchain-social-media/twitter/tools/aspect_modeling/query.py:60\u001b[0m, in \u001b[0;36mget_index_date_boundaries\u001b[0;34m(es_uri, es_index, embedding_type, use_responses)\u001b[0m\n\u001b[1;32m     54\u001b[0m \u001b[39mdef\u001b[39;00m \u001b[39mget_index_date_boundaries\u001b[39m(\n\u001b[1;32m     55\u001b[0m         es_uri:\u001b[39mstr\u001b[39m, \n\u001b[1;32m     56\u001b[0m         es_index:\u001b[39mstr\u001b[39m, \n\u001b[1;32m     57\u001b[0m         embedding_type:\u001b[39mstr\u001b[39m, \n\u001b[1;32m     58\u001b[0m         use_responses:\u001b[39mbool\u001b[39m\n\u001b[1;32m     59\u001b[0m     ) \u001b[39m-\u001b[39m\u001b[39m>\u001b[39m Tuple[datetime, datetime]:\n\u001b[0;32m---> 60\u001b[0m     \u001b[39mwith\u001b[39;00m Elasticsearch(hosts\u001b[39m=\u001b[39m[es_uri], timeout\u001b[39m=\u001b[39m\u001b[39m60\u001b[39m, verify_certs\u001b[39m=\u001b[39m\u001b[39mFalse\u001b[39;00m) \u001b[39mas\u001b[39;00m es:\n\u001b[1;32m     61\u001b[0m         s \u001b[39m=\u001b[39m Search(using\u001b[39m=\u001b[39mes, index\u001b[39m=\u001b[39mes_index)\n\u001b[1;32m     62\u001b[0m         s \u001b[39m=\u001b[39m s\u001b[39m.\u001b[39mparams(size\u001b[39m=\u001b[39m\u001b[39m0\u001b[39m)\n",
      "\u001b[0;31mAttributeError\u001b[0m: __enter__"
     ]
    }
   ],
   "source": [
    "from sentence_transformers import SentenceTransformer\n",
    "from query import get_index_date_boundaries\n",
    "\n",
    "es_uri = \"http://idea-vm-elasticsearch:9200\"\n",
    "es_index = 'blockchain-cluster-0'\n",
    "embedding_type = 'sbert'\n",
    "use_responses = False\n",
    "date_range = get_index_date_boundaries(es_uri, es_index, embedding_type, use_responses)\n",
    "embedding_model = SentenceTransformer(\"all-MiniLM-L12-v2\")\n",
    "\n",
    "query = 'binance and ftx'\n",
    "sentiment_type = 'roberta'\n",
    "\n",
    "\n",
    "\n"
   ]
  },
  {
   "cell_type": "code",
   "execution_count": 6,
   "metadata": {},
   "outputs": [],
   "source": [
    "from elasticsearch import Elasticsearch\n",
    "from elasticsearch_dsl import Search\n",
    "from query import get_base_filters\n",
    "\n",
    "es =  Elasticsearch(hosts=[es_uri], timeout=60, verify_certs=False)\n",
    "s = Search(using=es, index=es_index)\n",
    "s = s.params(size=0)\n",
    "s.update_from_dict({\n",
    "    \"query\": {\n",
    "        \"bool\": {\"filter\": get_base_filters(embedding_type, use_responses)}\n",
    "    },\n",
    "    \"aggs\": {\n",
    "        \"min_date\": {\"min\": {\"field\": \"created_at\", \"format\": \"strict_date\"}},\n",
    "        \"max_date\": {\"max\": {\"field\": \"created_at\", \"format\": \"strict_date\"}}\n",
    "    }\n",
    "})\n",
    "results = s.execute()"
   ]
  },
  {
   "cell_type": "code",
   "execution_count": 8,
   "metadata": {},
   "outputs": [
    {
     "data": {
      "text/plain": [
       "(7, 6, 0)"
      ]
     },
     "execution_count": 8,
     "metadata": {},
     "output_type": "execute_result"
    }
   ],
   "source": [
    "import elasticsearch\n",
    "\n",
    "elasticsearch.__version__"
   ]
  },
  {
   "cell_type": "code",
   "execution_count": 159,
   "metadata": {},
   "outputs": [],
   "source": [
    "query_embedding = embedding_model.encode(query,normalize_embeddings=True)"
   ]
  },
  {
   "cell_type": "code",
   "execution_count": 161,
   "metadata": {},
   "outputs": [
    {
     "data": {
      "text/plain": [
       "<elasticsearch_dsl.search.Search at 0x7f05dfb0e5f0>"
      ]
     },
     "execution_count": 161,
     "metadata": {},
     "output_type": "execute_result"
    }
   ],
   "source": [
    "from elasticsearch import Elasticsearch\n",
    "from elasticsearch_dsl import Search\n",
    "\n",
    "es = Elasticsearch(hosts=[es_uri], timeout=60, verify_certs=False) \n",
    "s = Search(using=es, index=es_index)\n",
    "s = s.params(size=1000)\n",
    "s.update_from_dict(get_query(embedding_type, query_embedding, date_range, sentiment_type, use_responses))"
   ]
  },
  {
   "cell_type": "code",
   "execution_count": 162,
   "metadata": {},
   "outputs": [
    {
     "name": "stderr",
     "output_type": "stream",
     "text": [
      "/home/inwon/research/blockchain-social-media/blockchain-sns-env/lib/python3.10/site-packages/urllib3/connectionpool.py:1045: InsecureRequestWarning:\n",
      "\n",
      "Unverified HTTPS request is being made to host 'localhost'. Adding certificate verification is strongly advised. See: https://urllib3.readthedocs.io/en/1.26.x/advanced-usage.html#ssl-warnings\n",
      "\n",
      "/home/inwon/research/blockchain-social-media/blockchain-sns-env/lib/python3.10/site-packages/urllib3/connectionpool.py:1045: InsecureRequestWarning:\n",
      "\n",
      "Unverified HTTPS request is being made to host 'localhost'. Adding certificate verification is strongly advised. See: https://urllib3.readthedocs.io/en/1.26.x/advanced-usage.html#ssl-warnings\n",
      "\n"
     ]
    }
   ],
   "source": [
    "for hit in s.execute(): break"
   ]
  },
  {
   "cell_type": "code",
   "execution_count": 163,
   "metadata": {},
   "outputs": [
    {
     "data": {
      "text/plain": [
       "'1668029105923'"
      ]
     },
     "execution_count": 163,
     "metadata": {},
     "output_type": "execute_result"
    }
   ],
   "source": [
    "hit['timestamp_ms']"
   ]
  },
  {
   "cell_type": "code",
   "execution_count": 167,
   "metadata": {},
   "outputs": [],
   "source": [
    "import numpy as np\n",
    "import pandas as pd\n",
    "\n",
    "sentiment_scores = (np.random.rand(1000) - .5) * 2\n",
    "cluster_assignments = np.hstack([np.arange(5) for _ in range(200)])\n",
    "\n",
    "\n",
    "# np.random.choice()\n",
    "# timestamp = pd.to_datetime(query_results[-1],unit='ms')\n",
    "timestamp = pd.date_range('2023-01-01','2023-01-03',periods=1000)\n",
    "df = pd.DataFrame(data = {'timestamp': timestamp, 'sentiment': sentiment_scores, 'cluster': cluster_assignments})\n"
   ]
  },
  {
   "cell_type": "code",
   "execution_count": 169,
   "metadata": {},
   "outputs": [
    {
     "data": {
      "application/vnd.plotly.v1+json": {
       "config": {
        "plotlyServerURL": "https://plot.ly"
       },
       "data": [
        {
         "name": "Tweet Count",
         "type": "scatter",
         "x": [
          "2023-01-01T00:00:00",
          "2023-01-01T06:00:00",
          "2023-01-01T12:00:00",
          "2023-01-01T18:00:00",
          "2023-01-02T00:00:00",
          "2023-01-02T06:00:00",
          "2023-01-02T12:00:00",
          "2023-01-02T18:00:00",
          "2023-01-03T00:00:00"
         ],
         "y": [
          125,
          125,
          125,
          125,
          125,
          125,
          125,
          124,
          1
         ]
        },
        {
         "line": {
          "color": "#44c767"
         },
         "name": "Average Sentiment",
         "type": "scatter",
         "x": [
          "2023-01-01T00:00:00",
          "2023-01-01T06:00:00",
          "2023-01-01T12:00:00",
          "2023-01-01T18:00:00",
          "2023-01-02T00:00:00",
          "2023-01-02T06:00:00",
          "2023-01-02T12:00:00",
          "2023-01-02T18:00:00",
          "2023-01-03T00:00:00"
         ],
         "xaxis": "x2",
         "y": [
          0.5303954027075407,
          0.5100256672946253,
          0.4188716782333265,
          0.5155177741583629,
          0.511741028271592,
          0.48482012479752656,
          0.47449986951725265,
          0.5218911178357774,
          0.4820304584479683
         ],
         "yaxis": "y2"
        },
        {
         "marker": {
          "color": "#e8776b"
         },
         "name": "Negative Ratio",
         "type": "bar",
         "x": [
          "2023-01-01T00:00:00",
          "2023-01-01T06:00:00",
          "2023-01-01T12:00:00",
          "2023-01-01T18:00:00",
          "2023-01-02T00:00:00",
          "2023-01-02T06:00:00",
          "2023-01-02T12:00:00",
          "2023-01-02T18:00:00",
          "2023-01-03T00:00:00"
         ],
         "xaxis": "x2",
         "y": [
          0.4,
          0.448,
          0.616,
          0.4,
          0.44,
          0.472,
          0.496,
          0.4112903225806452,
          0
         ],
         "yaxis": "y2"
        },
        {
         "marker": {
          "color": "#e6e6e6"
         },
         "name": "Neutral Ratio",
         "type": "bar",
         "x": [
          "2023-01-01T00:00:00",
          "2023-01-01T06:00:00",
          "2023-01-01T12:00:00",
          "2023-01-01T18:00:00",
          "2023-01-02T00:00:00",
          "2023-01-02T06:00:00",
          "2023-01-02T12:00:00",
          "2023-01-02T18:00:00",
          "2023-01-03T00:00:00"
         ],
         "xaxis": "x2",
         "y": [
          0.09599999999999997,
          0.08000000000000002,
          0.07199999999999995,
          0.12,
          0.09600000000000003,
          0.128,
          0.05600000000000005,
          0.08870967741935482,
          1
         ],
         "yaxis": "y2"
        },
        {
         "marker": {
          "color": "#6b95e8"
         },
         "name": "Positive Ratio",
         "type": "bar",
         "x": [
          "2023-01-01T00:00:00",
          "2023-01-01T06:00:00",
          "2023-01-01T12:00:00",
          "2023-01-01T18:00:00",
          "2023-01-02T00:00:00",
          "2023-01-02T06:00:00",
          "2023-01-02T12:00:00",
          "2023-01-02T18:00:00",
          "2023-01-03T00:00:00"
         ],
         "xaxis": "x2",
         "y": [
          0.504,
          0.472,
          0.312,
          0.48,
          0.464,
          0.4,
          0.448,
          0.5,
          0
         ],
         "yaxis": "y2"
        }
       ],
       "layout": {
        "barmode": "stack",
        "template": {
         "data": {
          "bar": [
           {
            "error_x": {
             "color": "#2a3f5f"
            },
            "error_y": {
             "color": "#2a3f5f"
            },
            "marker": {
             "line": {
              "color": "#E5ECF6",
              "width": 0.5
             },
             "pattern": {
              "fillmode": "overlay",
              "size": 10,
              "solidity": 0.2
             }
            },
            "type": "bar"
           }
          ],
          "barpolar": [
           {
            "marker": {
             "line": {
              "color": "#E5ECF6",
              "width": 0.5
             },
             "pattern": {
              "fillmode": "overlay",
              "size": 10,
              "solidity": 0.2
             }
            },
            "type": "barpolar"
           }
          ],
          "carpet": [
           {
            "aaxis": {
             "endlinecolor": "#2a3f5f",
             "gridcolor": "white",
             "linecolor": "white",
             "minorgridcolor": "white",
             "startlinecolor": "#2a3f5f"
            },
            "baxis": {
             "endlinecolor": "#2a3f5f",
             "gridcolor": "white",
             "linecolor": "white",
             "minorgridcolor": "white",
             "startlinecolor": "#2a3f5f"
            },
            "type": "carpet"
           }
          ],
          "choropleth": [
           {
            "colorbar": {
             "outlinewidth": 0,
             "ticks": ""
            },
            "type": "choropleth"
           }
          ],
          "contour": [
           {
            "colorbar": {
             "outlinewidth": 0,
             "ticks": ""
            },
            "colorscale": [
             [
              0,
              "#0d0887"
             ],
             [
              0.1111111111111111,
              "#46039f"
             ],
             [
              0.2222222222222222,
              "#7201a8"
             ],
             [
              0.3333333333333333,
              "#9c179e"
             ],
             [
              0.4444444444444444,
              "#bd3786"
             ],
             [
              0.5555555555555556,
              "#d8576b"
             ],
             [
              0.6666666666666666,
              "#ed7953"
             ],
             [
              0.7777777777777778,
              "#fb9f3a"
             ],
             [
              0.8888888888888888,
              "#fdca26"
             ],
             [
              1,
              "#f0f921"
             ]
            ],
            "type": "contour"
           }
          ],
          "contourcarpet": [
           {
            "colorbar": {
             "outlinewidth": 0,
             "ticks": ""
            },
            "type": "contourcarpet"
           }
          ],
          "heatmap": [
           {
            "colorbar": {
             "outlinewidth": 0,
             "ticks": ""
            },
            "colorscale": [
             [
              0,
              "#0d0887"
             ],
             [
              0.1111111111111111,
              "#46039f"
             ],
             [
              0.2222222222222222,
              "#7201a8"
             ],
             [
              0.3333333333333333,
              "#9c179e"
             ],
             [
              0.4444444444444444,
              "#bd3786"
             ],
             [
              0.5555555555555556,
              "#d8576b"
             ],
             [
              0.6666666666666666,
              "#ed7953"
             ],
             [
              0.7777777777777778,
              "#fb9f3a"
             ],
             [
              0.8888888888888888,
              "#fdca26"
             ],
             [
              1,
              "#f0f921"
             ]
            ],
            "type": "heatmap"
           }
          ],
          "heatmapgl": [
           {
            "colorbar": {
             "outlinewidth": 0,
             "ticks": ""
            },
            "colorscale": [
             [
              0,
              "#0d0887"
             ],
             [
              0.1111111111111111,
              "#46039f"
             ],
             [
              0.2222222222222222,
              "#7201a8"
             ],
             [
              0.3333333333333333,
              "#9c179e"
             ],
             [
              0.4444444444444444,
              "#bd3786"
             ],
             [
              0.5555555555555556,
              "#d8576b"
             ],
             [
              0.6666666666666666,
              "#ed7953"
             ],
             [
              0.7777777777777778,
              "#fb9f3a"
             ],
             [
              0.8888888888888888,
              "#fdca26"
             ],
             [
              1,
              "#f0f921"
             ]
            ],
            "type": "heatmapgl"
           }
          ],
          "histogram": [
           {
            "marker": {
             "pattern": {
              "fillmode": "overlay",
              "size": 10,
              "solidity": 0.2
             }
            },
            "type": "histogram"
           }
          ],
          "histogram2d": [
           {
            "colorbar": {
             "outlinewidth": 0,
             "ticks": ""
            },
            "colorscale": [
             [
              0,
              "#0d0887"
             ],
             [
              0.1111111111111111,
              "#46039f"
             ],
             [
              0.2222222222222222,
              "#7201a8"
             ],
             [
              0.3333333333333333,
              "#9c179e"
             ],
             [
              0.4444444444444444,
              "#bd3786"
             ],
             [
              0.5555555555555556,
              "#d8576b"
             ],
             [
              0.6666666666666666,
              "#ed7953"
             ],
             [
              0.7777777777777778,
              "#fb9f3a"
             ],
             [
              0.8888888888888888,
              "#fdca26"
             ],
             [
              1,
              "#f0f921"
             ]
            ],
            "type": "histogram2d"
           }
          ],
          "histogram2dcontour": [
           {
            "colorbar": {
             "outlinewidth": 0,
             "ticks": ""
            },
            "colorscale": [
             [
              0,
              "#0d0887"
             ],
             [
              0.1111111111111111,
              "#46039f"
             ],
             [
              0.2222222222222222,
              "#7201a8"
             ],
             [
              0.3333333333333333,
              "#9c179e"
             ],
             [
              0.4444444444444444,
              "#bd3786"
             ],
             [
              0.5555555555555556,
              "#d8576b"
             ],
             [
              0.6666666666666666,
              "#ed7953"
             ],
             [
              0.7777777777777778,
              "#fb9f3a"
             ],
             [
              0.8888888888888888,
              "#fdca26"
             ],
             [
              1,
              "#f0f921"
             ]
            ],
            "type": "histogram2dcontour"
           }
          ],
          "mesh3d": [
           {
            "colorbar": {
             "outlinewidth": 0,
             "ticks": ""
            },
            "type": "mesh3d"
           }
          ],
          "parcoords": [
           {
            "line": {
             "colorbar": {
              "outlinewidth": 0,
              "ticks": ""
             }
            },
            "type": "parcoords"
           }
          ],
          "pie": [
           {
            "automargin": true,
            "type": "pie"
           }
          ],
          "scatter": [
           {
            "fillpattern": {
             "fillmode": "overlay",
             "size": 10,
             "solidity": 0.2
            },
            "type": "scatter"
           }
          ],
          "scatter3d": [
           {
            "line": {
             "colorbar": {
              "outlinewidth": 0,
              "ticks": ""
             }
            },
            "marker": {
             "colorbar": {
              "outlinewidth": 0,
              "ticks": ""
             }
            },
            "type": "scatter3d"
           }
          ],
          "scattercarpet": [
           {
            "marker": {
             "colorbar": {
              "outlinewidth": 0,
              "ticks": ""
             }
            },
            "type": "scattercarpet"
           }
          ],
          "scattergeo": [
           {
            "marker": {
             "colorbar": {
              "outlinewidth": 0,
              "ticks": ""
             }
            },
            "type": "scattergeo"
           }
          ],
          "scattergl": [
           {
            "marker": {
             "colorbar": {
              "outlinewidth": 0,
              "ticks": ""
             }
            },
            "type": "scattergl"
           }
          ],
          "scattermapbox": [
           {
            "marker": {
             "colorbar": {
              "outlinewidth": 0,
              "ticks": ""
             }
            },
            "type": "scattermapbox"
           }
          ],
          "scatterpolar": [
           {
            "marker": {
             "colorbar": {
              "outlinewidth": 0,
              "ticks": ""
             }
            },
            "type": "scatterpolar"
           }
          ],
          "scatterpolargl": [
           {
            "marker": {
             "colorbar": {
              "outlinewidth": 0,
              "ticks": ""
             }
            },
            "type": "scatterpolargl"
           }
          ],
          "scatterternary": [
           {
            "marker": {
             "colorbar": {
              "outlinewidth": 0,
              "ticks": ""
             }
            },
            "type": "scatterternary"
           }
          ],
          "surface": [
           {
            "colorbar": {
             "outlinewidth": 0,
             "ticks": ""
            },
            "colorscale": [
             [
              0,
              "#0d0887"
             ],
             [
              0.1111111111111111,
              "#46039f"
             ],
             [
              0.2222222222222222,
              "#7201a8"
             ],
             [
              0.3333333333333333,
              "#9c179e"
             ],
             [
              0.4444444444444444,
              "#bd3786"
             ],
             [
              0.5555555555555556,
              "#d8576b"
             ],
             [
              0.6666666666666666,
              "#ed7953"
             ],
             [
              0.7777777777777778,
              "#fb9f3a"
             ],
             [
              0.8888888888888888,
              "#fdca26"
             ],
             [
              1,
              "#f0f921"
             ]
            ],
            "type": "surface"
           }
          ],
          "table": [
           {
            "cells": {
             "fill": {
              "color": "#EBF0F8"
             },
             "line": {
              "color": "white"
             }
            },
            "header": {
             "fill": {
              "color": "#C8D4E3"
             },
             "line": {
              "color": "white"
             }
            },
            "type": "table"
           }
          ]
         },
         "layout": {
          "annotationdefaults": {
           "arrowcolor": "#2a3f5f",
           "arrowhead": 0,
           "arrowwidth": 1
          },
          "autotypenumbers": "strict",
          "coloraxis": {
           "colorbar": {
            "outlinewidth": 0,
            "ticks": ""
           }
          },
          "colorscale": {
           "diverging": [
            [
             0,
             "#8e0152"
            ],
            [
             0.1,
             "#c51b7d"
            ],
            [
             0.2,
             "#de77ae"
            ],
            [
             0.3,
             "#f1b6da"
            ],
            [
             0.4,
             "#fde0ef"
            ],
            [
             0.5,
             "#f7f7f7"
            ],
            [
             0.6,
             "#e6f5d0"
            ],
            [
             0.7,
             "#b8e186"
            ],
            [
             0.8,
             "#7fbc41"
            ],
            [
             0.9,
             "#4d9221"
            ],
            [
             1,
             "#276419"
            ]
           ],
           "sequential": [
            [
             0,
             "#0d0887"
            ],
            [
             0.1111111111111111,
             "#46039f"
            ],
            [
             0.2222222222222222,
             "#7201a8"
            ],
            [
             0.3333333333333333,
             "#9c179e"
            ],
            [
             0.4444444444444444,
             "#bd3786"
            ],
            [
             0.5555555555555556,
             "#d8576b"
            ],
            [
             0.6666666666666666,
             "#ed7953"
            ],
            [
             0.7777777777777778,
             "#fb9f3a"
            ],
            [
             0.8888888888888888,
             "#fdca26"
            ],
            [
             1,
             "#f0f921"
            ]
           ],
           "sequentialminus": [
            [
             0,
             "#0d0887"
            ],
            [
             0.1111111111111111,
             "#46039f"
            ],
            [
             0.2222222222222222,
             "#7201a8"
            ],
            [
             0.3333333333333333,
             "#9c179e"
            ],
            [
             0.4444444444444444,
             "#bd3786"
            ],
            [
             0.5555555555555556,
             "#d8576b"
            ],
            [
             0.6666666666666666,
             "#ed7953"
            ],
            [
             0.7777777777777778,
             "#fb9f3a"
            ],
            [
             0.8888888888888888,
             "#fdca26"
            ],
            [
             1,
             "#f0f921"
            ]
           ]
          },
          "colorway": [
           "#636efa",
           "#EF553B",
           "#00cc96",
           "#ab63fa",
           "#FFA15A",
           "#19d3f3",
           "#FF6692",
           "#B6E880",
           "#FF97FF",
           "#FECB52"
          ],
          "font": {
           "color": "#2a3f5f"
          },
          "geo": {
           "bgcolor": "white",
           "lakecolor": "white",
           "landcolor": "#E5ECF6",
           "showlakes": true,
           "showland": true,
           "subunitcolor": "white"
          },
          "hoverlabel": {
           "align": "left"
          },
          "hovermode": "closest",
          "mapbox": {
           "style": "light"
          },
          "paper_bgcolor": "white",
          "plot_bgcolor": "#E5ECF6",
          "polar": {
           "angularaxis": {
            "gridcolor": "white",
            "linecolor": "white",
            "ticks": ""
           },
           "bgcolor": "#E5ECF6",
           "radialaxis": {
            "gridcolor": "white",
            "linecolor": "white",
            "ticks": ""
           }
          },
          "scene": {
           "xaxis": {
            "backgroundcolor": "#E5ECF6",
            "gridcolor": "white",
            "gridwidth": 2,
            "linecolor": "white",
            "showbackground": true,
            "ticks": "",
            "zerolinecolor": "white"
           },
           "yaxis": {
            "backgroundcolor": "#E5ECF6",
            "gridcolor": "white",
            "gridwidth": 2,
            "linecolor": "white",
            "showbackground": true,
            "ticks": "",
            "zerolinecolor": "white"
           },
           "zaxis": {
            "backgroundcolor": "#E5ECF6",
            "gridcolor": "white",
            "gridwidth": 2,
            "linecolor": "white",
            "showbackground": true,
            "ticks": "",
            "zerolinecolor": "white"
           }
          },
          "shapedefaults": {
           "line": {
            "color": "#2a3f5f"
           }
          },
          "ternary": {
           "aaxis": {
            "gridcolor": "white",
            "linecolor": "white",
            "ticks": ""
           },
           "baxis": {
            "gridcolor": "white",
            "linecolor": "white",
            "ticks": ""
           },
           "bgcolor": "#E5ECF6",
           "caxis": {
            "gridcolor": "white",
            "linecolor": "white",
            "ticks": ""
           }
          },
          "title": {
           "x": 0.05
          },
          "xaxis": {
           "automargin": true,
           "gridcolor": "white",
           "linecolor": "white",
           "ticks": "",
           "title": {
            "standoff": 15
           },
           "zerolinecolor": "white",
           "zerolinewidth": 2
          },
          "yaxis": {
           "automargin": true,
           "gridcolor": "white",
           "linecolor": "white",
           "ticks": "",
           "title": {
            "standoff": 15
           },
           "zerolinecolor": "white",
           "zerolinewidth": 2
          }
         }
        },
        "xaxis": {
         "domain": [
          0,
          0.4
         ]
        },
        "xaxis2": {
         "domain": [
          0.5,
          1
         ]
        },
        "yaxis": {
         "anchor": "x2"
        }
       }
      }
     },
     "metadata": {},
     "output_type": "display_data"
    }
   ],
   "source": [
    "from sentiment import plot_cluster_sentiment\n",
    "\n",
    "plot_cluster_sentiment(cluster_assignments,sentiment_scores,timestamp,None)"
   ]
  }
 ],
 "metadata": {
  "kernelspec": {
   "display_name": "blockchain-sns-env",
   "language": "python",
   "name": "blockchain-sns-env"
  },
  "language_info": {
   "codemirror_mode": {
    "name": "ipython",
    "version": 3
   },
   "file_extension": ".py",
   "mimetype": "text/x-python",
   "name": "python",
   "nbconvert_exporter": "python",
   "pygments_lexer": "ipython3",
   "version": "3.10.9"
  },
  "orig_nbformat": 4
 },
 "nbformat": 4,
 "nbformat_minor": 2
}
