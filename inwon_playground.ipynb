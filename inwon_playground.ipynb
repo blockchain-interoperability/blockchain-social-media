{
 "cells": [
  {
   "cell_type": "code",
   "execution_count": 1,
   "metadata": {},
   "outputs": [],
   "source": [
    "import pandas as pd\n",
    "from pathlib import Path\n",
    "\n",
    "import json\n",
    "\n",
    "TWITTER_BASE = Path('/data/blockchain-interoperability/blockchain-social-media/twitter-data/')\n",
    "\n",
    "ids = pd.read_pickle(TWITTER_BASE/'snapshots/id.pkl')\n",
    "# timestamps = pd.to_datetime(pd.read_pickle(TWITTER_BASE/'snapshots/timestamp_ms.pkl'),unit='ms')\n",
    "whole_text = pd.read_pickle(TWITTER_BASE/'snapshots/whole_text.pkl')\n",
    "\n",
    "df = pd.concat([ids,whole_text],axis=1)\n",
    "\n",
    "kmeans_clusters = json.load(open(TWITTER_BASE/'kmeans_clusters/kmeans_init_clusters.json'))\n",
    "kmeans_clusters_sampled = {i:json.load(open(file)) for i,file in enumerate(sorted((TWITTER_BASE/'kmeans_clusters_resampled').glob('*.json')))}\n",
    "\n"
   ]
  },
  {
   "cell_type": "code",
   "execution_count": 70,
   "metadata": {},
   "outputs": [
    {
     "name": "stdout",
     "output_type": "stream",
     "text": [
      "0 5478862\n",
      "1 1118990\n",
      "2 2543961\n",
      "3 160048\n",
      "4 5075115\n",
      "5 596521\n"
     ]
    }
   ],
   "source": [
    "for c_id, idxs in kmeans_clusters.items():\n",
    "    print(c_id, len(idxs))"
   ]
  },
  {
   "cell_type": "code",
   "execution_count": 67,
   "metadata": {},
   "outputs": [],
   "source": [
    "from sklearn.feature_extraction.text import TfidfVectorizer,ENGLISH_STOP_WORDS\n",
    "import numpy as np\n",
    "\n",
    "custom_stop_words = list(ENGLISH_STOP_WORDS)+['http', 'https']\n",
    "\n",
    "spam_snippet = [\n",
    "    'uniswap is being exploited',\n",
    "    '200k',\n",
    "    '@nftssaga'\n",
    "]\n",
    "spam_filter = '|'.join([s.lower() for s in spam_snippet])\n",
    "\n",
    "def get_cluster(cluster_id = 0):\n",
    "    return df[\n",
    "        df['id'].isin(kmeans_clusters_sampled[cluster_id])\n",
    "    ]\n",
    "\n",
    "def get_topics(cluster_id = 0):\n",
    "    cluster_df = get_cluster(cluster_id)\n",
    "    print(f'{len(cluster_df)} poitns in cluster')\n",
    "    filtered_text = cluster_df[~cluster_df['whole_text'].str.lower().str.contains(spam_filter)]['whole_text'].values\n",
    "    print(f'{len(filtered_text)} after filter')\n",
    "    tfidf = TfidfVectorizer(\n",
    "        stop_words=custom_stop_words, \n",
    "        max_features=1000,\n",
    "    )\n",
    "    tfidf_vecs = tfidf.fit_transform(filtered_text)\n",
    "    tfidf_vocab = np.array(tfidf.get_feature_names_out())\n",
    "    vocab_scores = tfidf_vecs.mean(0).A[0]\n",
    "    return tfidf_vocab[vocab_scores.argsort()[::-1]]\n",
    "\n",
    "\n"
   ]
  },
  {
   "cell_type": "code",
   "execution_count": 68,
   "metadata": {},
   "outputs": [
    {
     "name": "stdout",
     "output_type": "stream",
     "text": [
      "CLUSTER 0\n",
      "---------------------\n",
      "1000000 poitns in cluster\n",
      "698730 after filter\n",
      "['pump' 'just' 'signal' 'happen' 'event' 'crypto' 'wallstreetbets'\n",
      " 'binance' 'kucoin' 'big' 'announced' 'massive' 'hours' 'whales' 'group'\n",
      " 'project' 'owners' 'really' 'token' 'security' 'airdrop' 'days' 'planned'\n",
      " 'join' 'awesome' 'check' 'telegram' 'blockchain' 'week' 'place' 'say'\n",
      " 'amp' 'nft' 'decided' 'like' 'twitter' 'going' 'money' 'time' 'best'\n",
      " 'bitcoin' 'don' 'roll' 'people' 'live' 'bsc' 'community' 'lol' 'ftx'\n",
      " 'world' 'bnb' 'eth' 'good' 'bridge' 'market' 'follow' 'got' 'coming'\n",
      " 'team' 'finally' 'organized' 'paid' 'make' 'btc' 'new' 'cz_binance' 'ive'\n",
      " 'wallet' 'profited' 'ass' 'mentorship' 'know' 'hi' 'free' 'need'\n",
      " 'uniswap' 'rent' 'months' 'great' 'moon' 'collective' 'thanks' 'program'\n",
      " 'elonmusk' 'holding' 'trade' 'future' 'sea' 'declared' 'soon' 'solid'\n",
      " 'exchange' 'love' '12h' 'definitely' 'maybe' 'couple' 'pumpers' 'channel'\n",
      " 'status']\n",
      "CLUSTER 1\n",
      "---------------------\n",
      "1000000 poitns in cluster\n",
      "995828 after filter\n",
      "['crypto' 'binance' 'roll' 'security' 'token' 'price' '000' 'bridge'\n",
      " 'promote' 'nftmarkettplace' 'eth' 'just' '2022' 'btc' '10' 'sale' 'nft'\n",
      " 'premium' 'apesport' 'cz_binance' 'hack' '15' 'time' 'kinderinu' 'good'\n",
      " 'tax' 'ftx' 'blockchain' 'join' 'bitcoin' 'project' 'like' 'telegram'\n",
      " 'ethereum' 'days' 'buy' 'twitter' '11' 'bnb' 'elonmusk' 'check' 'nfts'\n",
      " 'sushi' 'love' 'new' 'lp' '00' '12' 'amp' 'tokens' 'locked' 'total'\n",
      " 'liquid' 'world' 'presale' 'sell' 'nov' 'cristiano' 'million' 'utc'\n",
      " 'raised' 'whale' 'don' '100x' 'ape' 'money' 'volume' 'public' 'usdt'\n",
      " 'win' 'coin' 'kucoin' 'kinder' 'launch' 'know' 'alert' '0001' 'hottest'\n",
      " 'allocation' 'bil' 'apel' 'inu' 'launched' 'renounced' 'ca' 'feel'\n",
      " 'people' 'market' 'tell' '100' 'going' 'sent' 'altcoins' '1500x'\n",
      " 'kinderinunft' 'rewards' 'real' 'bscgemsalert' 'cryptocurrency' 'erc20']\n",
      "CLUSTER 2\n",
      "---------------------\n",
      "1000000 poitns in cluster\n",
      "970131 after filter\n",
      "['crypto' 'binance' 'security' 'roll' 'token' 'tokens' 'address' 'learn'\n",
      " 'testnet' 'just' 'v2' 'zksync' 'evm' 'zk' 'rollup' 'compatible'\n",
      " 'claiming' 'pump' 'project' 'check' 'bridge' 'kucoin' 'blockchain' 'nft'\n",
      " 'ftx' 'cz_binance' 'signal' 'like' 'good' 'happen' 'event' 'money' 'eth'\n",
      " 'amp' 'claim' 'join' 'bitcoin' 'wallstreetbets' 'btc' 'big' 'best'\n",
      " 'going' 'hack' 'airdrop' 'time' 'buy' '000' 'group' 'new' 'whales'\n",
      " 'hours' 'guess' 'don' 'live' 'love' 'wallet' 'active' 'announced'\n",
      " 'people' 'nfts' 'exchange' 'twitter' '10' 'free' 'got' 'know' 'world'\n",
      " '2022' 'bnb' 'great' 'elonmusk' 'days' 'win' 'market' 'amazing' 'link'\n",
      " 'presale' 'tax' 'need' 'team' 'massive' 'liquid' 'really' 'telegram'\n",
      " 'make' 'news' 'cryptocurrency' '100x' 'community' 'future' 'sigh' 'grow'\n",
      " 'think' 'share' 'favorite' 'idea' 'control' 'sushi' 've' 'bet']\n",
      "CLUSTER 3\n",
      "---------------------\n",
      "160048 poitns in cluster\n",
      "160044 after filter\n",
      "['crypto' 'roll' 'binance' 'sushi' 'security' 'project' 'good' 'bridge'\n",
      " 'try' 'hack' 'liquid' 'bullish' 'rocket' 'btc' 'gt' 'sleeps' '上海' 'want'\n",
      " 'just' '世界杯' '上海线下' 'nice' 'token' 'bitcoin' '开云体育' 'price' 'dodo' 'let'\n",
      " '16' '2022' 'whales' '11' 'time' 'eth' 'line' 'bnb' 'macd' '裸聊' '女s'\n",
      " '反差婊' '福利姬' '15' '人妻' 'bad' '火狐体育' 'love' '10' 'check' 'going' 'usdt'\n",
      " '13' 'great' 'like' 'ftx' 'trade' 'life' 'change' 'lover' '八戒体育' 'h4'\n",
      " '00' '12' 'buy' 'long' 'rock' 'best' '完美体育' 'nov' 'hour' 'usd' 'come'\n",
      " '14' 'moon' 'xrp' 'doge' '17' 'signal' 'coin' 'need' 'نمشے' 'today' '000'\n",
      " 'w77' 'wild' '足球' 'cosmos' 'meter' 'gm' 'l2' 'min' 'eye' '20'\n",
      " 'blockchain' 'narrow' 'keys' 'right' 'lol' 'malicious' 'world'\n",
      " 'cryptocurrency']\n",
      "CLUSTER 4\n",
      "---------------------\n",
      "1000000 poitns in cluster\n",
      "895763 after filter\n",
      "['crypto' 'pump' 'just' 'binance' 'signal' 'kucoin' 'happen' 'event'\n",
      " 'wallstreetbets' 'project' 'token' 'security' 'announced' 'big' 'group'\n",
      " 'hours' 'whales' 'check' 'massive' 'airdrop' 'blockchain' 'nft' 'live'\n",
      " 'roll' 'owners' 'join' 'eth' 'got' 'days' 'amp' 'bitcoin' 'money' 'ftx'\n",
      " 'really' 'love' 'best' 'like' 'wallet' 'awesome' 'bridge' 'cz_binance'\n",
      " 'good' 'going' 'don' 'time' 'people' 'coming' 'twitter' 'say' 'planned'\n",
      " 'community' 'btc' 'telegram' 'round' 'place' 'week' 'new' 'buy' 'lol'\n",
      " 'market' 'moon' 'claim' 'heard' 'team' 'need' 'great' 'link' 'favorite'\n",
      " 'future' 've' 'world' 'free' 'know' 'elonmusk' 'bsc' 'sbf_ftx' 'tax'\n",
      " 'kyc' 'amazing' 'hack' 'uniswap' 'presale' 'exchange' 'guys' 'make'\n",
      " 'decided' 'users' 'audit' 'altcoins' 'bullish' 'thanks' 'thank' 'sea'\n",
      " 'want' 'game' 'cryptocurrency' 'use' 'ama' 'finally' 'nftgiveaway']\n",
      "CLUSTER 5\n",
      "---------------------\n",
      "596521 poitns in cluster\n",
      "525977 after filter\n",
      "['crypto' 'binance' 'roll' 'price' 'security' 'btc' 'token' 'eth' 'bridge'\n",
      " 'bitcoin' 'bnb' 'usd' 'sushi' '世界杯' '2022' 'cryptocurrency' 'hack'\n",
      " 'ethereum' '11' 'liquid' 'nfts' 'follow' 'just' 'update' 'new' 'altcoin'\n",
      " 'recent' 'updates' 'try' '10' 'blockchain' '15' 'kinderinu' '16' 'time'\n",
      " '12' 'like' 'nft' 'ftx' 'usdt' '000' 'buy' '00' 'twitter' 'good'\n",
      " 'cz_binance' 'elonmusk' 'things' 'current' 'test' 'cristiano' 'sell'\n",
      " 'check' 'whales' 'wallet' 'whale' 'bullish' 'tax' '13' 'line' 'market'\n",
      " 'utc' 'locked' 'macd' 'volume' 'let' '14' 'project' 'lp' 'don' 'going'\n",
      " 'doge' 'want' 'n0w' '17' 'rocket' 'sol' 'xrp' 'dodo' 'kinder'\n",
      " 'binancecoin' 'launch' 'inu' 'launched' 'ca' 'renounced' 'love' 'rewards'\n",
      " 'people' 'lol' 'world' 'real' '1500x' '24' 'did' '百家乐' 'nov' 'amp' 'long'\n",
      " '20']\n"
     ]
    }
   ],
   "source": [
    "for i in range(6):\n",
    "    print(f'CLUSTER {i}')\n",
    "    print('---------------------')\n",
    "    topics = get_topics(i)\n",
    "    print(topics[:100])"
   ]
  },
  {
   "attachments": {},
   "cell_type": "markdown",
   "metadata": {},
   "source": [
    "Ku Coin Pump \n"
   ]
  },
  {
   "cell_type": "code",
   "execution_count": 69,
   "metadata": {},
   "outputs": [
    {
     "data": {
      "text/plain": [
       "14973497"
      ]
     },
     "execution_count": 69,
     "metadata": {},
     "output_type": "execute_result"
    }
   ],
   "source": [
    "len(df)"
   ]
  },
  {
   "cell_type": "code",
   "execution_count": 66,
   "metadata": {},
   "outputs": [
    {
     "data": {
      "text/plain": [
       "{'Promote it on @nftssaga',\n",
       " 'Promote it on @nftssaga in',\n",
       " 'Promote it on @nftssagaL',\n",
       " 'Promote it on @nftssagaP',\n",
       " 'Promote it on @nftssagal',\n",
       " 'Promote it on @nftssagap'}"
      ]
     },
     "execution_count": 66,
     "metadata": {},
     "output_type": "execute_result"
    }
   ],
   "source": [
    "cluster_id = 5\n",
    "\n",
    "cluster_df = df[\n",
    "    df['id'].isin(kmeans_clusters_sampled[cluster_id])\n",
    "]\n",
    "\n",
    "\n",
    "set(cluster_df[cluster_df['whole_text'].str.contains('nftssaga')]['whole_text'].values.tolist())"
   ]
  },
  {
   "cell_type": "code",
   "execution_count": 4,
   "metadata": {},
   "outputs": [
    {
     "name": "stdout",
     "output_type": "stream",
     "text": [
      "0 ['free', 'youre', 'great', 'event', 'exchange', 'ftx', 'fund', 'future', 'game', 'going', 'good', 'got', 'group', 'year', 'guy', 'ha', 'hack', 'happen', 'help', 'id', 'im', 'job', 'join', 'just', 'dont', 'doesnt', 'doe', 'didnt', 'airdrop', 'amp', 'asset', 'bad', 'bank', 'best', 'better', 'big', 'binance', 'bitcoin', 'blockchain', 'bridge', 'buy', 'check', 'coin', 'come', 'community', 'company', 'crypto', 'day', 'did', 'know', 'let', 'life', 'security', 'social', 'space', 'support', 'team', 'thats', 'thing', 'think', 'time', 'today', 'token', 'twitter', 'use', 'user', 'wa', 'wallet', 'want', 'way', 'week', 'whale', 'work', 'world', 'signal', 'say', 'like', 'roll', 'long', 'look', 'lot', 'love', 'make', 'market', 'money', 'national', 'need', 'new', 'news', 'nft', 'people', 'place', 'platform', 'price', 'project', 'pump', 'real', 'really', 'right', 'account']\n",
      "1 ['binance', 'year', 'insight', 'ftx', 'future', 'going', 'good', 'got', 'guy', 'ha', 'hack', 'hour', 'im', 'just', 'eth', 'know', 'let', 'like', 'line', 'liquid', 'long', 'look', 'love', 'ma200', 'exchange', 'dont', 'world', 'doe', 'address', 'alert', 'amp', 'average', 'bear', 'best', 'big', 'bitcoin', 'blockchain', 'bridge', 'btc', 'bullish', 'buy', 'check', 'coin', 'come', 'crypto', 'current', 'daily', 'day', 'did', 'ma50', 'macd', 'make', 'sushi', 'thats', 'thing', 'think', 'time', 'today', 'token', 'twitter', 'update', 'usd', 'usdt', 'use', 'volume', 'volumeprice', 'wa', 'wallet', 'want', 'way', 'week', 'whale', 'win', 'work', 'telegram', 'spot', 'market', 'sold', 'meter', 'million', 'min', 'money', 'moving', 'need', 'new', 'people', 'price', 'project', 'pump', 'really', 'realtime', 'recent', 'result', 'right', 'roll', 'said', 'say', 'security', 'signal', '20']\n",
      "2 ['zk', 'group', 'exchange', 'free', 'ftx', 'fund', 'future', 'game', 'going', 'good', 'got', 'great', 'guy', 'youre', 'ha', 'hack', 'happen', 'help', 'hour', 'im', 'join', 'just', 'know', 'let', 'evmcompatible', 'event', 'eth', 'dont', 'address', 'amp', 'asset', 'best', 'better', 'big', 'binance', 'bitcoin', 'blockchain', 'bridge', 'btc', 'buy', 'check', 'claiming', 'coin', 'come', 'community', 'crypto', 'day', 'did', 'doe', 'life', 'like', 'liquid', 'social', 'team', 'testnet', 'thats', 'thing', 'think', 'time', 'today', 'token', 'twitter', 'use', 'user', 'v2', 'wa', 'wallet', 'want', 'way', 'week', 'whale', 'work', 'world', 'year', 'sushi', 'signal', 'look', 'security', 'love', 'make', 'market', 'million', 'money', 'national', 'need', 'new', 'news', 'people', 'platform', 'price', 'project', 'pump', 'real', 'really', 'right', 'roll', 'rollupmy', 'said', 'say', 'account']\n",
      "3 ['security', 'gbp', 'current', 'daily', 'day', 'doge', 'drop', 'eth', 'euro', 'ftt', 'ftx', 'future', 'xrp', 'crypto', 'good', 'gt', 'h00utc', 'ha', 'hack', 'hour', 'im', 'indicatorschange', 'indicatorsvariation', 'information', 'going', 'cosmos', 'just', 'compared', '2022112', '24h', '4h4h4', '77w77w77', 'acc', 'ago', 'apibtc', 'avax', 'bad', 'best', 'binance', 'bitcoin', 'bnb', 'bridge', 'btc', 'buy', 'change', 'changebtc', 'check', 'coin', 'coingecko', 'jump', 'know', 'whale', 'sat', 'short', 'signal', 'sol', 'stop', 'sun', 'sushi', 'target', 'thu', 'time', 'today', 'token', 'trade', 'trader', 'update', 'usd', 'usdc', 'usdt', 'volume', 'wa', 'wallet', 'want', 'shib', 'roll', 'l2', 'project', 'let', 'like', 'line', 'link', 'liquid', 'litecoin', 'live', 'long', 'loser', 'love', 'ltc', 'macd', 'market', 'matic', 'min', 'narrow', 'need', 'nov', 'price', 'priceusd', 'profit', '00']\n",
      "4 ['good', 'token', 'like', 'just', 'know', 'great', 'exchange', 'free', 'ftx', 'fund', 'future', 'game', 'going', 'let', 'got', 'group', 'event', 'guy', 'ha', 'hack', 'happen', 'help', 'hour', 'im', 'join', 'youre', 'dont', 'doesnt', 'bridge', 'amp', 'asset', 'bad', 'best', 'better', 'big', 'binance', 'bitcoin', 'blockchain', 'btc', 'doe', 'buy', 'check', 'coin', 'come', 'community', 'company', 'crypto', 'day', 'did', 'life', 'liquid', 'year', 'security', 'space', 'state', 'support', 'sure', 'team', 'thats', 'thing', 'think', 'time', 'today', 'twitter', 'use', 'user', 'wa', 'wallet', 'want', 'way', 'week', 'whale', 'work', 'world', 'social', 'say', 'live', 'said', 'long', 'look', 'lot', 'love', 'make', 'market', 'money', 'national', 'need', 'new', 'news', 'nft', 'people', 'platform', 'price', 'project', 'pump', 'real', 'really', 'right', 'roll', 'account']\n",
      "5 ['prediction', 'ago', 'profit', 'min', 'price', 'want', 'macd', 'ftx', 'future', 'gbp', 'gmt', 'going', 'good', 'h00utc', 'ha', 'hack', 'hour', 'im', 'insight', 'just', 'know', 'let', 'like', 'line', 'liquid', 'long', 'look', 'exchange', 'eth', 'dont', 'bridge', 'alert', 'amp', 'apiece', 'best', 'binance', 'binancetarget', 'bitcoin', 'blockchain', 'bnb', 'btc', 'did', 'btcusdt', 'buy', 'change', 'crypto', 'current', 'daily', 'data', 'date', 'day', 'love', 'make', 'wallet', 'unknown', 'sushi', 'test', 'thing', 'think', 'time', 'today', 'token', 'try', 'twitter', 'upbitkorea', 'sold', 'update', 'updated', 'upflow', 'usd', 'usdm', 'usdt', 'utc', 'volume', 'wa', 'spot', 'signal', 'market', 'weekly', 'whale', 'minute', 'monday', 'money', 'narrow', 'need', 'new', 'nov', 'people', 'predictionprice', 'short', 'way', 'realtime', 'recent', 'right', 'rise', 'roll', 'say', 'security', 'sell', 'year']\n"
     ]
    }
   ],
   "source": [
    "for cluster_id,(_,by_score) in topics.items():\n",
    "    print(cluster_id, by_score[:100])"
   ]
  },
  {
   "attachments": {},
   "cell_type": "markdown",
   "metadata": {},
   "source": [
    "**Cluster 0**: \n",
    "Keywords: FTX, exchange, going, good, positive sentiment?\n",
    "\n",
    "**Cluster 1**: \n",
    "Keywords: Binance, FTX, Liquidity\n",
    "\n",
    "**Cluster 2**: \n",
    "Keywords: ZK, FTX, Game\n",
    "\n",
    "**Cluster 3**: \n",
    "Keywords: Security, Doge, XRP, indicators (investing related)\n",
    "\n",
    "**Cluster 4**: \n",
    "Keywords: Group, Event, Community\n",
    "\n",
    "**Cluster 5**: \n",
    "Keywords: Prediction, Price, Insight, Profit\n",
    "\n"
   ]
  },
  {
   "cell_type": "code",
   "execution_count": 1,
   "metadata": {},
   "outputs": [],
   "source": [
    "import pandas as pd\n",
    "\n",
    "ts = pd.read_pickle('/data/blockchain-interoperability/blockchain-social-media/twitter-data/snapshots/timestamp_ms.pkl')"
   ]
  },
  {
   "cell_type": "code",
   "execution_count": 8,
   "metadata": {},
   "outputs": [
    {
     "data": {
      "text/plain": [
       "'2022-11-11 12:03:53.965000'"
      ]
     },
     "execution_count": 8,
     "metadata": {},
     "output_type": "execute_result"
    }
   ],
   "source": [
    "str(pd.to_datetime(ts[0],unit='ms'))"
   ]
  }
 ],
 "metadata": {
  "kernelspec": {
   "display_name": "blockchain-sns-env",
   "language": "python",
   "name": "blockchain-sns-env"
  },
  "language_info": {
   "codemirror_mode": {
    "name": "ipython",
    "version": 3
   },
   "file_extension": ".py",
   "mimetype": "text/x-python",
   "name": "python",
   "nbconvert_exporter": "python",
   "pygments_lexer": "ipython3",
   "version": "3.10.9"
  },
  "orig_nbformat": 4
 },
 "nbformat": 4,
 "nbformat_minor": 2
}
