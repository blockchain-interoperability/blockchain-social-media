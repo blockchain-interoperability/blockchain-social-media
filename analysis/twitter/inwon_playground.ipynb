{
 "cells": [
  {
   "cell_type": "code",
   "execution_count": 8,
   "metadata": {},
   "outputs": [],
   "source": [
    "import pandas as pd\n",
    "from pathlib import Path\n",
    "from tqdm.auto import tqdm\n",
    "from collections import Counter\n",
    "from itertools import chain"
   ]
  },
  {
   "cell_type": "code",
   "execution_count": 9,
   "metadata": {},
   "outputs": [],
   "source": [
    "from collect_data import load_cache\n",
    "from tokenizer import load_tokens\n",
    "\n",
    "tokens = load_tokens('/data/blockchain-interoperability/blockchain-social-media/analysis/twitter/tokens')"
   ]
  },
  {
   "cell_type": "code",
   "execution_count": 10,
   "metadata": {},
   "outputs": [
    {
     "data": {
      "application/vnd.jupyter.widget-view+json": {
       "model_id": "a9346493ff014cbca682073ad32dec6f",
       "version_major": 2,
       "version_minor": 0
      },
      "text/plain": [
       "  0%|          | 0/4630237 [00:00<?, ?it/s]"
      ]
     },
     "metadata": {},
     "output_type": "display_data"
    },
    {
     "data": {
      "application/vnd.jupyter.widget-view+json": {
       "model_id": "33cd564420ab45acb1c02b95aa108c24",
       "version_major": 2,
       "version_minor": 0
      },
      "text/plain": [
       "  0%|          | 0/4630237 [00:00<?, ?it/s]"
      ]
     },
     "metadata": {},
     "output_type": "display_data"
    }
   ],
   "source": [
    "from tqdm.auto import tqdm\n",
    "\n",
    "def extract_grams(tokens, n_list):\n",
    "    # inp = sentence.split()\n",
    "    return Counter([' '.join(gram) for n in n_list\n",
    "                    for gram in chain(*[zip(*[toks[i:] for i in range(n)]) for toks in tqdm(tokens)])])\n",
    "\n",
    "# gram_counts = Counter()\n",
    "# for toks in tqdm(tokens):\n",
    "gram_counts_1 = extract_grams(tokens,[1])\n",
    "gram_counts_2 = extract_grams(tokens,[2])\n",
    "\n",
    "by_count_1 = sorted(gram_counts_1.items(),key=lambda x: x[1],reverse=True)\n",
    "by_count_2 = sorted(gram_counts_2.items(),key=lambda x: x[1],reverse=True)\n",
    "\n",
    "# gram_counts = sum(map(lambda toks: extract_grams(toks,[1,2]), tokens),Counter())"
   ]
  },
  {
   "cell_type": "code",
   "execution_count": 33,
   "metadata": {},
   "outputs": [
    {
     "name": "stderr",
     "output_type": "stream",
     "text": [
      "/data/blockchain-interoperability/blockchain-social-media/blockchain-sns-env/lib64/python3.6/site-packages/ipykernel_launcher.py:11: RuntimeWarning: More than 20 figures have been opened. Figures created through the pyplot interface (`matplotlib.pyplot.figure`) are retained until explicitly closed and may consume too much memory. (To control this warning, see the rcParam `figure.max_open_warning`).\n",
      "  # This is added back by InteractiveShellApp.init_path()\n"
     ]
    }
   ],
   "source": [
    "# import matplotlib,mplcairo\n",
    "# matplotlib.use(\"module://mplcairo.base\")\n",
    "\n",
    "from wordcloud import WordCloud\n",
    "from skimage.draw import disk\n",
    "import matplotlib.pyplot as plt\n",
    "import os\n",
    "from os import path\n",
    "import string\n",
    "\n",
    "fig,ax = plt.subplots(figsize=(10,10))\n",
    "import numpy as np\n",
    "\n",
    "def make_circle(radius):\n",
    "    canvas = np.ones((radius*2+1, radius*2+1), dtype=np.uint8)*255\n",
    "    canvas[disk((radius, radius), radius)] = 0\n",
    "    return canvas\n",
    "\n",
    "# the regex used to detect words is a combination of normal words, ascii art, and emojis\n",
    "# 2+ consecutive letters (also include apostrophes), e.x It's\n",
    "# normal_word = r\"(?:\\w[\\w']+)\"\n",
    "# # 2+ consecutive punctuations, e.x. :)\n",
    "# ascii_art = r\"(?:[{punctuation}][{punctuation}]+)\".format(punctuation=string.punctuation)\n",
    "# # a single character that is not alpha_numeric or other ascii printable\n",
    "# emoji = r\"(?:[^\\s])(?<![\\w{ascii_printable}])\".format(ascii_printable=string.printable)\n",
    "# regexp = r\"{normal_word}|{ascii_art}|{emoji}\".format(normal_word=normal_word, ascii_art=ascii_art,\n",
    "#                                                      emoji=emoji)\n",
    "# d = path.dirname(__file__) if \"__file__\" in locals() else os.getcwd()\n",
    "# fpath = path.join(d, 'Apple Color Emoji.ttc')\n",
    "\n",
    "\n",
    "cloud_shape = make_circle(1000)\n",
    "wc = WordCloud(background_color=\"white\", max_words=500, mask=cloud_shape,max_font_size=400,font_path='./Symbola.otf')\n",
    "wc.generate_from_frequencies(dict(by_count_2[:500]))\n",
    "\n",
    "ax.imshow(wc)\n",
    "ax.axis('off')\n",
    "fig.savefig('2gram_test.png',dpi=300)"
   ]
  },
  {
   "cell_type": "code",
   "execution_count": 29,
   "metadata": {},
   "outputs": [
    {
     "data": {
      "text/plain": [
       "[('$ 200k', 253897),\n",
       " ('alpha group', 253747),\n",
       " ('dude $', 253738),\n",
       " ('200k far', 253732),\n",
       " ('leaked alpha', 253730),\n",
       " ('uniswap exploited', 253728),\n",
       " ('exploited dude', 253726),\n",
       " ('far leaked', 249888),\n",
       " ('wish discovered', 138469),\n",
       " ('discovered earlier', 138464)]"
      ]
     },
     "execution_count": 29,
     "metadata": {},
     "output_type": "execute_result"
    }
   ],
   "source": [
    "by_count_2[:10]"
   ]
  }
 ],
 "metadata": {
  "kernelspec": {
   "display_name": "Python 3.6.8 ('blockchain-sns-env')",
   "language": "python",
   "name": "python3"
  },
  "language_info": {
   "codemirror_mode": {
    "name": "ipython",
    "version": 3
   },
   "file_extension": ".py",
   "mimetype": "text/x-python",
   "name": "python",
   "nbconvert_exporter": "python",
   "pygments_lexer": "ipython3",
   "version": "3.6.8"
  },
  "vscode": {
   "interpreter": {
    "hash": "6cd29d4fa90de0455862d632ba5d82eded8ec761054fa1c425c75462c69e58ed"
   }
  }
 },
 "nbformat": 4,
 "nbformat_minor": 2
}
