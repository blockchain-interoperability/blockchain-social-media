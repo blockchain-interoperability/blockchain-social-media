{
 "cells": [
  {
   "cell_type": "code",
   "execution_count": 4,
   "metadata": {},
   "outputs": [],
   "source": [
    "import pandas as pd\n",
    "from pathlib import Path\n",
    "from tqdm.auto import tqdm"
   ]
  },
  {
   "cell_type": "code",
   "execution_count": 2,
   "metadata": {},
   "outputs": [],
   "source": [
    "import spacy\n",
    "\n",
    "spacy.require_gpu()\n",
    "nlp = spacy.load(\"en_core_web_lg\")\n"
   ]
  },
  {
   "cell_type": "code",
   "execution_count": 14,
   "metadata": {},
   "outputs": [],
   "source": [
    "import collect_data\n",
    "import json\n",
    "config = json.load(open('twitter_config.json'))['cache_index']\n",
    "config.pop('snapshot_path')\n",
    "config.pop('batch_size')\n",
    "\n",
    "\n",
    "cursor,doc_count = collect_data.scroll_index(**config)"
   ]
  },
  {
   "cell_type": "code",
   "execution_count": 15,
   "metadata": {},
   "outputs": [],
   "source": [
    "res = []\n",
    "for i,s in enumerate(cursor):\n",
    "    if i == 100: break \n",
    "    res.append(s)"
   ]
  },
  {
   "cell_type": "code",
   "execution_count": null,
   "metadata": {},
   "outputs": [],
   "source": []
  },
  {
   "cell_type": "code",
   "execution_count": 5,
   "metadata": {},
   "outputs": [],
   "source": [
    "SNAPSHOTS_BASE = Path('/data/blockchain-interoperability/blockchain-social-media/analysis/twitter/snapshots/')\n",
    "# dd = pd.read_json()\n",
    "for f in sorted(SNAPSHOTS_BASE.glob('*.pkl')): break\n",
    "\n",
    "dd = pd.read_pickle(f)"
   ]
  },
  {
   "cell_type": "code",
   "execution_count": 12,
   "metadata": {},
   "outputs": [],
   "source": [
    "\n",
    "import pickle\n",
    "\n",
    "toks = pickle.load(open('tokens/00100000.pkl','rb'))"
   ]
  },
  {
   "cell_type": "code",
   "execution_count": 7,
   "metadata": {},
   "outputs": [
    {
     "name": "stdout",
     "output_type": "stream",
     "text": [
      "whole text took 97.2067287825048\n"
     ]
    }
   ],
   "source": [
    "import time\n",
    "start = time.perf_counter()\n",
    "get_tokens(dd.whole_text)\n",
    "print(f'whole text took {time.perf_counter() - start}')\n",
    "\n",
    "\n"
   ]
  },
  {
   "cell_type": "code",
   "execution_count": 10,
   "metadata": {},
   "outputs": [
    {
     "data": {
      "application/vnd.jupyter.widget-view+json": {
       "model_id": "5109159ae607499c942b47b7bf548e23",
       "version_major": 2,
       "version_minor": 0
      },
      "text/plain": [
       "  0%|          | 0/1000 [00:00<?, ?it/s]"
      ]
     },
     "metadata": {},
     "output_type": "display_data"
    },
    {
     "ename": "KeyboardInterrupt",
     "evalue": "",
     "output_type": "error",
     "traceback": [
      "\u001b[0;31m---------------------------------------------------------------------------\u001b[0m",
      "\u001b[0;31mKeyboardInterrupt\u001b[0m                         Traceback (most recent call last)",
      "\u001b[0;32m<ipython-input-10-06ffb17e8edc>\u001b[0m in \u001b[0;36m<module>\u001b[0;34m\u001b[0m\n\u001b[1;32m      2\u001b[0m \u001b[0;34m\u001b[0m\u001b[0m\n\u001b[1;32m      3\u001b[0m \u001b[0;32mfor\u001b[0m \u001b[0mi\u001b[0m \u001b[0;32min\u001b[0m \u001b[0mtqdm\u001b[0m\u001b[0;34m(\u001b[0m\u001b[0mrange\u001b[0m\u001b[0;34m(\u001b[0m\u001b[0;36m0\u001b[0m\u001b[0;34m,\u001b[0m\u001b[0mlen\u001b[0m\u001b[0;34m(\u001b[0m\u001b[0mdd\u001b[0m\u001b[0;34m)\u001b[0m\u001b[0;34m,\u001b[0m\u001b[0;36m100\u001b[0m\u001b[0;34m)\u001b[0m \u001b[0;34m)\u001b[0m\u001b[0;34m:\u001b[0m\u001b[0;34m\u001b[0m\u001b[0;34m\u001b[0m\u001b[0m\n\u001b[0;32m----> 4\u001b[0;31m     \u001b[0mget_tokens\u001b[0m\u001b[0;34m(\u001b[0m\u001b[0mdd\u001b[0m\u001b[0;34m.\u001b[0m\u001b[0mwhole_text\u001b[0m\u001b[0;34m[\u001b[0m\u001b[0mi\u001b[0m\u001b[0;34m:\u001b[0m\u001b[0mi\u001b[0m\u001b[0;34m+\u001b[0m\u001b[0;36m100\u001b[0m\u001b[0;34m]\u001b[0m\u001b[0;34m)\u001b[0m\u001b[0;34m\u001b[0m\u001b[0;34m\u001b[0m\u001b[0m\n\u001b[0m\u001b[1;32m      5\u001b[0m     \u001b[0;31m# print(len(dd['whole_text']))\u001b[0m\u001b[0;34m\u001b[0m\u001b[0;34m\u001b[0m\u001b[0;34m\u001b[0m\u001b[0m\n\u001b[1;32m      6\u001b[0m \u001b[0mprint\u001b[0m\u001b[0;34m(\u001b[0m\u001b[0;34mf'batched text took {time.perf_counter() - start}'\u001b[0m\u001b[0;34m)\u001b[0m\u001b[0;34m\u001b[0m\u001b[0;34m\u001b[0m\u001b[0m\n",
      "\u001b[0;32m<ipython-input-6-18e4f80fe578>\u001b[0m in \u001b[0;36m<lambda>\u001b[0;34m(text_list)\u001b[0m\n\u001b[1;32m      2\u001b[0m get_tokens = lambda text_list: list(map(\n\u001b[1;32m      3\u001b[0m     \u001b[0;32mlambda\u001b[0m \u001b[0mdoc\u001b[0m\u001b[0;34m:\u001b[0m \u001b[0mlist\u001b[0m\u001b[0;34m(\u001b[0m\u001b[0mmap\u001b[0m\u001b[0;34m(\u001b[0m\u001b[0;32mlambda\u001b[0m \u001b[0mtok\u001b[0m\u001b[0;34m:\u001b[0m \u001b[0mtok\u001b[0m\u001b[0;34m.\u001b[0m\u001b[0mlemma_\u001b[0m\u001b[0;34m,\u001b[0m \u001b[0mfilter\u001b[0m\u001b[0;34m(\u001b[0m\u001b[0mcustom_filter\u001b[0m\u001b[0;34m,\u001b[0m\u001b[0mdoc\u001b[0m\u001b[0;34m)\u001b[0m\u001b[0;34m)\u001b[0m\u001b[0;34m)\u001b[0m\u001b[0;34m,\u001b[0m\u001b[0;34m\u001b[0m\u001b[0;34m\u001b[0m\u001b[0m\n\u001b[0;32m----> 4\u001b[0;31m     \u001b[0mnlp\u001b[0m\u001b[0;34m.\u001b[0m\u001b[0mpipe\u001b[0m\u001b[0;34m(\u001b[0m\u001b[0mtext_list\u001b[0m\u001b[0;34m,\u001b[0m \u001b[0mdisable\u001b[0m\u001b[0;34m=\u001b[0m\u001b[0;34m[\u001b[0m\u001b[0;34m\"tok2vec\"\u001b[0m\u001b[0;34m,\u001b[0m \u001b[0;34m\"parser\"\u001b[0m\u001b[0;34m,\u001b[0m\u001b[0;34m\"ner\"\u001b[0m\u001b[0;34m]\u001b[0m\u001b[0;34m)\u001b[0m\u001b[0;34m\u001b[0m\u001b[0;34m\u001b[0m\u001b[0m\n\u001b[0m\u001b[1;32m      5\u001b[0m ))\n",
      "\u001b[0;32m/data/blockchain-interoperability/blockchain-social-media/blockchain-sns-env/lib64/python3.6/site-packages/spacy/language.py\u001b[0m in \u001b[0;36mpipe\u001b[0;34m(self, texts, as_tuples, batch_size, disable, component_cfg, n_process)\u001b[0m\n\u001b[1;32m   1587\u001b[0m             \u001b[0;32mfor\u001b[0m \u001b[0mpipe\u001b[0m \u001b[0;32min\u001b[0m \u001b[0mpipes\u001b[0m\u001b[0;34m:\u001b[0m\u001b[0;34m\u001b[0m\u001b[0;34m\u001b[0m\u001b[0m\n\u001b[1;32m   1588\u001b[0m                 \u001b[0mdocs\u001b[0m \u001b[0;34m=\u001b[0m \u001b[0mpipe\u001b[0m\u001b[0;34m(\u001b[0m\u001b[0mdocs\u001b[0m\u001b[0;34m)\u001b[0m\u001b[0;34m\u001b[0m\u001b[0;34m\u001b[0m\u001b[0m\n\u001b[0;32m-> 1589\u001b[0;31m         \u001b[0;32mfor\u001b[0m \u001b[0mdoc\u001b[0m \u001b[0;32min\u001b[0m \u001b[0mdocs\u001b[0m\u001b[0;34m:\u001b[0m\u001b[0;34m\u001b[0m\u001b[0;34m\u001b[0m\u001b[0m\n\u001b[0m\u001b[1;32m   1590\u001b[0m             \u001b[0;32myield\u001b[0m \u001b[0mdoc\u001b[0m\u001b[0;34m\u001b[0m\u001b[0;34m\u001b[0m\u001b[0m\n\u001b[1;32m   1591\u001b[0m \u001b[0;34m\u001b[0m\u001b[0m\n",
      "\u001b[0;32m/data/blockchain-interoperability/blockchain-social-media/blockchain-sns-env/lib64/python3.6/site-packages/spacy/util.py\u001b[0m in \u001b[0;36m_pipe\u001b[0;34m(docs, proc, name, default_error_handler, kwargs)\u001b[0m\n\u001b[1;32m   1649\u001b[0m ) -> Iterator[\"Doc\"]:\n\u001b[1;32m   1650\u001b[0m     \u001b[0;32mif\u001b[0m \u001b[0mhasattr\u001b[0m\u001b[0;34m(\u001b[0m\u001b[0mproc\u001b[0m\u001b[0;34m,\u001b[0m \u001b[0;34m\"pipe\"\u001b[0m\u001b[0;34m)\u001b[0m\u001b[0;34m:\u001b[0m\u001b[0;34m\u001b[0m\u001b[0;34m\u001b[0m\u001b[0m\n\u001b[0;32m-> 1651\u001b[0;31m         \u001b[0;32myield\u001b[0m \u001b[0;32mfrom\u001b[0m \u001b[0mproc\u001b[0m\u001b[0;34m.\u001b[0m\u001b[0mpipe\u001b[0m\u001b[0;34m(\u001b[0m\u001b[0mdocs\u001b[0m\u001b[0;34m,\u001b[0m \u001b[0;34m**\u001b[0m\u001b[0mkwargs\u001b[0m\u001b[0;34m)\u001b[0m\u001b[0;34m\u001b[0m\u001b[0;34m\u001b[0m\u001b[0m\n\u001b[0m\u001b[1;32m   1652\u001b[0m     \u001b[0;32melse\u001b[0m\u001b[0;34m:\u001b[0m\u001b[0;34m\u001b[0m\u001b[0;34m\u001b[0m\u001b[0m\n\u001b[1;32m   1653\u001b[0m         \u001b[0;31m# We added some args for pipe that __call__ doesn't expect.\u001b[0m\u001b[0;34m\u001b[0m\u001b[0;34m\u001b[0m\u001b[0;34m\u001b[0m\u001b[0m\n",
      "\u001b[0;32m/data/blockchain-interoperability/blockchain-social-media/blockchain-sns-env/lib64/python3.6/site-packages/spacy/pipeline/pipe.pyx\u001b[0m in \u001b[0;36mpipe\u001b[0;34m()\u001b[0m\n",
      "\u001b[0;32m/data/blockchain-interoperability/blockchain-social-media/blockchain-sns-env/lib64/python3.6/site-packages/spacy/util.py\u001b[0m in \u001b[0;36m_pipe\u001b[0;34m(docs, proc, name, default_error_handler, kwargs)\u001b[0m\n\u001b[1;32m   1649\u001b[0m ) -> Iterator[\"Doc\"]:\n\u001b[1;32m   1650\u001b[0m     \u001b[0;32mif\u001b[0m \u001b[0mhasattr\u001b[0m\u001b[0;34m(\u001b[0m\u001b[0mproc\u001b[0m\u001b[0;34m,\u001b[0m \u001b[0;34m\"pipe\"\u001b[0m\u001b[0;34m)\u001b[0m\u001b[0;34m:\u001b[0m\u001b[0;34m\u001b[0m\u001b[0;34m\u001b[0m\u001b[0m\n\u001b[0;32m-> 1651\u001b[0;31m         \u001b[0;32myield\u001b[0m \u001b[0;32mfrom\u001b[0m \u001b[0mproc\u001b[0m\u001b[0;34m.\u001b[0m\u001b[0mpipe\u001b[0m\u001b[0;34m(\u001b[0m\u001b[0mdocs\u001b[0m\u001b[0;34m,\u001b[0m \u001b[0;34m**\u001b[0m\u001b[0mkwargs\u001b[0m\u001b[0;34m)\u001b[0m\u001b[0;34m\u001b[0m\u001b[0;34m\u001b[0m\u001b[0m\n\u001b[0m\u001b[1;32m   1652\u001b[0m     \u001b[0;32melse\u001b[0m\u001b[0;34m:\u001b[0m\u001b[0;34m\u001b[0m\u001b[0;34m\u001b[0m\u001b[0m\n\u001b[1;32m   1653\u001b[0m         \u001b[0;31m# We added some args for pipe that __call__ doesn't expect.\u001b[0m\u001b[0;34m\u001b[0m\u001b[0;34m\u001b[0m\u001b[0;34m\u001b[0m\u001b[0m\n",
      "\u001b[0;32m/data/blockchain-interoperability/blockchain-social-media/blockchain-sns-env/lib64/python3.6/site-packages/spacy/pipeline/pipe.pyx\u001b[0m in \u001b[0;36mpipe\u001b[0;34m()\u001b[0m\n",
      "\u001b[0;32m/data/blockchain-interoperability/blockchain-social-media/blockchain-sns-env/lib64/python3.6/site-packages/spacy/util.py\u001b[0m in \u001b[0;36m_pipe\u001b[0;34m(docs, proc, name, default_error_handler, kwargs)\u001b[0m\n\u001b[1;32m   1649\u001b[0m ) -> Iterator[\"Doc\"]:\n\u001b[1;32m   1650\u001b[0m     \u001b[0;32mif\u001b[0m \u001b[0mhasattr\u001b[0m\u001b[0;34m(\u001b[0m\u001b[0mproc\u001b[0m\u001b[0;34m,\u001b[0m \u001b[0;34m\"pipe\"\u001b[0m\u001b[0;34m)\u001b[0m\u001b[0;34m:\u001b[0m\u001b[0;34m\u001b[0m\u001b[0;34m\u001b[0m\u001b[0m\n\u001b[0;32m-> 1651\u001b[0;31m         \u001b[0;32myield\u001b[0m \u001b[0;32mfrom\u001b[0m \u001b[0mproc\u001b[0m\u001b[0;34m.\u001b[0m\u001b[0mpipe\u001b[0m\u001b[0;34m(\u001b[0m\u001b[0mdocs\u001b[0m\u001b[0;34m,\u001b[0m \u001b[0;34m**\u001b[0m\u001b[0mkwargs\u001b[0m\u001b[0;34m)\u001b[0m\u001b[0;34m\u001b[0m\u001b[0;34m\u001b[0m\u001b[0m\n\u001b[0m\u001b[1;32m   1652\u001b[0m     \u001b[0;32melse\u001b[0m\u001b[0;34m:\u001b[0m\u001b[0;34m\u001b[0m\u001b[0;34m\u001b[0m\u001b[0m\n\u001b[1;32m   1653\u001b[0m         \u001b[0;31m# We added some args for pipe that __call__ doesn't expect.\u001b[0m\u001b[0;34m\u001b[0m\u001b[0;34m\u001b[0m\u001b[0;34m\u001b[0m\u001b[0m\n",
      "\u001b[0;32m/data/blockchain-interoperability/blockchain-social-media/blockchain-sns-env/lib64/python3.6/site-packages/spacy/pipeline/trainable_pipe.pyx\u001b[0m in \u001b[0;36mpipe\u001b[0;34m()\u001b[0m\n",
      "\u001b[0;32m/data/blockchain-interoperability/blockchain-social-media/blockchain-sns-env/lib64/python3.6/site-packages/spacy/pipeline/tagger.pyx\u001b[0m in \u001b[0;36mspacy.pipeline.tagger.Tagger.predict\u001b[0;34m()\u001b[0m\n",
      "\u001b[0;32m/data/blockchain-interoperability/blockchain-social-media/blockchain-sns-env/lib64/python3.6/site-packages/spacy/pipeline/tagger.pyx\u001b[0m in \u001b[0;36mspacy.pipeline.tagger.Tagger._scores2guesses\u001b[0;34m()\u001b[0m\n",
      "\u001b[0;32mcupy/_core/core.pyx\u001b[0m in \u001b[0;36mcupy._core.core.ndarray.get\u001b[0;34m()\u001b[0m\n",
      "\u001b[0;32mcupy/_core/core.pyx\u001b[0m in \u001b[0;36mcupy._core.core.ndarray.get\u001b[0;34m()\u001b[0m\n",
      "\u001b[0;32m/data/blockchain-interoperability/blockchain-social-media/blockchain-sns-env/lib64/python3.6/site-packages/cupy/_core/syncdetect.py\u001b[0m in \u001b[0;36m_declare_synchronize\u001b[0;34m()\u001b[0m\n\u001b[1;32m     30\u001b[0m \u001b[0;34m\u001b[0m\u001b[0m\n\u001b[1;32m     31\u001b[0m \u001b[0;34m\u001b[0m\u001b[0m\n\u001b[0;32m---> 32\u001b[0;31m \u001b[0;32mdef\u001b[0m \u001b[0m_declare_synchronize\u001b[0m\u001b[0;34m(\u001b[0m\u001b[0;34m)\u001b[0m\u001b[0;34m:\u001b[0m\u001b[0;34m\u001b[0m\u001b[0;34m\u001b[0m\u001b[0m\n\u001b[0m\u001b[1;32m     33\u001b[0m     \u001b[0;31m# Raises DeviceSynchronized if device synchronization is disallowed in\u001b[0m\u001b[0;34m\u001b[0m\u001b[0;34m\u001b[0m\u001b[0;34m\u001b[0m\u001b[0m\n\u001b[1;32m     34\u001b[0m     \u001b[0;31m# the current thread.\u001b[0m\u001b[0;34m\u001b[0m\u001b[0;34m\u001b[0m\u001b[0;34m\u001b[0m\u001b[0m\n",
      "\u001b[0;31mKeyboardInterrupt\u001b[0m: "
     ]
    }
   ],
   "source": [
    "start = time.perf_counter()\n",
    "\n",
    "for i in tqdm(range(0,len(dd),100) ):\n",
    "    get_tokens(dd.whole_text[i:i+100])\n",
    "    # print(len(dd['whole_text']))\n",
    "print(f'batched text took {time.perf_counter() - start}')\n"
   ]
  },
  {
   "cell_type": "code",
   "execution_count": 3,
   "metadata": {},
   "outputs": [
    {
     "name": "stderr",
     "output_type": "stream",
     "text": [
      "100%|██████████| 43/43 [02:49<00:00,  3.94s/it]\n"
     ]
    }
   ],
   "source": [
    "from collect_data import load_cache\n",
    "\n",
    "raw_data = load_cache('/data/blockchain-interoperability/blockchain-social-media/analysis/twitter/snapshots/')\n",
    "\n"
   ]
  },
  {
   "cell_type": "code",
   "execution_count": 9,
   "metadata": {},
   "outputs": [
    {
     "data": {
      "text/plain": [
       "((4262198,), (4262198, 16))"
      ]
     },
     "execution_count": 9,
     "metadata": {},
     "output_type": "execute_result"
    }
   ],
   "source": [
    "raw_data.id.unique().shape,raw_data.shape"
   ]
  },
  {
   "cell_type": "code",
   "execution_count": 10,
   "metadata": {},
   "outputs": [
    {
     "data": {
      "text/html": [
       "<div>\n",
       "<style scoped>\n",
       "    .dataframe tbody tr th:only-of-type {\n",
       "        vertical-align: middle;\n",
       "    }\n",
       "\n",
       "    .dataframe tbody tr th {\n",
       "        vertical-align: top;\n",
       "    }\n",
       "\n",
       "    .dataframe thead th {\n",
       "        text-align: right;\n",
       "    }\n",
       "</style>\n",
       "<table border=\"1\" class=\"dataframe\">\n",
       "  <thead>\n",
       "    <tr style=\"text-align: right;\">\n",
       "      <th></th>\n",
       "      <th>in_reply_to_status_id</th>\n",
       "      <th>created_at</th>\n",
       "      <th>truncated</th>\n",
       "      <th>timestamp_ms</th>\n",
       "      <th>reply_count</th>\n",
       "      <th>retweet_count</th>\n",
       "      <th>entities.hashtags</th>\n",
       "      <th>favorite_count</th>\n",
       "      <th>id</th>\n",
       "      <th>text</th>\n",
       "      <th>lang</th>\n",
       "      <th>quote_count</th>\n",
       "      <th>user.description</th>\n",
       "      <th>user.id</th>\n",
       "      <th>extended_tweet.entities.hashtags</th>\n",
       "      <th>extended_tweet.full_text</th>\n",
       "    </tr>\n",
       "  </thead>\n",
       "  <tbody>\n",
       "    <tr>\n",
       "      <th>0</th>\n",
       "      <td>1.591014e+18</td>\n",
       "      <td>2022-11-11 12:03:53+00:00</td>\n",
       "      <td>False</td>\n",
       "      <td>2022-11-11 12:03:53.965</td>\n",
       "      <td>0</td>\n",
       "      <td>0</td>\n",
       "      <td>[]</td>\n",
       "      <td>0</td>\n",
       "      <td>1591039006850310148</td>\n",
       "      <td>@0x5ab0 @Uniswap oh, missed fiat part, just sa...</td>\n",
       "      <td>en</td>\n",
       "      <td>0</td>\n",
       "      <td>@basinDAO cures my obsessions with #naturalcap...</td>\n",
       "      <td>333239871</td>\n",
       "      <td>None</td>\n",
       "      <td>None</td>\n",
       "    </tr>\n",
       "    <tr>\n",
       "      <th>1</th>\n",
       "      <td>NaN</td>\n",
       "      <td>2022-11-11 12:03:53+00:00</td>\n",
       "      <td>True</td>\n",
       "      <td>2022-11-11 12:03:53.946</td>\n",
       "      <td>0</td>\n",
       "      <td>0</td>\n",
       "      <td>[]</td>\n",
       "      <td>0</td>\n",
       "      <td>1591039006770622468</td>\n",
       "      <td>Never seen such a deal for a punk since 2017! ...</td>\n",
       "      <td>en</td>\n",
       "      <td>0</td>\n",
       "      <td>Зөөгчөө нэг шоот хайр авъя,.. #NoWar #SlavaUkr...</td>\n",
       "      <td>1590345908172083201</td>\n",
       "      <td>[]</td>\n",
       "      <td>Never seen such a deal for a punk since 2017! ...</td>\n",
       "    </tr>\n",
       "    <tr>\n",
       "      <th>2</th>\n",
       "      <td>NaN</td>\n",
       "      <td>2022-11-11 12:03:53+00:00</td>\n",
       "      <td>True</td>\n",
       "      <td>2022-11-11 12:03:53.882</td>\n",
       "      <td>0</td>\n",
       "      <td>0</td>\n",
       "      <td>[]</td>\n",
       "      <td>0</td>\n",
       "      <td>1591039006501994503</td>\n",
       "      <td>Collection: ens \\n Sold for: 1.0040189 Eth (12...</td>\n",
       "      <td>en</td>\n",
       "      <td>0</td>\n",
       "      <td>Tracks sale/purchase of whale NFT accounts   \\...</td>\n",
       "      <td>1520781667769614337</td>\n",
       "      <td>[{'indices': [169, 173], 'text': 'ens'}, {'ind...</td>\n",
       "      <td>Collection: ens \\n Sold for: 1.0040189 Eth (12...</td>\n",
       "    </tr>\n",
       "    <tr>\n",
       "      <th>3</th>\n",
       "      <td>NaN</td>\n",
       "      <td>2022-11-10 06:05:54+00:00</td>\n",
       "      <td>False</td>\n",
       "      <td>NaT</td>\n",
       "      <td>0</td>\n",
       "      <td>4</td>\n",
       "      <td>[{'indices': [56, 69], 'text': 'LoveOnTourLA'}...</td>\n",
       "      <td>5</td>\n",
       "      <td>1590586526303686657</td>\n",
       "      <td>🎥 Harry singing Music For A Sushi Restaurant !...</td>\n",
       "      <td>en</td>\n",
       "      <td>0</td>\n",
       "      <td>Accept what is, let go of what was, and have f...</td>\n",
       "      <td>786084425406832644</td>\n",
       "      <td>None</td>\n",
       "      <td>None</td>\n",
       "    </tr>\n",
       "    <tr>\n",
       "      <th>4</th>\n",
       "      <td>NaN</td>\n",
       "      <td>2022-11-11 12:03:54+00:00</td>\n",
       "      <td>True</td>\n",
       "      <td>2022-11-11 12:03:54.075</td>\n",
       "      <td>0</td>\n",
       "      <td>0</td>\n",
       "      <td>[]</td>\n",
       "      <td>0</td>\n",
       "      <td>1591039007311683585</td>\n",
       "      <td>AAVE Airdrop iis now live. You can easily clai...</td>\n",
       "      <td>en</td>\n",
       "      <td>0</td>\n",
       "      <td>Kunji is meant to help people who want to pass...</td>\n",
       "      <td>1589700910883676160</td>\n",
       "      <td>[]</td>\n",
       "      <td>AAVE Airdrop iis now live. You can easily clai...</td>\n",
       "    </tr>\n",
       "  </tbody>\n",
       "</table>\n",
       "</div>"
      ],
      "text/plain": [
       "   in_reply_to_status_id                created_at  truncated  \\\n",
       "0           1.591014e+18 2022-11-11 12:03:53+00:00      False   \n",
       "1                    NaN 2022-11-11 12:03:53+00:00       True   \n",
       "2                    NaN 2022-11-11 12:03:53+00:00       True   \n",
       "3                    NaN 2022-11-10 06:05:54+00:00      False   \n",
       "4                    NaN 2022-11-11 12:03:54+00:00       True   \n",
       "\n",
       "             timestamp_ms  reply_count  retweet_count  \\\n",
       "0 2022-11-11 12:03:53.965            0              0   \n",
       "1 2022-11-11 12:03:53.946            0              0   \n",
       "2 2022-11-11 12:03:53.882            0              0   \n",
       "3                     NaT            0              4   \n",
       "4 2022-11-11 12:03:54.075            0              0   \n",
       "\n",
       "                                   entities.hashtags  favorite_count  \\\n",
       "0                                                 []               0   \n",
       "1                                                 []               0   \n",
       "2                                                 []               0   \n",
       "3  [{'indices': [56, 69], 'text': 'LoveOnTourLA'}...               5   \n",
       "4                                                 []               0   \n",
       "\n",
       "                    id                                               text  \\\n",
       "0  1591039006850310148  @0x5ab0 @Uniswap oh, missed fiat part, just sa...   \n",
       "1  1591039006770622468  Never seen such a deal for a punk since 2017! ...   \n",
       "2  1591039006501994503  Collection: ens \\n Sold for: 1.0040189 Eth (12...   \n",
       "3  1590586526303686657  🎥 Harry singing Music For A Sushi Restaurant !...   \n",
       "4  1591039007311683585  AAVE Airdrop iis now live. You can easily clai...   \n",
       "\n",
       "  lang  quote_count                                   user.description  \\\n",
       "0   en            0  @basinDAO cures my obsessions with #naturalcap...   \n",
       "1   en            0  Зөөгчөө нэг шоот хайр авъя,.. #NoWar #SlavaUkr...   \n",
       "2   en            0  Tracks sale/purchase of whale NFT accounts   \\...   \n",
       "3   en            0  Accept what is, let go of what was, and have f...   \n",
       "4   en            0  Kunji is meant to help people who want to pass...   \n",
       "\n",
       "               user.id                   extended_tweet.entities.hashtags  \\\n",
       "0            333239871                                               None   \n",
       "1  1590345908172083201                                                 []   \n",
       "2  1520781667769614337  [{'indices': [169, 173], 'text': 'ens'}, {'ind...   \n",
       "3   786084425406832644                                               None   \n",
       "4  1589700910883676160                                                 []   \n",
       "\n",
       "                            extended_tweet.full_text  \n",
       "0                                               None  \n",
       "1  Never seen such a deal for a punk since 2017! ...  \n",
       "2  Collection: ens \\n Sold for: 1.0040189 Eth (12...  \n",
       "3                                               None  \n",
       "4  AAVE Airdrop iis now live. You can easily clai...  "
      ]
     },
     "execution_count": 10,
     "metadata": {},
     "output_type": "execute_result"
    }
   ],
   "source": [
    "raw_data.head()"
   ]
  },
  {
   "cell_type": "markdown",
   "metadata": {},
   "source": [
    "If trucated is False, that means text has the full text. If True, extended_tweet.full_text has the full text.\n",
    "\n",
    "\n",
    "Note: scroll query to get everything in index"
   ]
  },
  {
   "cell_type": "code",
   "execution_count": 12,
   "metadata": {},
   "outputs": [
    {
     "data": {
      "text/plain": [
       "Index(['in_reply_to_status_id', 'created_at', 'truncated', 'timestamp_ms',\n",
       "       'reply_count', 'retweet_count', 'entities.hashtags', 'favorite_count',\n",
       "       'id', 'text', 'lang', 'quote_count', 'user.description', 'user.id',\n",
       "       'extended_tweet.entities.hashtags', 'extended_tweet.full_text'],\n",
       "      dtype='object')"
      ]
     },
     "execution_count": 12,
     "metadata": {},
     "output_type": "execute_result"
    }
   ],
   "source": [
    "raw_data.columns"
   ]
  },
  {
   "cell_type": "code",
   "execution_count": 15,
   "metadata": {},
   "outputs": [
    {
     "data": {
      "text/plain": [
       "False"
      ]
     },
     "execution_count": 15,
     "metadata": {},
     "output_type": "execute_result"
    }
   ],
   "source": [
    "(raw_data['whole_text'] == '').any()\n",
    "\n",
    "# very good!"
   ]
  }
 ],
 "metadata": {
  "kernelspec": {
   "display_name": "Python 3.6.8 ('blockchain-sns-env')",
   "language": "python",
   "name": "python3"
  },
  "language_info": {
   "codemirror_mode": {
    "name": "ipython",
    "version": 3
   },
   "file_extension": ".py",
   "mimetype": "text/x-python",
   "name": "python",
   "nbconvert_exporter": "python",
   "pygments_lexer": "ipython3",
   "version": "3.6.8"
  },
  "vscode": {
   "interpreter": {
    "hash": "6cd29d4fa90de0455862d632ba5d82eded8ec761054fa1c425c75462c69e58ed"
   }
  }
 },
 "nbformat": 4,
 "nbformat_minor": 2
}
