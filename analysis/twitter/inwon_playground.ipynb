{
 "cells": [
  {
   "cell_type": "code",
   "execution_count": 2,
   "metadata": {},
   "outputs": [
    {
     "data": {
      "application/vnd.jupyter.widget-view+json": {
       "model_id": "dd782448bb7d4399af41ed1723de77a2",
       "version_major": 2,
       "version_minor": 0
      },
      "text/plain": [
       "loading from timestamp:   0%|          | 0/221 [00:00<?, ?it/s]"
      ]
     },
     "metadata": {},
     "output_type": "display_data"
    },
    {
     "data": {
      "application/vnd.jupyter.widget-view+json": {
       "model_id": "ba607c03152f4a96a088a49b686fa989",
       "version_major": 2,
       "version_minor": 0
      },
      "text/plain": [
       "loading tokens...:   0%|          | 0/221 [00:00<?, ?it/s]"
      ]
     },
     "metadata": {},
     "output_type": "display_data"
    },
    {
     "name": "stdout",
     "output_type": "stream",
     "text": [
      "no spam here!\n",
      "loaded dataset. took 108.68444532714784 ms. Got 18932577 items\n"
     ]
    }
   ],
   "source": [
    "from dataset import TwitterDataset\n",
    "\n",
    "\n",
    "\n",
    "dset = TwitterDataset(\n",
    "    'timestamp',\n",
    "    'spam_idx.pkl',\n",
    "    # whole_text_path='whole_text',\n",
    "    token_path = 'tokens/text',\n",
    "    # filter_spam = True\n",
    ")\n"
   ]
  },
  {
   "cell_type": "code",
   "execution_count": 3,
   "metadata": {},
   "outputs": [],
   "source": [
    "import pickle\n",
    "\n",
    "ss = pickle.load(open('spam_idx.pkl','rb'))\n"
   ]
  },
  {
   "cell_type": "code",
   "execution_count": 4,
   "metadata": {},
   "outputs": [
    {
     "data": {
      "text/plain": [
       "1979160"
      ]
     },
     "execution_count": 4,
     "metadata": {},
     "output_type": "execute_result"
    }
   ],
   "source": [
    "len(ss)"
   ]
  },
  {
   "cell_type": "code",
   "execution_count": 2,
   "metadata": {},
   "outputs": [
    {
     "data": {
      "application/vnd.jupyter.widget-view+json": {
       "model_id": "8722d622d3e440b69d727860966a4fc9",
       "version_major": 2,
       "version_minor": 0
      },
      "text/plain": [
       "making 3 grams..:   0%|          | 0/20050096 [00:00<?, ?it/s]"
      ]
     },
     "metadata": {},
     "output_type": "display_data"
    }
   ],
   "source": [
    "from ngrams import count_grams\n",
    "by_count = count_grams(dset, 3, ' ')"
   ]
  },
  {
   "cell_type": "code",
   "execution_count": 26,
   "metadata": {},
   "outputs": [
    {
     "data": {
      "text/plain": [
       "<AxesSubplot:xlabel='Frequency', ylabel='3-Gram'>"
      ]
     },
     "execution_count": 26,
     "metadata": {},
     "output_type": "execute_result"
    },
    {
     "data": {
      "image/png": "[encoded data removed]",
      "text/plain": [
       "<Figure size 144x252 with 1 Axes>"
      ]
     },
     "metadata": {
      "needs_background": "light"
     },
     "output_type": "display_data"
    }
   ],
   "source": [
    "import matplotlib.pyplot as plt\n",
    "import seaborn as sns\n",
    "import pandas as pd\n",
    "\n",
    "fig,ax = plt.subplots(figsize=(2,3.5))\n",
    "\n",
    "df = pd.DataFrame(by_count[:20],columns=[f'{3}-Gram','Frequency'])\n",
    "sns.barplot(\n",
    "    data=df,\n",
    "    x = 'Frequency',\n",
    "    y = f'{3}-Gram',\n",
    "    ax=ax\n",
    ")\n",
    "# t = ax.xaxis.get_offset_text()\n",
    "# t.set_y(0)\n",
    "\n",
    "# ax.xaxis.set_label_coords(0.5, -.15)\n",
    "\n",
    "# plt.tight_layout()"
   ]
  },
  {
   "cell_type": "code",
   "execution_count": 25,
   "metadata": {},
   "outputs": [],
   "source": [
    "fig.savefig('test.pdf')"
   ]
  }
 ],
 "metadata": {
  "kernelspec": {
   "display_name": "Python 3.6.8 ('blockchain-sns-env')",
   "language": "python",
   "name": "python3"
  },
  "language_info": {
   "codemirror_mode": {
    "name": "ipython",
    "version": 3
   },
   "file_extension": ".py",
   "mimetype": "text/x-python",
   "name": "python",
   "nbconvert_exporter": "python",
   "pygments_lexer": "ipython3",
   "version": "3.6.8"
  },
  "vscode": {
   "interpreter": {
    "hash": "6cd29d4fa90de0455862d632ba5d82eded8ec761054fa1c425c75462c69e58ed"
   }
  }
 },
 "nbformat": 4,
 "nbformat_minor": 2
}
