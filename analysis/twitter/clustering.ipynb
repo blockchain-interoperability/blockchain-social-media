{
 "cells": [
  {
   "cell_type": "code",
   "execution_count": 1,
   "metadata": {},
   "outputs": [
    {
     "data": {
      "text/plain": [
       "KMeans(n_clusters=4, random_state=0)"
      ]
     },
     "execution_count": 1,
     "metadata": {},
     "output_type": "execute_result"
    }
   ],
   "source": [
    "from embeddings import load_embeddings\n",
    "from sklearn.cluster import KMeans\n",
    "import torch\n",
    "\n",
    "#load embeddings-temporarily using small batch for testing-replace with dataset later\n",
    "small_batch = torch.load('embeddings/all-MiniLM-L6-v2/00100000.pkl')\n",
    "\n",
    "km = KMeans(n_clusters=4,random_state=0)\n",
    "km.fit(small_batch)"
   ]
  },
  {
   "cell_type": "code",
   "execution_count": 2,
   "metadata": {},
   "outputs": [
    {
     "name": "stdout",
     "output_type": "stream",
     "text": [
      "[3 3 1 ... 0 1 3]\n"
     ]
    }
   ],
   "source": [
    "#ensure clustering occurred for basic test\n",
    "print(km.labels_)"
   ]
  },
  {
   "cell_type": "code",
   "execution_count": 3,
   "metadata": {},
   "outputs": [],
   "source": [
    "cluster_count = range(2, 6)\n",
    "\n",
    "km_multiple = [KMeans(n_clusters=i) for i in cluster_count]\n",
    "#jsquared errors for evaluating internal consistency in clusters\n",
    "fits = [i.fit(small_batch).score(small_batch) for i in km_multiple]"
   ]
  },
  {
   "cell_type": "code",
   "execution_count": 4,
   "metadata": {},
   "outputs": [
    {
     "data": {
      "image/png": "[encoded data removed]",
      "text/plain": [
       "<Figure size 432x288 with 1 Axes>"
      ]
     },
     "metadata": {
      "needs_background": "light"
     },
     "output_type": "display_data"
    }
   ],
   "source": [
    "import matplotlib.pyplot as plt\n",
    "\n",
    "plt.plot(cluster_count, fits)\n",
    "plt.xlabel(\"Cluster Numbers\")\n",
    "plt.ylabel(\"J Squared Errors\")\n",
    "plt.show()"
   ]
  },
  {
   "cell_type": "code",
   "execution_count": null,
   "metadata": {},
   "outputs": [],
   "source": [
    "import numpy as np\n",
    "\n",
    "pred = km_multiple[4].fit(small_batch)\n",
    "#We want to find the top feature vectors per cluster\n",
    "#only consider unique \"words\"\n",
    "labels = np.unique(pred)\n"
   ]
  },
  {
   "cell_type": "code",
   "execution_count": 3,
   "metadata": {},
   "outputs": [
    {
     "data": {
      "application/vnd.jupyter.widget-view+json": {
       "model_id": "2e8b17872a714c1fa9b7cc28814206e1",
       "version_major": 2,
       "version_minor": 0
      },
      "text/plain": [
       "loading from timestamp:   0%|          | 0/221 [00:00<?, ?it/s]"
      ]
     },
     "metadata": {},
     "output_type": "display_data"
    },
    {
     "data": {
      "application/vnd.jupyter.widget-view+json": {
       "model_id": "f7aeba231a27426bb23e3fbc1c1b8ca3",
       "version_major": 2,
       "version_minor": 0
      },
      "text/plain": [
       "loading embeddings..:   0%|          | 0/221 [00:00<?, ?it/s]"
      ]
     },
     "metadata": {},
     "output_type": "display_data"
    },
    {
     "name": "stdout",
     "output_type": "stream",
     "text": [
      "loaded dataset. took 108.44935349747539 ms\n"
     ]
    }
   ],
   "source": [
    "import torch\n",
    "import pandas as pd\n",
    "import json\n",
    "# from torch.utils.data import DataLoader, SequentialSampler\n",
    "from sklearn.preprocessing import MaxAbsScaler\n",
    "import numpy as np\n",
    "from sklearn.cluster import KMeans\n",
    "from collections import Counter\n",
    "from itertools import chain\n",
    "from tqdm.auto import tqdm\n",
    "from pathlib import Path\n",
    "\n",
    "from dataset import TwitterDataset\n",
    "from autoencoders import load_encoder\n",
    "\n",
    "dset = TwitterDataset(\n",
    "    'timestamp',\n",
    "    'sentiment/vader/',\n",
    "    # whole_text_path = 'whole_text',\n",
    "    # token_path = 'tokens/text',\n",
    "    embedding_path = 'embeddings/all-MiniLM-L6-v2/',\n",
    ")"
   ]
  },
  {
   "cell_type": "code",
   "execution_count": 4,
   "metadata": {},
   "outputs": [],
   "source": [
    "model = load_encoder('models/LinearAutoEncoder.pkl','linear')\n",
    "for p in model.parameters():\n",
    "    p.requires_grad = False"
   ]
  },
  {
   "cell_type": "code",
   "execution_count": 20,
   "metadata": {},
   "outputs": [],
   "source": [
    "from sklearn.metrics import silhouette_score\n",
    "from sklearn.cluster import MiniBatchKMeans\n",
    "size = 1000000\n",
    "model = model.cuda()\n",
    "\n",
    "#find elbow using inertia and distortion\n",
    "#use minibatch for optimal k computation to speed up calculations\n",
    "cluster_count = range(2, 11)\n",
    "batched_elbows = [0]*len(cluster_count)\n",
    "sillhouettes = [0]*len(cluster_count)\n",
    "km_multiple = [MiniBatchKMeans(n_clusters=i, max_iter=100) for i in cluster_count]"
   ]
  },
  {
   "cell_type": "code",
   "execution_count": 21,
   "metadata": {},
   "outputs": [],
   "source": [
    "it_count = 0\n",
    "for i in range(len(dset.embedding)):\n",
    "  it_count+=1\n",
    "  inp = dset.embedding[i*size: (i+1)*size].cuda()\n",
    "  out = model.encoder(inp).cpu().numpy()\n",
    "  if len(out) == 0:\n",
    "    break\n",
    "  fits = [i.fit(out) for i in km_multiple]\n",
    "  inertias = [i.inertia_ for i in fits]\n",
    "  s_scores = [silhouette_score(out, i.labels_) for i in fits]\n",
    "  sillhouettes = [a+b for a,b in zip(s_scores, sillhouettes)]\n",
    "  batched_elbows = [a+b for a, b in zip(fits, batched_elbows)]\n",
    "  \n",
    "  del out\n",
    "  #jsquared errors for evaluating internal consistency in clusters"
   ]
  },
  {
   "cell_type": "code",
   "execution_count": null,
   "metadata": {},
   "outputs": [
    {
     "data": {
      "image/png": "[encoded data removed]",
      "text/plain": [
       "<Figure size 432x288 with 1 Axes>"
      ]
     },
     "metadata": {
      "needs_background": "light"
     },
     "output_type": "display_data"
    }
   ],
   "source": [
    "import matplotlib.pyplot as plt\n",
    "\n",
    "results = [x/it_count for x in batched_elbows]\n",
    "plt.plot(cluster_count, results)\n",
    "plt.xlabel(\"Cluster Numbers\")\n",
    "plt.ylabel(\"J Squared Errors\")\n",
    "plt.show()"
   ]
  },
  {
   "cell_type": "code",
   "execution_count": null,
   "metadata": {},
   "outputs": [
    {
     "data": {
      "text/plain": [
       "5"
      ]
     },
     "execution_count": 13,
     "metadata": {},
     "output_type": "execute_result"
    }
   ],
   "source": [
    "from kneed import KneeLocator\n",
    "knee_loc = KneeLocator(range(2, 11), batched_elbows, curve=\"convex\", direction=\"decreasing\")\n",
    "knee_loc.elbow"
   ]
  },
  {
   "cell_type": "code",
   "execution_count": null,
   "metadata": {},
   "outputs": [],
   "source": [
    "from sklearn.cluster import DBSCAN\n",
    "\n",
    "batched_dbelbows = [0]*len(cluster_count)\n",
    "db_multiple = [DBSCAN(n_clusters=i, max_iter=100) for i in cluster_count]"
   ]
  }
 ],
 "metadata": {
  "kernelspec": {
   "display_name": "Python [default]",
   "language": "python",
   "name": "python3"
  },
  "language_info": {
   "codemirror_mode": {
    "name": "ipython",
    "version": 3
   },
   "file_extension": ".py",
   "mimetype": "text/x-python",
   "name": "python",
   "nbconvert_exporter": "python",
   "pygments_lexer": "ipython3",
   "version": "3.6.8"
  },
  "vscode": {
   "interpreter": {
    "hash": "3569005b0642eb5115e0ae3381c5a0e0cb8b0deb015354359b99fb2965157b3e"
   }
  }
 },
 "nbformat": 4,
 "nbformat_minor": 2
}
