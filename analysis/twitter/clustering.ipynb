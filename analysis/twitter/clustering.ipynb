{
 "cells": [
  {
   "cell_type": "code",
   "execution_count": 1,
   "metadata": {},
   "outputs": [
    {
     "data": {
      "application/vnd.jupyter.widget-view+json": {
       "model_id": "aaaf0885600d4902b9488db08645aefb",
       "version_major": 2,
       "version_minor": 0
      },
      "text/plain": [
       "loading from timestamp:   0%|          | 0/221 [00:00<?, ?it/s]"
      ]
     },
     "metadata": {},
     "output_type": "display_data"
    },
    {
     "data": {
      "application/vnd.jupyter.widget-view+json": {
       "model_id": "f4d287505b2d4b5abc7c4d61a9d3049a",
       "version_major": 2,
       "version_minor": 0
      },
      "text/plain": [
       "loading sentiment..:   0%|          | 0/221 [00:00<?, ?it/s]"
      ]
     },
     "metadata": {},
     "output_type": "display_data"
    },
    {
     "data": {
      "application/vnd.jupyter.widget-view+json": {
       "model_id": "87ab197b3c5f4dc7b6121eb99e4ef6a1",
       "version_major": 2,
       "version_minor": 0
      },
      "text/plain": [
       "loading embeddings..:   0%|          | 0/221 [00:00<?, ?it/s]"
      ]
     },
     "metadata": {},
     "output_type": "display_data"
    },
    {
     "name": "stdout",
     "output_type": "stream",
     "text": [
      "no spam here!\n",
      "loaded dataset. took 161.7367698289454 ms. Got 18932577 items\n"
     ]
    }
   ],
   "source": [
    "import torch\n",
    "import pandas as pd\n",
    "import json\n",
    "# from torch.utils.data import DataLoader, SequentialSampler\n",
    "from sklearn.preprocessing import MaxAbsScaler\n",
    "import numpy as np\n",
    "from sklearn.cluster import KMeans\n",
    "from collections import Counter\n",
    "from itertools import chain\n",
    "from tqdm.auto import tqdm\n",
    "from pathlib import Path\n",
    "\n",
    "from dataset import TwitterDataset\n",
    "from autoencoders import load_encoder\n",
    "\n",
    "dset = TwitterDataset(\n",
    "    'timestamp',\n",
    "    spam_idx_path=\"spam_idx.pkl\",\n",
    "    sentiment_path='sentiment/vader/',\n",
    "    # whole_text_path = 'whole_text',\n",
    "    # token_path = 'tokens/text',\n",
    "    embedding_path = 'embeddings/all-MiniLM-L6-v2/',\n",
    ")"
   ]
  },
  {
   "cell_type": "code",
   "execution_count": 2,
   "metadata": {},
   "outputs": [],
   "source": [
    "model = load_encoder('models/LinearAutoEncoder.pkl','linear')\n",
    "for p in model.parameters():\n",
    "    p.requires_grad = False"
   ]
  },
  {
   "cell_type": "code",
   "execution_count": 7,
   "metadata": {},
   "outputs": [],
   "source": [
    "from sklearn.metrics import silhouette_score\n",
    "from sklearn.cluster import MiniBatchKMeans\n",
    "import time\n",
    "\n",
    "size = 1000000\n",
    "model = model.cuda()\n",
    "\n",
    "#find elbow using inertia and distortion\n",
    "#use minibatch for optimal k computation to speed up calculations\n",
    "cluster_count = range(2, 20)\n",
    "batched_elbows = [0]*len(cluster_count)\n",
    "km_multiple = [MiniBatchKMeans(n_clusters=i, max_iter=100) for i in cluster_count]"
   ]
  },
  {
   "cell_type": "code",
   "execution_count": 8,
   "metadata": {},
   "outputs": [
    {
     "name": "stdout",
     "output_type": "stream",
     "text": [
      "Iteration 1 Time taken:  50.556731935590506 seconds\n",
      "Iteration 2 Time taken:  33.87366230040789 seconds\n",
      "Iteration 3 Time taken:  44.505744667723775 seconds\n",
      "Iteration 4 Time taken:  34.44819572009146 seconds\n",
      "Iteration 5 Time taken:  44.60995979234576 seconds\n",
      "Iteration 6 Time taken:  49.184482956305146 seconds\n",
      "Iteration 7 Time taken:  30.255304971709847 seconds\n",
      "Iteration 8 Time taken:  41.94792958162725 seconds\n",
      "Iteration 9 Time taken:  44.86602708697319 seconds\n",
      "Iteration 10 Time taken:  40.47576590999961 seconds\n",
      "Iteration 11 Time taken:  45.905420096591115 seconds\n",
      "Iteration 12 Time taken:  33.850564578548074 seconds\n",
      "Iteration 13 Time taken:  38.777586402371526 seconds\n",
      "Iteration 14 Time taken:  43.27764131128788 seconds\n",
      "Iteration 15 Time taken:  43.5285266675055 seconds\n",
      "Iteration 16 Time taken:  35.29929781705141 seconds\n",
      "Iteration 17 Time taken:  44.12242528796196 seconds\n",
      "Iteration 18 Time taken:  41.463864924386144 seconds\n",
      "Iteration 19 Time taken:  40.778621627017856 seconds\n",
      "Iteration 20 Time taken:  32.738026823848486 seconds\n",
      "Iteration 21 Time taken:  37.32214302755892 seconds\n",
      "Iteration 22 Time taken:  40.732301538810134 seconds\n",
      "Iteration 23 Time taken:  1.186772033572197 seconds\n"
     ]
    }
   ],
   "source": [
    "it_count = 0\n",
    "for i in range(len(dset.embedding)):\n",
    "  it_count+=1\n",
    "  start = time.perf_counter()\n",
    "  \n",
    "  inp = dset.embedding[i*size: (i+1)*size].cuda()\n",
    "  out = model.encoder(inp).cpu().numpy()\n",
    "  if len(out) == 0:\n",
    "    break\n",
    "  \n",
    "  fits = [i.fit(out) for i in km_multiple]\n",
    "  inertias = [i.inertia_ for i in fits]\n",
    "  #s_start = time.perf_counter()\n",
    "  #s_scores = [silhouette_score(out, i.labels_) for i in fits]\n",
    "  #sillhouettes = [a+b for a,b in zip(s_scores, sillhouettes)]\n",
    "  #s_time = time.perf_counter()-start\n",
    "  #print(s_time)\n",
    "  batched_elbows = [a+b for a, b in zip(inertias, batched_elbows)]\n",
    "  del out\n",
    "\n",
    "  print(\"Iteration\", it_count, f\"Time taken:  {time.perf_counter()-start} seconds\")\n",
    "  #break\n",
    "  #jsquared errors for evaluating internal consistency in clusters"
   ]
  },
  {
   "cell_type": "code",
   "execution_count": 9,
   "metadata": {},
   "outputs": [
    {
     "data": {
      "text/plain": [
       "7"
      ]
     },
     "execution_count": 9,
     "metadata": {},
     "output_type": "execute_result"
    }
   ],
   "source": [
    "from kneed import KneeLocator\n",
    "knee_loc = KneeLocator(range(2, 20), batched_elbows, curve=\"convex\", direction=\"decreasing\")\n",
    "knee_loc.elbow"
   ]
  },
  {
   "cell_type": "code",
   "execution_count": 16,
   "metadata": {},
   "outputs": [
    {
     "data": {
      "image/png": "[encoded data removed]",
      "text/plain": [
       "<Figure size 432x252 with 1 Axes>"
      ]
     },
     "metadata": {
      "needs_background": "light"
     },
     "output_type": "display_data"
    }
   ],
   "source": [
    "import matplotlib.pyplot as plt\n",
    "\n",
    "results = [x/it_count for x in batched_elbows]\n",
    "plt.figure(figsize=(6, 3.5))\n",
    "plt.plot(cluster_count, results)\n",
    "plt.xlim(2, 19)\n",
    "#plt.title(\"Elbow Plot for Optimal K Discovery\")\n",
    "plt.xlabel(\"Number of Clusters\")\n",
    "plt.ylabel(\"Average Inertia\")\n",
    "plt.axvline(x=knee_loc.elbow, color=\"grey\", linestyle='--')\n",
    "#plt.show()\n",
    "\n",
    "plt.savefig('kmeans_elbow.pdf')"
   ]
  },
  {
   "cell_type": "code",
   "execution_count": null,
   "metadata": {},
   "outputs": [],
   "source": [
    "from sklearn.cluster import DBSCAN\n",
    "\n",
    "batched_dbelbows = [0]*len(cluster_count)\n",
    "db_multiple = [DBSCAN(n_clusters=i, max_iter=100) for i in cluster_count]"
   ]
  }
 ],
 "metadata": {
  "kernelspec": {
   "display_name": "Python [default]",
   "language": "python",
   "name": "python3"
  },
  "language_info": {
   "codemirror_mode": {
    "name": "ipython",
    "version": 3
   },
   "file_extension": ".py",
   "mimetype": "text/x-python",
   "name": "python",
   "nbconvert_exporter": "python",
   "pygments_lexer": "ipython3",
   "version": "3.6.8"
  },
  "vscode": {
   "interpreter": {
    "hash": "3569005b0642eb5115e0ae3381c5a0e0cb8b0deb015354359b99fb2965157b3e"
   }
  }
 },
 "nbformat": 4,
 "nbformat_minor": 2
}
