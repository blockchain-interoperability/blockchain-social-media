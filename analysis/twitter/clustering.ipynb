{
 "cells": [
  {
   "cell_type": "code",
   "execution_count": 1,
   "metadata": {},
   "outputs": [
    {
     "data": {
      "text/plain": [
       "KMeans(n_clusters=4, random_state=0)"
      ]
     },
     "execution_count": 1,
     "metadata": {},
     "output_type": "execute_result"
    }
   ],
   "source": [
    "from embeddings import load_embeddings\n",
    "from sklearn.cluster import KMeans\n",
    "import torch\n",
    "\n",
    "#load embeddings-temporarily using small batch for testing-replace with dataset later\n",
    "small_batch = torch.load('embeddings/all-MiniLM-L6-v2/00100000.pkl')\n",
    "\n",
    "km = KMeans(n_clusters=4,random_state=0)\n",
    "km.fit(small_batch)"
   ]
  },
  {
   "cell_type": "code",
   "execution_count": 2,
   "metadata": {},
   "outputs": [
    {
     "name": "stdout",
     "output_type": "stream",
     "text": [
      "[3 3 1 ... 0 1 3]\n"
     ]
    }
   ],
   "source": [
    "#ensure clustering occurred for basic test\n",
    "print(km.labels_)"
   ]
  },
  {
   "cell_type": "code",
   "execution_count": 3,
   "metadata": {},
   "outputs": [],
   "source": [
    "cluster_count = range(2, 6)\n",
    "\n",
    "km_multiple = [KMeans(n_clusters=i) for i in cluster_count]\n",
    "#jsquared errors for evaluating internal consistency in clusters\n",
    "fits = [i.fit(small_batch).score(small_batch) for i in km_multiple]"
   ]
  },
  {
   "cell_type": "code",
   "execution_count": 4,
   "metadata": {},
   "outputs": [
    {
     "data": {
      "image/png": "[encoded data removed]",
      "text/plain": [
       "<Figure size 432x288 with 1 Axes>"
      ]
     },
     "metadata": {
      "needs_background": "light"
     },
     "output_type": "display_data"
    }
   ],
   "source": [
    "import matplotlib.pyplot as plt\n",
    "\n",
    "plt.plot(cluster_count, fits)\n",
    "plt.xlabel(\"Cluster Numbers\")\n",
    "plt.ylabel(\"J Squared Errors\")\n",
    "plt.show()"
   ]
  },
  {
   "cell_type": "code",
   "execution_count": null,
   "metadata": {},
   "outputs": [],
   "source": [
    "import numpy as np\n",
    "\n",
    "pred = km_multiple[4].fit(small_batch)\n",
    "#We want to find the top feature vectors per cluster\n",
    "#only consider unique \"words\"\n",
    "labels = np.unique(pred)\n"
   ]
  },
  {
   "cell_type": "code",
   "execution_count": null,
   "metadata": {},
   "outputs": [],
   "source": [
    "import torch\n",
    "import pandas as pd\n",
    "import json\n",
    "# from torch.utils.data import DataLoader, SequentialSampler\n",
    "from sklearn.preprocessing import MaxAbsScaler\n",
    "import numpy as np\n",
    "from sklearn.cluster import KMeans\n",
    "from collections import Counter\n",
    "from itertools import chain\n",
    "from tqdm.auto import tqdm\n",
    "\n",
    "from dataset import TwitterDataset\n",
    "from autoencoders import load_encoder\n",
    "\n",
    "def run_kmeans(\n",
    "    timestamp_path,\n",
    "    sentiment_path,\n",
    "    embedding_path,\n",
    "    encoder_path,\n",
    "    encoder_type,\n",
    "    whole_text_path = '',\n",
    "    token_path = '',\n",
    "    k = 5,\n",
    "    n = 10,\n",
    "    slice_size = '30m',\n",
    "    save_path = ''\n",
    "):\n",
    "\n",
    "    dset = TwitterDataset(\n",
    "        timestamp_path,\n",
    "        sentiment_path,\n",
    "        whole_text_path = whole_text_path,\n",
    "        token_path =  token_path,\n",
    "        embedding_path = embedding_path,\n",
    "    )# torch.save(model.state_dict(),)\n",
    "\n",
    "    model = load_encoder(encoder_path,encoder_type)\n",
    "    for p in model.parameters():\n",
    "        p.requires_grad = False\n",
    "    model = model.cuda()\n",
    "\n",
    "    print('successfully loaded dataset and encoder')\n",
    "\n",
    "    # first we establish the start time of the dataset\n",
    "    dset_start = pd.to_datetime(dset.timestamp[dset.sorted_idx][0])\n",
    "    dset_end = pd.to_datetime(dset.timestamp[dset.sorted_idx][-1])\n",
    "\n",
    "    print(f'our dataset goes from {dset_start} to {dset_end}')\n",
    "\n",
    "    # pre calculate the time slices acccording to the parameter\n",
    "    time_slices = [\n",
    "        [\n",
    "            dset_start + pd.Timedelta(slice_size) * i, \n",
    "            dset_start + pd.Timedelta(slice_size) * (i+1)\n",
    "        ]\n",
    "        for i in range(\n",
    "            int(np.ceil((dset_end - dset_start)/pd.Timedelta(slice_size)))-1\n",
    "        )\n",
    "    ]\n",
    "\n",
    "\n",
    "    # start = dset_start\n",
    "\n",
    "    results = []\n",
    "\n",
    "    for slice_beg,slice_end in tqdm(time_slices,desc=f'going over by {slice_size}'):\n",
    "        # grab the dataset's sorted indexs using the time slices\n",
    "        beg,end = dset.get_range(slice_beg,slice_end)\n",
    "        original_idxs = dset[beg:end]['original_index']\n",
    "        original_embs = dset[beg:end]['embedding'].cuda()\n",
    "        reduced_embs = model.encoder(original_embs).cpu().numpy()\n",
    "        scaled_embs = MaxAbsScaler().fit_transform(reduced_embs)\n",
    "\n",
    "        kmeans = KMeans(n_clusters=5).fit(scaled_embs)\n",
    "\n",
    "        one_slice_result = []\n",
    "        for label in set(kmeans.labels_):\n",
    "            centroid = kmeans.cluster_centers_[label]\n",
    "            cluster = scaled_embs[kmeans.labels_ == label]\n",
    "            top_N_closest = np.argsort(np.sqrt(((cluster - centroid)**2).sum(1)))[:n]\n",
    "            word_count = dict(sorted(\n",
    "                Counter(\n",
    "                    chain(\n",
    "                        *[\n",
    "                            dset.tokens[i] \n",
    "                            for i in original_idxs[kmeans.labels_ == label]\n",
    "                        ]\n",
    "                    )\n",
    "                ).items(),\n",
    "                key= lambda x: x[1],\n",
    "                reverse=True\n",
    "            ))\n",
    "\n",
    "            # one_slice_result[f'top_{n}_idxs_{label}'] = top_N_closest.tolist()\n",
    "            # one_slice_result[f'wordcount_{label}'] = word_count\n",
    "            one_slice_result.append({\n",
    "                'label': label,\n",
    "                f'top_{n}_idxs': top_N_closest,\n",
    "                'word_count': word_count,\n",
    "            })\n",
    "        \n",
    "        del original_embs,reduced_embs,scaled_embs\n",
    "        # results.append(one_slice_result)\n",
    "\n",
    "        \n",
    "    json.dump(results,open(save_path/f'{k}_{slice_size}.json'))\n"
   ]
  },
  {
   "cell_type": "code",
   "execution_count": null,
   "metadata": {},
   "outputs": [],
   "source": [
    "import clustering\n",
    "\n",
    "run_kmeans('timestamp', 'sentiment', 'embeddings', '')\n"
   ]
  }
 ],
 "metadata": {
  "kernelspec": {
   "display_name": "Python [default]",
   "language": "python",
   "name": "python3"
  },
  "language_info": {
   "codemirror_mode": {
    "name": "ipython",
    "version": 3
   },
   "file_extension": ".py",
   "mimetype": "text/x-python",
   "name": "python",
   "nbconvert_exporter": "python",
   "pygments_lexer": "ipython3",
   "version": "3.6.8"
  },
  "vscode": {
   "interpreter": {
    "hash": "3569005b0642eb5115e0ae3381c5a0e0cb8b0deb015354359b99fb2965157b3e"
   }
  }
 },
 "nbformat": 4,
 "nbformat_minor": 2
}
