{
 "cells": [
  {
   "cell_type": "code",
   "execution_count": 3,
   "metadata": {},
   "outputs": [
    {
     "data": {
      "application/vnd.jupyter.widget-view+json": {
       "model_id": "2e8b17872a714c1fa9b7cc28814206e1",
       "version_major": 2,
       "version_minor": 0
      },
      "text/plain": [
       "loading from timestamp:   0%|          | 0/221 [00:00<?, ?it/s]"
      ]
     },
     "metadata": {},
     "output_type": "display_data"
    },
    {
     "data": {
      "application/vnd.jupyter.widget-view+json": {
       "model_id": "f7aeba231a27426bb23e3fbc1c1b8ca3",
       "version_major": 2,
       "version_minor": 0
      },
      "text/plain": [
       "loading embeddings..:   0%|          | 0/221 [00:00<?, ?it/s]"
      ]
     },
     "metadata": {},
     "output_type": "display_data"
    },
    {
     "name": "stdout",
     "output_type": "stream",
     "text": [
      "loaded dataset. took 108.44935349747539 ms\n"
     ]
    }
   ],
   "source": [
    "import torch\n",
    "import pandas as pd\n",
    "import json\n",
    "# from torch.utils.data import DataLoader, SequentialSampler\n",
    "from sklearn.preprocessing import MaxAbsScaler\n",
    "import numpy as np\n",
    "from sklearn.cluster import KMeans\n",
    "from collections import Counter\n",
    "from itertools import chain\n",
    "from tqdm.auto import tqdm\n",
    "from pathlib import Path\n",
    "\n",
    "from dataset import TwitterDataset\n",
    "from autoencoders import load_encoder\n",
    "\n",
    "dset = TwitterDataset(\n",
    "    'timestamp',\n",
    "    'sentiment/vader/',\n",
    "    # whole_text_path = 'whole_text',\n",
    "    # token_path = 'tokens/text',\n",
    "    embedding_path = 'embeddings/all-MiniLM-L6-v2/',\n",
    ")"
   ]
  },
  {
   "cell_type": "code",
   "execution_count": 22,
   "metadata": {},
   "outputs": [],
   "source": [
    "model = load_encoder('models/LinearAutoEncoder.pkl','linear')\n",
    "for p in model.parameters():\n",
    "    p.requires_grad = False"
   ]
  },
  {
   "cell_type": "code",
   "execution_count": 39,
   "metadata": {},
   "outputs": [],
   "source": [
    "from sklearn.metrics import silhouette_score\n",
    "from sklearn.cluster import MiniBatchKMeans\n",
    "import time\n",
    "\n",
    "size = 1000000\n",
    "model = model.cuda()\n",
    "\n",
    "#find elbow using inertia and distortion\n",
    "#use minibatch for optimal k computation to speed up calculations\n",
    "cluster_count = range(2, 20)\n",
    "batched_elbows = [0]*len(cluster_count)\n",
    "sillhouettes = [0]*len(cluster_count)\n",
    "km_multiple = [MiniBatchKMeans(n_clusters=i, max_iter=100) for i in cluster_count]"
   ]
  },
  {
   "cell_type": "code",
   "execution_count": 40,
   "metadata": {},
   "outputs": [
    {
     "name": "stdout",
     "output_type": "stream",
     "text": [
      "Iteration 1 Time taken:  35.96688809990883 seconds\n",
      "Iteration 2 Time taken:  32.67928061261773 seconds\n",
      "Iteration 3 Time taken:  49.97017436847091 seconds\n",
      "Iteration 4 Time taken:  36.40165319480002 seconds\n",
      "Iteration 5 Time taken:  48.94588328152895 seconds\n",
      "Iteration 6 Time taken:  48.940699787810445 seconds\n",
      "Iteration 7 Time taken:  45.14772189036012 seconds\n",
      "Iteration 8 Time taken:  36.49791792035103 seconds\n",
      "Iteration 9 Time taken:  51.2301899343729 seconds\n",
      "Iteration 10 Time taken:  41.354458414018154 seconds\n",
      "Iteration 11 Time taken:  49.730170922353864 seconds\n",
      "Iteration 12 Time taken:  36.41824891977012 seconds\n",
      "Iteration 13 Time taken:  49.16570161096752 seconds\n",
      "Iteration 14 Time taken:  52.5345966797322 seconds\n",
      "Iteration 15 Time taken:  41.05576384626329 seconds\n",
      "Iteration 16 Time taken:  41.64051019959152 seconds\n",
      "Iteration 17 Time taken:  55.82613851688802 seconds\n",
      "Iteration 18 Time taken:  58.028313195332885 seconds\n",
      "Iteration 19 Time taken:  39.05249020643532 seconds\n",
      "Iteration 20 Time taken:  49.922251384705305 seconds\n",
      "Iteration 21 Time taken:  46.09696535952389 seconds\n",
      "Iteration 22 Time taken:  50.123120084404945 seconds\n",
      "Iteration 23 Time taken:  1.214541444554925 seconds\n"
     ]
    }
   ],
   "source": [
    "it_count = 0\n",
    "for i in range(len(dset.embedding)):\n",
    "  it_count+=1\n",
    "  start = time.perf_counter()\n",
    "  \n",
    "  inp = dset.embedding[i*size: (i+1)*size].cuda()\n",
    "  out = model.encoder(inp).cpu().numpy()\n",
    "  if len(out) == 0:\n",
    "    break\n",
    "  \n",
    "  fits = [i.fit(out) for i in km_multiple]\n",
    "  inertias = [i.inertia_ for i in fits]\n",
    "  #s_start = time.perf_counter()\n",
    "  #s_scores = [silhouette_score(out, i.labels_) for i in fits]\n",
    "  #sillhouettes = [a+b for a,b in zip(s_scores, sillhouettes)]\n",
    "  #s_time = time.perf_counter()-start\n",
    "  #print(s_time)\n",
    "  batched_elbows = [a+b for a, b in zip(inertias, batched_elbows)]\n",
    "  \n",
    "  del out\n",
    "\n",
    "  print(\"Iteration\", it_count, f\"Time taken:  {time.perf_counter()-start} seconds\")\n",
    "  #break\n",
    "  #jsquared errors for evaluating internal consistency in clusters"
   ]
  },
  {
   "cell_type": "code",
   "execution_count": 41,
   "metadata": {},
   "outputs": [
    {
     "data": {
      "image/png": "[encoded data removed]",
      "text/plain": [
       "<Figure size 432x288 with 1 Axes>"
      ]
     },
     "metadata": {
      "needs_background": "light"
     },
     "output_type": "display_data"
    }
   ],
   "source": [
    "import matplotlib.pyplot as plt\n",
    "\n",
    "results = [x/it_count for x in batched_elbows]\n",
    "plt.plot(cluster_count, results)\n",
    "plt.xlabel(\"Cluster Numbers\")\n",
    "plt.ylabel(\"J Squared Errors\")\n",
    "plt.show()"
   ]
  },
  {
   "cell_type": "code",
   "execution_count": 42,
   "metadata": {},
   "outputs": [
    {
     "data": {
      "text/plain": [
       "7"
      ]
     },
     "execution_count": 42,
     "metadata": {},
     "output_type": "execute_result"
    }
   ],
   "source": [
    "from kneed import KneeLocator\n",
    "knee_loc = KneeLocator(range(2, 20), batched_elbows, curve=\"convex\", direction=\"decreasing\")\n",
    "knee_loc.elbow"
   ]
  },
  {
   "cell_type": "markdown",
   "metadata": {},
   "source": [
    "from clustering import run_kmeans\n",
    "\n",
    "run_kmeans(\n",
    "    'timestamp',\n",
    "    'sentiment/vader/',\n",
    "    'embeddings/all-MiniLM-L6-v2/',\n",
    "    'models/LinearAutoEncoder.pkl',\n",
    "    'linear',\n",
    "    token_path='tokens/text',\n",
    "    k = 7, \n",
    "    n = 10, \n",
    "    slice_size = '30m', \n",
    "    save_path = 'cluster_results')"
   ]
  },
  {
   "cell_type": "code",
   "execution_count": null,
   "metadata": {},
   "outputs": [],
   "source": [
    "from sklearn.cluster import DBSCAN\n",
    "\n",
    "batched_dbelbows = [0]*len(cluster_count)\n",
    "db_multiple = [DBSCAN(n_clusters=i, max_iter=100) for i in cluster_count]"
   ]
  }
 ],
 "metadata": {
  "kernelspec": {
   "display_name": "Python [default]",
   "language": "python",
   "name": "python3"
  },
  "language_info": {
   "codemirror_mode": {
    "name": "ipython",
    "version": 3
   },
   "file_extension": ".py",
   "mimetype": "text/x-python",
   "name": "python",
   "nbconvert_exporter": "python",
   "pygments_lexer": "ipython3",
   "version": "3.6.8"
  },
  "vscode": {
   "interpreter": {
    "hash": "3569005b0642eb5115e0ae3381c5a0e0cb8b0deb015354359b99fb2965157b3e"
   }
  }
 },
 "nbformat": 4,
 "nbformat_minor": 2
}
