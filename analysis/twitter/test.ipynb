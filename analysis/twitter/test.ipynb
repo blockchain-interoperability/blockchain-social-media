{
 "cells": [
  {
   "cell_type": "code",
   "execution_count": 1,
   "metadata": {},
   "outputs": [],
   "source": [
    "import torch\n",
    "import pandas as pd\n",
    "# from torch.utils.data import DataLoader, SequentialSampler\n",
    "from sklearn.preprocessing import MaxAbsScaler\n",
    "import numpy as np\n",
    "from sklearn.cluster import KMeans\n",
    "from collections import Counter\n",
    "from itertools import chain\n",
    "from tqdm.auto import tqdm\n",
    "import pickle\n",
    "\n",
    "from dataset import TwitterDataset\n",
    "from autoencoders import LinearAutoEncoder"
   ]
  },
  {
   "cell_type": "code",
   "execution_count": 2,
   "metadata": {},
   "outputs": [],
   "source": [
    "cluster_results = pickle.load(open('cluster_results/kmeans_7_30m.pkl','rb'))"
   ]
  },
  {
   "cell_type": "code",
   "execution_count": 5,
   "metadata": {},
   "outputs": [
    {
     "data": {
      "text/plain": [
       "{'time_start': Timestamp('2022-11-09 05:53:33.788000'),\n",
       " 'time_end': Timestamp('2022-11-09 06:23:33.788000'),\n",
       " 'label': 0,\n",
       " 'by_distance': array([1522623, 1521168, 1528569, ..., 1526658, 1524362, 1521021]),\n",
       " 'distance': array([0.60615003, 0.33277526, 0.48974606, ..., 0.5521055 , 0.42956275,\n",
       "        0.35946658], dtype=float32)}"
      ]
     },
     "execution_count": 5,
     "metadata": {},
     "output_type": "execute_result"
    }
   ],
   "source": [
    "cluster_results[0][0]"
   ]
  },
  {
   "cell_type": "code",
   "execution_count": 6,
   "metadata": {},
   "outputs": [
    {
     "data": {
      "application/vnd.jupyter.widget-view+json": {
       "model_id": "cea378d962ff47cbba7881872aad3bde",
       "version_major": 2,
       "version_minor": 0
      },
      "text/plain": [
       "loading from timestamp:   0%|          | 0/221 [00:00<?, ?it/s]"
      ]
     },
     "metadata": {},
     "output_type": "display_data"
    },
    {
     "data": {
      "application/vnd.jupyter.widget-view+json": {
       "model_id": "cb502b6f36dd4b00a2f8b505ec5e3d12",
       "version_major": 2,
       "version_minor": 0
      },
      "text/plain": [
       "loading sentiment..:   0%|          | 0/221 [00:00<?, ?it/s]"
      ]
     },
     "metadata": {},
     "output_type": "display_data"
    },
    {
     "data": {
      "application/vnd.jupyter.widget-view+json": {
       "model_id": "b6e7ed91b56a4b308d3eb90175248bd8",
       "version_major": 2,
       "version_minor": 0
      },
      "text/plain": [
       "loading tokens...:   0%|          | 0/221 [00:00<?, ?it/s]"
      ]
     },
     "metadata": {},
     "output_type": "display_data"
    },
    {
     "name": "stdout",
     "output_type": "stream",
     "text": [
      "no spam here!\n",
      "loaded dataset. took 217.59297010488808 ms. Got 20050096 items\n"
     ]
    }
   ],
   "source": [
    "dset = TwitterDataset(\n",
    "    'timestamp',\n",
    "    'spam_idx.pkl',\n",
    "    sentiment_path='sentiment/vader/',\n",
    "    # whole_text_path = 'whole_text',\n",
    "    token_path = 'tokens/text',\n",
    "    # embedding_path = 'embeddings/all-MiniLM-L6-v2/',\n",
    ")"
   ]
  },
  {
   "cell_type": "code",
   "execution_count": 14,
   "metadata": {},
   "outputs": [
    {
     "data": {
      "application/vnd.jupyter.widget-view+json": {
       "model_id": "10180d9be67d42fb980046af71a10c02",
       "version_major": 2,
       "version_minor": 0
      },
      "text/plain": [
       "  0%|          | 0/1433 [00:00<?, ?it/s]"
      ]
     },
     "metadata": {},
     "output_type": "display_data"
    },
    {
     "data": {
      "application/vnd.jupyter.widget-view+json": {
       "model_id": "186219eef82945869c1d97cf2f47fa86",
       "version_major": 2,
       "version_minor": 0
      },
      "text/plain": [
       "  0%|          | 0/4839 [00:00<?, ?it/s]"
      ]
     },
     "metadata": {},
     "output_type": "display_data"
    },
    {
     "data": {
      "application/vnd.jupyter.widget-view+json": {
       "model_id": "8727812014844b9c923cb6f6087d02ff",
       "version_major": 2,
       "version_minor": 0
      },
      "text/plain": [
       "  0%|          | 0/2556 [00:00<?, ?it/s]"
      ]
     },
     "metadata": {},
     "output_type": "display_data"
    },
    {
     "data": {
      "application/vnd.jupyter.widget-view+json": {
       "model_id": "18f46708ff554f81a94bb3ada28c9dff",
       "version_major": 2,
       "version_minor": 0
      },
      "text/plain": [
       "  0%|          | 0/3978 [00:00<?, ?it/s]"
      ]
     },
     "metadata": {},
     "output_type": "display_data"
    },
    {
     "data": {
      "application/vnd.jupyter.widget-view+json": {
       "model_id": "192806db8dc94ce8bc7a5c597fee697a",
       "version_major": 2,
       "version_minor": 0
      },
      "text/plain": [
       "  0%|          | 0/569 [00:00<?, ?it/s]"
      ]
     },
     "metadata": {},
     "output_type": "display_data"
    },
    {
     "data": {
      "application/vnd.jupyter.widget-view+json": {
       "model_id": "aab27c2455014c88aa2c6ee4e3f1cdb5",
       "version_major": 2,
       "version_minor": 0
      },
      "text/plain": [
       "  0%|          | 0/2067 [00:00<?, ?it/s]"
      ]
     },
     "metadata": {},
     "output_type": "display_data"
    },
    {
     "data": {
      "application/vnd.jupyter.widget-view+json": {
       "model_id": "bd4fc2be2c1b42439ce1dd1ac8c828ca",
       "version_major": 2,
       "version_minor": 0
      },
      "text/plain": [
       "  0%|          | 0/707 [00:00<?, ?it/s]"
      ]
     },
     "metadata": {},
     "output_type": "display_data"
    }
   ],
   "source": [
    "\n",
    "\n",
    "clust_words = []\n",
    "for one_clus in cluster_results[0]:\n",
    "    word_counts = {}\n",
    "    for idx,dis in zip(tqdm(one_clus['by_distance']),one_clus['distance']):\n",
    "        for t in dset.tokens[idx]:\n",
    "            if not t in word_counts:\n",
    "                word_counts[t] = dis\n",
    "            else:\n",
    "                word_counts[t] += dis\n",
    "    by_weight = sorted(word_counts.items(),key=lambda x: x[1],reverse=True)\n",
    "    clust_words.append(by_weight)\n",
    "\n"
   ]
  },
  {
   "cell_type": "code",
   "execution_count": 17,
   "metadata": {},
   "outputs": [
    {
     "name": "stdout",
     "output_type": "stream",
     "text": [
      "['roll', 'security', 'bridge', 'amp', 'like', 'nt', 'people', 'volt', 'slow', 'eat']\n",
      "['$', 'nft', 'token', 'crypto', 'join', 'binance', 'premium', 'apesport', '+', 'nfts']\n",
      "['twitter', 'join', 'telegram', 'maybe', 'tweet', 'check', 'follow', 'cryptocurrencies', 'gives', 'constantly']\n",
      "['$', 'crypto', 'binance', 'btc', 'ftt', 'bnb', 'bitcoin', 'ftx', 'sol', 'project']\n",
      "['security', 'social', 'amp', 'people', 'sushi', 'french', 'medicare', 'roll', 'republicans', 'defence']\n",
      "['$', 'talking', 'uniswap', 'exploited', 'dude', '200k', 'far', 'leaked', 'alpha', 'group']\n",
      "['pump', 'kucoin', 'event', 'signal', 'big', 'happen', 'group', 'wallstreetbets', 'hours', '1']\n"
     ]
    }
   ],
   "source": [
    "for c in clust_words:\n",
    "    print([w for w,sco in c[:10]])"
   ]
  }
 ],
 "metadata": {
  "kernelspec": {
   "display_name": "Python 3.6.8 ('blockchain-sns-env': venv)",
   "language": "python",
   "name": "python3"
  },
  "language_info": {
   "codemirror_mode": {
    "name": "ipython",
    "version": 3
   },
   "file_extension": ".py",
   "mimetype": "text/x-python",
   "name": "python",
   "nbconvert_exporter": "python",
   "pygments_lexer": "ipython3",
   "version": "3.6.8"
  },
  "orig_nbformat": 4,
  "vscode": {
   "interpreter": {
    "hash": "2e720e392c2c98493a55dd45de07d550878f3bc93cd6920decc8053fb22b0362"
   }
  }
 },
 "nbformat": 4,
 "nbformat_minor": 2
}
