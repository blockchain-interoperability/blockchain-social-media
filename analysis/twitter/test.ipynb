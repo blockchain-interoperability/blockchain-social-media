{
 "cells": [
  {
   "cell_type": "code",
   "execution_count": 15,
   "metadata": {},
   "outputs": [],
   "source": [
    "import torch\n",
    "import pandas as pd\n",
    "# from torch.utils.data import DataLoader, SequentialSampler\n",
    "from sklearn.preprocessing import MaxAbsScaler\n",
    "import numpy as np\n",
    "from sklearn.cluster import KMeans\n",
    "from collections import Counter\n",
    "from itertools import chain\n",
    "from tqdm.auto import tqdm\n",
    "import pickle\n",
    "from pathlib import Path\n",
    "\n",
    "from dataset import TwitterDataset\n",
    "from autoencoders import LinearAutoEncoder"
   ]
  },
  {
   "cell_type": "code",
   "execution_count": 16,
   "metadata": {},
   "outputs": [
    {
     "data": {
      "application/vnd.jupyter.widget-view+json": {
       "model_id": "7e6b28622429461e996b527308b407fa",
       "version_major": 2,
       "version_minor": 0
      },
      "text/plain": [
       "loading from timestamp:   0%|          | 0/221 [00:00<?, ?it/s]"
      ]
     },
     "metadata": {},
     "output_type": "display_data"
    },
    {
     "data": {
      "application/vnd.jupyter.widget-view+json": {
       "model_id": "52262b255e6446419abe1e611bdcd634",
       "version_major": 2,
       "version_minor": 0
      },
      "text/plain": [
       "loading embeddings..:   0%|          | 0/221 [00:00<?, ?it/s]"
      ]
     },
     "metadata": {},
     "output_type": "display_data"
    },
    {
     "name": "stdout",
     "output_type": "stream",
     "text": [
      "no spam here!\n",
      "loaded dataset. took 54.94291590899229 ms. Got 18932577 items\n"
     ]
    }
   ],
   "source": [
    "from dataset import TwitterDataset\n",
    "\n",
    "dset = TwitterDataset(\n",
    "        'timestamp',\n",
    "        'spam_idx.pkl',\n",
    "        embedding_path='embeddings/all-MiniLM-L6-v2',\n",
    ")"
   ]
  },
  {
   "cell_type": "code",
   "execution_count": 17,
   "metadata": {},
   "outputs": [],
   "source": [
    "from autoencoders import load_encoder\n",
    "\n",
    "model = load_encoder('models/LinearAutoEncoder.pkl','linear')\n",
    "for p in model.parameters():\n",
    "    p.requires_grad = False\n",
    "model = model.cuda()"
   ]
  },
  {
   "cell_type": "code",
   "execution_count": 18,
   "metadata": {},
   "outputs": [],
   "source": [
    "from torch.utils.data import DataLoader\n",
    "\n",
    "loader = DataLoader(dset,batch_size=4096)"
   ]
  },
  {
   "cell_type": "code",
   "execution_count": 19,
   "metadata": {},
   "outputs": [
    {
     "data": {
      "application/vnd.jupyter.widget-view+json": {
       "model_id": "6e7ca8f2ef7c42b4b0dfff9bf3182929",
       "version_major": 2,
       "version_minor": 0
      },
      "text/plain": [
       "  0%|          | 0/4623 [00:00<?, ?it/s]"
      ]
     },
     "metadata": {},
     "output_type": "display_data"
    }
   ],
   "source": [
    "reduced = []\n",
    "for batch in tqdm(loader):\n",
    "    inp = batch['embedding'].cuda()\n",
    "    out = model.encoder(inp)\n",
    "    reduced.append(out)\n",
    "    # break\n",
    "reduced = torch.vstack(reduced)\n",
    "    # break\n"
   ]
  },
  {
   "cell_type": "code",
   "execution_count": 24,
   "metadata": {},
   "outputs": [],
   "source": [
    "start = pd.to_datetime(dset.timestamp[dset.sorted_idx][0])\n",
    "\n",
    "end = start + pd.Timedelta('30m')"
   ]
  },
  {
   "cell_type": "code",
   "execution_count": 28,
   "metadata": {},
   "outputs": [],
   "source": [
    "scaled = MaxAbsScaler().fit_transform(reduced.cpu().numpy())"
   ]
  },
  {
   "cell_type": "code",
   "execution_count": 20,
   "metadata": {},
   "outputs": [
    {
     "name": "stdout",
     "output_type": "stream",
     "text": [
      "running k-means on cuda:0..\n"
     ]
    },
    {
     "name": "stderr",
     "output_type": "stream",
     "text": [
      "[running kmeans]: 2it [00:00, 13.41it/s, center_shift=10.945193, iteration=2, tol=0.000100]"
     ]
    },
    {
     "name": "stdout",
     "output_type": "stream",
     "text": [
      "device is :cuda:0\n",
      "device is :cuda:0\n",
      "device is :cuda:0\n"
     ]
    },
    {
     "name": "stderr",
     "output_type": "stream",
     "text": [
      "[running kmeans]: 5it [00:00, 13.63it/s, center_shift=2.404896, iteration=6, tol=0.000100] "
     ]
    },
    {
     "name": "stdout",
     "output_type": "stream",
     "text": [
      "device is :cuda:0\n",
      "device is :cuda:0\n",
      "device is :cuda:0\n"
     ]
    },
    {
     "name": "stderr",
     "output_type": "stream",
     "text": [
      "[running kmeans]: 8it [00:00, 14.77it/s, center_shift=0.074009, iteration=9, tol=0.000100]"
     ]
    },
    {
     "name": "stdout",
     "output_type": "stream",
     "text": [
      "device is :cuda:0\n",
      "device is :cuda:0\n",
      "device is :cuda:0\n",
      "device is :cuda:0\n"
     ]
    },
    {
     "name": "stderr",
     "output_type": "stream",
     "text": [
      "[running kmeans]: 12it [00:00, 15.08it/s, center_shift=0.017725, iteration=13, tol=0.000100]"
     ]
    },
    {
     "name": "stdout",
     "output_type": "stream",
     "text": [
      "device is :cuda:0\n",
      "device is :cuda:0\n",
      "device is :cuda:0\n",
      "device is :cuda:0\n"
     ]
    },
    {
     "name": "stderr",
     "output_type": "stream",
     "text": [
      "[running kmeans]: 16it [00:01, 15.27it/s, center_shift=0.187464, iteration=17, tol=0.000100]"
     ]
    },
    {
     "name": "stdout",
     "output_type": "stream",
     "text": [
      "device is :cuda:0\n",
      "device is :cuda:0\n",
      "device is :cuda:0\n",
      "device is :cuda:0\n"
     ]
    },
    {
     "name": "stderr",
     "output_type": "stream",
     "text": [
      "[running kmeans]: 20it [00:01, 15.35it/s, center_shift=0.048732, iteration=21, tol=0.000100]"
     ]
    },
    {
     "name": "stdout",
     "output_type": "stream",
     "text": [
      "device is :cuda:0\n",
      "device is :cuda:0\n",
      "device is :cuda:0\n",
      "device is :cuda:0\n"
     ]
    },
    {
     "name": "stderr",
     "output_type": "stream",
     "text": [
      "[running kmeans]: 24it [00:01, 15.39it/s, center_shift=0.012161, iteration=25, tol=0.000100]"
     ]
    },
    {
     "name": "stdout",
     "output_type": "stream",
     "text": [
      "device is :cuda:0\n",
      "device is :cuda:0\n",
      "device is :cuda:0\n",
      "device is :cuda:0\n"
     ]
    },
    {
     "name": "stderr",
     "output_type": "stream",
     "text": [
      "[running kmeans]: 28it [00:01, 15.38it/s, center_shift=0.003363, iteration=29, tol=0.000100]"
     ]
    },
    {
     "name": "stdout",
     "output_type": "stream",
     "text": [
      "device is :cuda:0\n",
      "device is :cuda:0\n",
      "device is :cuda:0\n",
      "device is :cuda:0\n"
     ]
    },
    {
     "name": "stderr",
     "output_type": "stream",
     "text": [
      "[running kmeans]: 32it [00:02, 15.40it/s, center_shift=0.003241, iteration=33, tol=0.000100]"
     ]
    },
    {
     "name": "stdout",
     "output_type": "stream",
     "text": [
      "device is :cuda:0\n",
      "device is :cuda:0\n",
      "device is :cuda:0\n",
      "device is :cuda:0\n"
     ]
    },
    {
     "name": "stderr",
     "output_type": "stream",
     "text": [
      "[running kmeans]: 36it [00:02, 15.42it/s, center_shift=0.013324, iteration=37, tol=0.000100]"
     ]
    },
    {
     "name": "stdout",
     "output_type": "stream",
     "text": [
      "device is :cuda:0\n",
      "device is :cuda:0\n",
      "device is :cuda:0\n",
      "device is :cuda:0\n"
     ]
    },
    {
     "name": "stderr",
     "output_type": "stream",
     "text": [
      "[running kmeans]: 40it [00:02, 15.40it/s, center_shift=0.072072, iteration=41, tol=0.000100]"
     ]
    },
    {
     "name": "stdout",
     "output_type": "stream",
     "text": [
      "device is :cuda:0\n",
      "device is :cuda:0\n",
      "device is :cuda:0\n",
      "device is :cuda:0\n"
     ]
    },
    {
     "name": "stderr",
     "output_type": "stream",
     "text": [
      "[running kmeans]: 44it [00:02, 15.42it/s, center_shift=0.060581, iteration=45, tol=0.000100]"
     ]
    },
    {
     "name": "stdout",
     "output_type": "stream",
     "text": [
      "device is :cuda:0\n",
      "device is :cuda:0\n",
      "device is :cuda:0\n",
      "device is :cuda:0\n"
     ]
    },
    {
     "name": "stderr",
     "output_type": "stream",
     "text": [
      "[running kmeans]: 48it [00:03, 15.42it/s, center_shift=0.015954, iteration=49, tol=0.000100]"
     ]
    },
    {
     "name": "stdout",
     "output_type": "stream",
     "text": [
      "device is :cuda:0\n",
      "device is :cuda:0\n",
      "device is :cuda:0\n",
      "device is :cuda:0\n"
     ]
    },
    {
     "name": "stderr",
     "output_type": "stream",
     "text": [
      "[running kmeans]: 52it [00:03, 15.40it/s, center_shift=0.002102, iteration=53, tol=0.000100]"
     ]
    },
    {
     "name": "stdout",
     "output_type": "stream",
     "text": [
      "device is :cuda:0\n",
      "device is :cuda:0\n",
      "device is :cuda:0\n",
      "device is :cuda:0\n"
     ]
    },
    {
     "name": "stderr",
     "output_type": "stream",
     "text": [
      "[running kmeans]: 56it [00:03, 15.41it/s, center_shift=0.000520, iteration=57, tol=0.000100]"
     ]
    },
    {
     "name": "stdout",
     "output_type": "stream",
     "text": [
      "device is :cuda:0\n",
      "device is :cuda:0\n",
      "device is :cuda:0\n",
      "device is :cuda:0\n"
     ]
    },
    {
     "name": "stderr",
     "output_type": "stream",
     "text": [
      "[running kmeans]: 59it [00:03, 14.89it/s, center_shift=0.000093, iteration=59, tol=0.000100]"
     ]
    },
    {
     "name": "stdout",
     "output_type": "stream",
     "text": [
      "device is :cuda:0\n"
     ]
    },
    {
     "name": "stderr",
     "output_type": "stream",
     "text": [
      "\n"
     ]
    }
   ],
   "source": [
    "from kmeans_pytorch.__init__ import kmeans\n",
    "\n",
    "cluster_ids_x, cluster_centers = kmeans(\n",
    "    X=reduced, num_clusters=7, distance='euclidean', device=torch.device('cuda:0'), iter_limit =100\n",
    ")"
   ]
  },
  {
   "cell_type": "code",
   "execution_count": 22,
   "metadata": {},
   "outputs": [
    {
     "data": {
      "text/plain": [
       "tensor([3, 6, 3,  ..., 5, 5, 0])"
      ]
     },
     "execution_count": 22,
     "metadata": {},
     "output_type": "execute_result"
    }
   ],
   "source": [
    "torch.save({'cluster_ids': cluster_ids_x, 'cluster_centers': cluster_centers},'cluster_results/')"
   ]
  },
  {
   "cell_type": "code",
   "execution_count": null,
   "metadata": {},
   "outputs": [],
   "source": [
    "# cluster_path = sorted(Path('cluster_results/kmeans_7_30m/parsed.pkl').glob('*.pkl'))\n",
    "\n",
    "parsed_data = torch.load('cluster_results/kmeans_7_30m/parsed.pkl')"
   ]
  },
  {
   "cell_type": "code",
   "execution_count": null,
   "metadata": {},
   "outputs": [],
   "source": [
    "slice_results = torch.load('cluster_results/kmeans_7_30m/slices/137.pkl')"
   ]
  },
  {
   "cell_type": "code",
   "execution_count": null,
   "metadata": {},
   "outputs": [
    {
     "data": {
      "text/plain": [
       "[5681, 6913, 2570, 9097, 4685, 3857, 5985]"
      ]
     },
     "execution_count": 14,
     "metadata": {},
     "output_type": "execute_result"
    }
   ],
   "source": [
    "[len(ss['distance']) for ss in slice_results]"
   ]
  },
  {
   "cell_type": "code",
   "execution_count": null,
   "metadata": {},
   "outputs": [
    {
     "data": {
      "text/plain": [
       "['twitter',\n",
       " 'join',\n",
       " 'telegram',\n",
       " 'check',\n",
       " 'tweet',\n",
       " 'maybe',\n",
       " 'cryptocurrencies',\n",
       " 'follow',\n",
       " 'bnb',\n",
       " 'gives',\n",
       " '$',\n",
       " 'nft',\n",
       " 'token',\n",
       " 'crypto',\n",
       " 'join',\n",
       " 'premium',\n",
       " 'apesport',\n",
       " '+',\n",
       " 'binance',\n",
       " 'nfts',\n",
       " 'roll',\n",
       " 'bridge',\n",
       " 'security',\n",
       " 'like',\n",
       " 'amp',\n",
       " 'nt',\n",
       " 'slow',\n",
       " 'eat',\n",
       " 'feet',\n",
       " 'good',\n",
       " 'testnet',\n",
       " 'zk',\n",
       " 'address',\n",
       " 'claiming',\n",
       " 'tokens',\n",
       " 'v2',\n",
       " 'evm',\n",
       " 'compatible',\n",
       " 'rollup',\n",
       " 'learn',\n",
       " '$',\n",
       " 'crypto',\n",
       " 'binance',\n",
       " 'btc',\n",
       " 'bnb',\n",
       " 'ftt',\n",
       " 'ftx',\n",
       " 'bitcoin',\n",
       " 'project',\n",
       " 'sol',\n",
       " 'pump',\n",
       " 'kucoin',\n",
       " 'event',\n",
       " 'signal',\n",
       " 'big',\n",
       " 'group',\n",
       " 'happen',\n",
       " 'wallstreetbets',\n",
       " 'hours',\n",
       " '1',\n",
       " 'security',\n",
       " 'social',\n",
       " 'amp',\n",
       " 'people',\n",
       " 'sushi',\n",
       " 'volt',\n",
       " 'roll',\n",
       " 'medicare',\n",
       " 'french',\n",
       " 'republicans']"
      ]
     },
     "execution_count": 10,
     "metadata": {},
     "output_type": "execute_result"
    }
   ],
   "source": [
    "# : break\n",
    "list(chain(*[c['topics'][:10] for c in parsed_data[0]]))"
   ]
  }
 ],
 "metadata": {
  "kernelspec": {
   "display_name": "Python 3.6.8 ('blockchain-sns-env': venv)",
   "language": "python",
   "name": "python3"
  },
  "language_info": {
   "codemirror_mode": {
    "name": "ipython",
    "version": 3
   },
   "file_extension": ".py",
   "mimetype": "text/x-python",
   "name": "python",
   "nbconvert_exporter": "python",
   "pygments_lexer": "ipython3",
   "version": "3.6.8"
  },
  "orig_nbformat": 4,
  "vscode": {
   "interpreter": {
    "hash": "2e720e392c2c98493a55dd45de07d550878f3bc93cd6920decc8053fb22b0362"
   }
  }
 },
 "nbformat": 4,
 "nbformat_minor": 2
}
