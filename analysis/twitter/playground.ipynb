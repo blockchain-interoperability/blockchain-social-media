{
 "cells": [
  {
   "cell_type": "code",
   "execution_count": 3,
   "metadata": {},
   "outputs": [],
   "source": [
    "from elasticsearch import Elasticsearch\n",
    "import pandas as pd\n",
    "es = Elasticsearch(hosts=['http://idea-vm-elasticsearch:9200'],\n",
    "                    verify_certs=False,\n",
    "                    # timeout=config.elasticsearch_timeout_secs\n",
    "                    )"
   ]
  },
  {
   "cell_type": "code",
   "execution_count": 4,
   "metadata": {},
   "outputs": [],
   "source": [
    "index = es.search(index='blockchain-interoperability-attacks',body={'query':{'match_all': {}},'size':1000})"
   ]
  },
  {
   "cell_type": "code",
   "execution_count": 5,
   "metadata": {},
   "outputs": [],
   "source": [
    "df = pd.json_normalize(index['hits']['hits'])"
   ]
  },
  {
   "cell_type": "markdown",
   "metadata": {},
   "source": [
    "If _source.trucated is False, that means _source.text has the full text. If True, _source.extended_tweet.full_text has the full text."
   ]
  },
  {
   "cell_type": "code",
   "execution_count": 32,
   "metadata": {},
   "outputs": [
    {
     "ename": "TypeError",
     "evalue": "<lambda>() missing 2 required positional arguments: 'tr' and 't'",
     "output_type": "error",
     "traceback": [
      "\u001b[0;31m---------------------------------------------------------------------------\u001b[0m",
      "\u001b[0;31mTypeError\u001b[0m                                 Traceback (most recent call last)",
      "\u001b[0;32m<ipython-input-32-d0204d7205ca>\u001b[0m in \u001b[0;36m<module>\u001b[0;34m\u001b[0m\n\u001b[1;32m      8\u001b[0m \u001b[0;31m# df['_source.extended_tweet.full_text'].isna().sum()\u001b[0m\u001b[0;34m\u001b[0m\u001b[0;34m\u001b[0m\u001b[0;34m\u001b[0m\u001b[0m\n\u001b[1;32m      9\u001b[0m \u001b[0;34m\u001b[0m\u001b[0m\n\u001b[0;32m---> 10\u001b[0;31m \u001b[0mdf\u001b[0m\u001b[0;34m[\u001b[0m\u001b[0;34m[\u001b[0m\u001b[0;34m'_source.extended_tweet.full_text'\u001b[0m\u001b[0;34m,\u001b[0m\u001b[0;34m'_source.truncated'\u001b[0m\u001b[0;34m,\u001b[0m\u001b[0;34m'_source.text'\u001b[0m\u001b[0;34m]\u001b[0m\u001b[0;34m]\u001b[0m\u001b[0;34m.\u001b[0m\u001b[0mapply\u001b[0m\u001b[0;34m(\u001b[0m\u001b[0;32mlambda\u001b[0m \u001b[0met\u001b[0m\u001b[0;34m,\u001b[0m\u001b[0mtr\u001b[0m\u001b[0;34m,\u001b[0m\u001b[0mt\u001b[0m\u001b[0;34m:\u001b[0m \u001b[0mt\u001b[0m \u001b[0;32mif\u001b[0m \u001b[0mtr\u001b[0m \u001b[0;32melse\u001b[0m \u001b[0met\u001b[0m\u001b[0;34m)\u001b[0m\u001b[0;34m\u001b[0m\u001b[0;34m\u001b[0m\u001b[0m\n\u001b[0m",
      "\u001b[0;32m/data/blockchain-interoperability/blockchain-social-media/blockchain-sns-env/lib64/python3.6/site-packages/pandas/core/frame.py\u001b[0m in \u001b[0;36mapply\u001b[0;34m(self, func, axis, raw, result_type, args, **kwds)\u001b[0m\n\u001b[1;32m   7550\u001b[0m             \u001b[0mkwds\u001b[0m\u001b[0;34m=\u001b[0m\u001b[0mkwds\u001b[0m\u001b[0;34m,\u001b[0m\u001b[0;34m\u001b[0m\u001b[0;34m\u001b[0m\u001b[0m\n\u001b[1;32m   7551\u001b[0m         )\n\u001b[0;32m-> 7552\u001b[0;31m         \u001b[0;32mreturn\u001b[0m \u001b[0mop\u001b[0m\u001b[0;34m.\u001b[0m\u001b[0mget_result\u001b[0m\u001b[0;34m(\u001b[0m\u001b[0;34m)\u001b[0m\u001b[0;34m\u001b[0m\u001b[0;34m\u001b[0m\u001b[0m\n\u001b[0m\u001b[1;32m   7553\u001b[0m \u001b[0;34m\u001b[0m\u001b[0m\n\u001b[1;32m   7554\u001b[0m     \u001b[0;32mdef\u001b[0m \u001b[0mapplymap\u001b[0m\u001b[0;34m(\u001b[0m\u001b[0mself\u001b[0m\u001b[0;34m,\u001b[0m \u001b[0mfunc\u001b[0m\u001b[0;34m)\u001b[0m \u001b[0;34m->\u001b[0m \u001b[0;34m\"DataFrame\"\u001b[0m\u001b[0;34m:\u001b[0m\u001b[0;34m\u001b[0m\u001b[0;34m\u001b[0m\u001b[0m\n",
      "\u001b[0;32m/data/blockchain-interoperability/blockchain-social-media/blockchain-sns-env/lib64/python3.6/site-packages/pandas/core/apply.py\u001b[0m in \u001b[0;36mget_result\u001b[0;34m(self)\u001b[0m\n\u001b[1;32m    183\u001b[0m             \u001b[0;32mreturn\u001b[0m \u001b[0mself\u001b[0m\u001b[0;34m.\u001b[0m\u001b[0mapply_raw\u001b[0m\u001b[0;34m(\u001b[0m\u001b[0;34m)\u001b[0m\u001b[0;34m\u001b[0m\u001b[0;34m\u001b[0m\u001b[0m\n\u001b[1;32m    184\u001b[0m \u001b[0;34m\u001b[0m\u001b[0m\n\u001b[0;32m--> 185\u001b[0;31m         \u001b[0;32mreturn\u001b[0m \u001b[0mself\u001b[0m\u001b[0;34m.\u001b[0m\u001b[0mapply_standard\u001b[0m\u001b[0;34m(\u001b[0m\u001b[0;34m)\u001b[0m\u001b[0;34m\u001b[0m\u001b[0;34m\u001b[0m\u001b[0m\n\u001b[0m\u001b[1;32m    186\u001b[0m \u001b[0;34m\u001b[0m\u001b[0m\n\u001b[1;32m    187\u001b[0m     \u001b[0;32mdef\u001b[0m \u001b[0mapply_empty_result\u001b[0m\u001b[0;34m(\u001b[0m\u001b[0mself\u001b[0m\u001b[0;34m)\u001b[0m\u001b[0;34m:\u001b[0m\u001b[0;34m\u001b[0m\u001b[0;34m\u001b[0m\u001b[0m\n",
      "\u001b[0;32m/data/blockchain-interoperability/blockchain-social-media/blockchain-sns-env/lib64/python3.6/site-packages/pandas/core/apply.py\u001b[0m in \u001b[0;36mapply_standard\u001b[0;34m(self)\u001b[0m\n\u001b[1;32m    274\u001b[0m \u001b[0;34m\u001b[0m\u001b[0m\n\u001b[1;32m    275\u001b[0m     \u001b[0;32mdef\u001b[0m \u001b[0mapply_standard\u001b[0m\u001b[0;34m(\u001b[0m\u001b[0mself\u001b[0m\u001b[0;34m)\u001b[0m\u001b[0;34m:\u001b[0m\u001b[0;34m\u001b[0m\u001b[0;34m\u001b[0m\u001b[0m\n\u001b[0;32m--> 276\u001b[0;31m         \u001b[0mresults\u001b[0m\u001b[0;34m,\u001b[0m \u001b[0mres_index\u001b[0m \u001b[0;34m=\u001b[0m \u001b[0mself\u001b[0m\u001b[0;34m.\u001b[0m\u001b[0mapply_series_generator\u001b[0m\u001b[0;34m(\u001b[0m\u001b[0;34m)\u001b[0m\u001b[0;34m\u001b[0m\u001b[0;34m\u001b[0m\u001b[0m\n\u001b[0m\u001b[1;32m    277\u001b[0m \u001b[0;34m\u001b[0m\u001b[0m\n\u001b[1;32m    278\u001b[0m         \u001b[0;31m# wrap results\u001b[0m\u001b[0;34m\u001b[0m\u001b[0;34m\u001b[0m\u001b[0;34m\u001b[0m\u001b[0m\n",
      "\u001b[0;32m/data/blockchain-interoperability/blockchain-social-media/blockchain-sns-env/lib64/python3.6/site-packages/pandas/core/apply.py\u001b[0m in \u001b[0;36mapply_series_generator\u001b[0;34m(self)\u001b[0m\n\u001b[1;32m    303\u001b[0m                 \u001b[0;32mfor\u001b[0m \u001b[0mi\u001b[0m\u001b[0;34m,\u001b[0m \u001b[0mv\u001b[0m \u001b[0;32min\u001b[0m \u001b[0menumerate\u001b[0m\u001b[0;34m(\u001b[0m\u001b[0mseries_gen\u001b[0m\u001b[0;34m)\u001b[0m\u001b[0;34m:\u001b[0m\u001b[0;34m\u001b[0m\u001b[0;34m\u001b[0m\u001b[0m\n\u001b[1;32m    304\u001b[0m                     \u001b[0;31m# ignore SettingWithCopy here in case the user mutates\u001b[0m\u001b[0;34m\u001b[0m\u001b[0;34m\u001b[0m\u001b[0;34m\u001b[0m\u001b[0m\n\u001b[0;32m--> 305\u001b[0;31m                     \u001b[0mresults\u001b[0m\u001b[0;34m[\u001b[0m\u001b[0mi\u001b[0m\u001b[0;34m]\u001b[0m \u001b[0;34m=\u001b[0m \u001b[0mself\u001b[0m\u001b[0;34m.\u001b[0m\u001b[0mf\u001b[0m\u001b[0;34m(\u001b[0m\u001b[0mv\u001b[0m\u001b[0;34m)\u001b[0m\u001b[0;34m\u001b[0m\u001b[0;34m\u001b[0m\u001b[0m\n\u001b[0m\u001b[1;32m    306\u001b[0m                     \u001b[0;32mif\u001b[0m \u001b[0misinstance\u001b[0m\u001b[0;34m(\u001b[0m\u001b[0mresults\u001b[0m\u001b[0;34m[\u001b[0m\u001b[0mi\u001b[0m\u001b[0;34m]\u001b[0m\u001b[0;34m,\u001b[0m \u001b[0mABCSeries\u001b[0m\u001b[0;34m)\u001b[0m\u001b[0;34m:\u001b[0m\u001b[0;34m\u001b[0m\u001b[0;34m\u001b[0m\u001b[0m\n\u001b[1;32m    307\u001b[0m                         \u001b[0;31m# If we have a view on v, we need to make a copy because\u001b[0m\u001b[0;34m\u001b[0m\u001b[0;34m\u001b[0m\u001b[0;34m\u001b[0m\u001b[0m\n",
      "\u001b[0;31mTypeError\u001b[0m: <lambda>() missing 2 required positional arguments: 'tr' and 't'"
     ]
    }
   ],
   "source": [
    "# df['_source.text'].isna() == \n",
    "\n",
    "# (df['_source.extended_tweet.full_text'].isna() == df['_source.truncated']).sum()\n",
    "# df[]['_source.extended_tweet.full_text']\n",
    "# df['_source.truncated'].unique()\n",
    "\n",
    "# df[:5][['_source.extended_tweet.full_text','_source.truncated','_source.text']]\n",
    "# df['_source.extended_tweet.full_text'].isna().sum()\n",
    "\n",
    "df[['_source.text','_source.truncated','_source.extended_tweet.full_text']].apply(lambda et,tr,t: t if tr else et)"
   ]
  },
  {
   "cell_type": "code",
   "execution_count": 17,
   "metadata": {},
   "outputs": [
    {
     "data": {
      "text/plain": [
       "['_source.text',\n",
       " '_source.user.profile_text_color',\n",
       " '_source.extended_tweet.full_text',\n",
       " '_source.extended_tweet.display_text_range',\n",
       " '_source.display_text_range',\n",
       " '_source.quoted_status.text',\n",
       " '_source.quoted_status.display_text_range',\n",
       " '_source.quoted_status.user.profile_text_color',\n",
       " '_source.quoted_status.extended_tweet.full_text',\n",
       " '_source.quoted_status.extended_tweet.display_text_range']"
      ]
     },
     "execution_count": 17,
     "metadata": {},
     "output_type": "execute_result"
    }
   ],
   "source": [
    "list(filter(lambda x: 'text' in x, df.columns))"
   ]
  },
  {
   "cell_type": "code",
   "execution_count": 9,
   "metadata": {},
   "outputs": [
    {
     "name": "stdout",
     "output_type": "stream",
     "text": [
      "['_index', '_type', '_id', '_score', '_source.created_at', '_source.id', '_source.id_str', '_source.text', '_source.source', '_source.truncated', '_source.in_reply_to_status_id', '_source.in_reply_to_status_id_str', '_source.in_reply_to_user_id', '_source.in_reply_to_user_id_str', '_source.in_reply_to_screen_name', '_source.user.id', '_source.user.id_str', '_source.user.name', '_source.user.screen_name', '_source.user.location', '_source.user.url', '_source.user.description', '_source.user.translator_type', '_source.user.protected', '_source.user.verified', '_source.user.followers_count', '_source.user.friends_count', '_source.user.listed_count', '_source.user.favourites_count', '_source.user.statuses_count', '_source.user.created_at', '_source.user.utc_offset', '_source.user.time_zone', '_source.user.geo_enabled', '_source.user.lang', '_source.user.contributors_enabled', '_source.user.is_translator', '_source.user.profile_background_color', '_source.user.profile_background_image_url', '_source.user.profile_background_image_url_https', '_source.user.profile_background_tile', '_source.user.profile_link_color', '_source.user.profile_sidebar_border_color', '_source.user.profile_sidebar_fill_color', '_source.user.profile_text_color', '_source.user.profile_use_background_image', '_source.user.profile_image_url', '_source.user.profile_image_url_https', '_source.user.profile_banner_url', '_source.user.default_profile', '_source.user.default_profile_image', '_source.user.following', '_source.user.follow_request_sent', '_source.user.notifications', '_source.user.withheld_in_countries', '_source.geo', '_source.coordinates', '_source.place', '_source.contributors', '_source.is_quote_status', '_source.extended_tweet.full_text', '_source.extended_tweet.display_text_range', '_source.extended_tweet.entities.hashtags', '_source.extended_tweet.entities.urls', '_source.extended_tweet.entities.user_mentions', '_source.extended_tweet.entities.symbols', '_source.quote_count', '_source.reply_count', '_source.retweet_count', '_source.favorite_count', '_source.entities.hashtags', '_source.entities.urls', '_source.entities.user_mentions', '_source.entities.symbols', '_source.favorited', '_source.retweeted', '_source.possibly_sensitive', '_source.filter_level', '_source.lang', '_source.timestamp_ms', '_source.display_text_range', '_source.entities.media', '_source.extended_entities.media', '_source.retweeted_status.id', '_source.retweeted_status.id_str', '_source.quoted_status_id', '_source.quoted_status_id_str', '_source.quoted_status.created_at', '_source.quoted_status.id', '_source.quoted_status.id_str', '_source.quoted_status.text', '_source.quoted_status.display_text_range', '_source.quoted_status.source', '_source.quoted_status.truncated', '_source.quoted_status.in_reply_to_status_id', '_source.quoted_status.in_reply_to_status_id_str', '_source.quoted_status.in_reply_to_user_id', '_source.quoted_status.in_reply_to_user_id_str', '_source.quoted_status.in_reply_to_screen_name', '_source.quoted_status.user.id', '_source.quoted_status.user.id_str', '_source.quoted_status.user.name', '_source.quoted_status.user.screen_name', '_source.quoted_status.user.location', '_source.quoted_status.user.url', '_source.quoted_status.user.description', '_source.quoted_status.user.translator_type', '_source.quoted_status.user.protected', '_source.quoted_status.user.verified', '_source.quoted_status.user.followers_count', '_source.quoted_status.user.friends_count', '_source.quoted_status.user.listed_count', '_source.quoted_status.user.favourites_count', '_source.quoted_status.user.statuses_count', '_source.quoted_status.user.created_at', '_source.quoted_status.user.utc_offset', '_source.quoted_status.user.time_zone', '_source.quoted_status.user.geo_enabled', '_source.quoted_status.user.lang', '_source.quoted_status.user.contributors_enabled', '_source.quoted_status.user.is_translator', '_source.quoted_status.user.profile_background_color', '_source.quoted_status.user.profile_background_image_url', '_source.quoted_status.user.profile_background_image_url_https', '_source.quoted_status.user.profile_background_tile', '_source.quoted_status.user.profile_link_color', '_source.quoted_status.user.profile_sidebar_border_color', '_source.quoted_status.user.profile_sidebar_fill_color', '_source.quoted_status.user.profile_text_color', '_source.quoted_status.user.profile_use_background_image', '_source.quoted_status.user.profile_image_url', '_source.quoted_status.user.profile_image_url_https', '_source.quoted_status.user.profile_banner_url', '_source.quoted_status.user.default_profile', '_source.quoted_status.user.default_profile_image', '_source.quoted_status.user.following', '_source.quoted_status.user.follow_request_sent', '_source.quoted_status.user.notifications', '_source.quoted_status.user.withheld_in_countries', '_source.quoted_status.geo', '_source.quoted_status.coordinates', '_source.quoted_status.place', '_source.quoted_status.contributors', '_source.quoted_status.is_quote_status', '_source.quoted_status.extended_tweet.full_text', '_source.quoted_status.extended_tweet.display_text_range', '_source.quoted_status.extended_tweet.entities.hashtags', '_source.quoted_status.extended_tweet.entities.urls', '_source.quoted_status.extended_tweet.entities.user_mentions', '_source.quoted_status.extended_tweet.entities.symbols', '_source.quoted_status.extended_tweet.entities.media', '_source.quoted_status.extended_tweet.extended_entities.media', '_source.quoted_status.quote_count', '_source.quoted_status.reply_count', '_source.quoted_status.retweet_count', '_source.quoted_status.favorite_count', '_source.quoted_status.entities.hashtags', '_source.quoted_status.entities.urls', '_source.quoted_status.entities.user_mentions', '_source.quoted_status.entities.symbols', '_source.quoted_status.favorited', '_source.quoted_status.retweeted', '_source.quoted_status.possibly_sensitive', '_source.quoted_status.filter_level', '_source.quoted_status.lang', '_source.quoted_status_permalink.url', '_source.quoted_status_permalink.expanded', '_source.quoted_status_permalink.display', '_source.extended_tweet.entities.media', '_source.extended_tweet.extended_entities.media', '_source.quoted_status.entities.media', '_source.quoted_status.extended_entities.media', '_source.place.id', '_source.place.url', '_source.place.place_type', '_source.place.name', '_source.place.full_name', '_source.place.country_code', '_source.place.country', '_source.place.bounding_box.type', '_source.place.bounding_box.coordinates', '_source.geo.type', '_source.geo.coordinates', '_source.coordinates.type', '_source.coordinates.coordinates', '_source.quoted_status.quoted_status_id', '_source.quoted_status.quoted_status_id_str', '_source.quoted_status.place.id', '_source.quoted_status.place.url', '_source.quoted_status.place.place_type', '_source.quoted_status.place.name', '_source.quoted_status.place.full_name', '_source.quoted_status.place.country_code', '_source.quoted_status.place.country', '_source.quoted_status.place.bounding_box.type', '_source.quoted_status.place.bounding_box.coordinates']\n"
     ]
    }
   ],
   "source": [
    "print(df.columns.tolist())"
   ]
  }
 ],
 "metadata": {
  "kernelspec": {
   "display_name": "blockchain-sns-env",
   "language": "python",
   "name": "blockchain-sns-env"
  },
  "language_info": {
   "codemirror_mode": {
    "name": "ipython",
    "version": 3
   },
   "file_extension": ".py",
   "mimetype": "text/x-python",
   "name": "python",
   "nbconvert_exporter": "python",
   "pygments_lexer": "ipython3",
   "version": "3.6.8"
  },
  "vscode": {
   "interpreter": {
    "hash": "6cd29d4fa90de0455862d632ba5d82eded8ec761054fa1c425c75462c69e58ed"
   }
  }
 },
 "nbformat": 4,
 "nbformat_minor": 2
}
