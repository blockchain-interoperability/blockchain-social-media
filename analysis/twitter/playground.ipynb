{
 "cells": [
  {
   "cell_type": "code",
   "execution_count": 36,
   "metadata": {},
   "outputs": [],
   "source": [
    "from elasticsearch import Elasticsearch\n",
    "from elasticsearch.helpers import scan\n",
    "import pandas as pd\n",
    "es = Elasticsearch(hosts=['http://idea-vm-elasticsearch:9200'],\n",
    "                    verify_certs=False,\n",
    "                    # timeout=config.elasticsearch_timeout_secs\n",
    "                    )"
   ]
  },
  {
   "cell_type": "code",
   "execution_count": 40,
   "metadata": {},
   "outputs": [],
   "source": [
    "dd = pd.read_json('snapshots/00100000.json')"
   ]
  },
  {
   "cell_type": "code",
   "execution_count": 3,
   "metadata": {},
   "outputs": [
    {
     "name": "stderr",
     "output_type": "stream",
     "text": [
      "100%|██████████| 43/43 [02:49<00:00,  3.94s/it]\n"
     ]
    }
   ],
   "source": [
    "from collect_data import load_cache\n",
    "\n",
    "raw_data = load_cache('/data/blockchain-interoperability/blockchain-social-media/analysis/twitter/snapshots/')\n",
    "\n"
   ]
  },
  {
   "cell_type": "code",
   "execution_count": 9,
   "metadata": {},
   "outputs": [
    {
     "data": {
      "text/plain": [
       "((4262198,), (4262198, 16))"
      ]
     },
     "execution_count": 9,
     "metadata": {},
     "output_type": "execute_result"
    }
   ],
   "source": [
    "raw_data.id.unique().shape,raw_data.shape"
   ]
  },
  {
   "cell_type": "code",
   "execution_count": 10,
   "metadata": {},
   "outputs": [
    {
     "data": {
      "text/html": [
       "<div>\n",
       "<style scoped>\n",
       "    .dataframe tbody tr th:only-of-type {\n",
       "        vertical-align: middle;\n",
       "    }\n",
       "\n",
       "    .dataframe tbody tr th {\n",
       "        vertical-align: top;\n",
       "    }\n",
       "\n",
       "    .dataframe thead th {\n",
       "        text-align: right;\n",
       "    }\n",
       "</style>\n",
       "<table border=\"1\" class=\"dataframe\">\n",
       "  <thead>\n",
       "    <tr style=\"text-align: right;\">\n",
       "      <th></th>\n",
       "      <th>in_reply_to_status_id</th>\n",
       "      <th>created_at</th>\n",
       "      <th>truncated</th>\n",
       "      <th>timestamp_ms</th>\n",
       "      <th>reply_count</th>\n",
       "      <th>retweet_count</th>\n",
       "      <th>entities.hashtags</th>\n",
       "      <th>favorite_count</th>\n",
       "      <th>id</th>\n",
       "      <th>text</th>\n",
       "      <th>lang</th>\n",
       "      <th>quote_count</th>\n",
       "      <th>user.description</th>\n",
       "      <th>user.id</th>\n",
       "      <th>extended_tweet.entities.hashtags</th>\n",
       "      <th>extended_tweet.full_text</th>\n",
       "    </tr>\n",
       "  </thead>\n",
       "  <tbody>\n",
       "    <tr>\n",
       "      <th>0</th>\n",
       "      <td>1.591014e+18</td>\n",
       "      <td>2022-11-11 12:03:53+00:00</td>\n",
       "      <td>False</td>\n",
       "      <td>2022-11-11 12:03:53.965</td>\n",
       "      <td>0</td>\n",
       "      <td>0</td>\n",
       "      <td>[]</td>\n",
       "      <td>0</td>\n",
       "      <td>1591039006850310148</td>\n",
       "      <td>@0x5ab0 @Uniswap oh, missed fiat part, just sa...</td>\n",
       "      <td>en</td>\n",
       "      <td>0</td>\n",
       "      <td>@basinDAO cures my obsessions with #naturalcap...</td>\n",
       "      <td>333239871</td>\n",
       "      <td>None</td>\n",
       "      <td>None</td>\n",
       "    </tr>\n",
       "    <tr>\n",
       "      <th>1</th>\n",
       "      <td>NaN</td>\n",
       "      <td>2022-11-11 12:03:53+00:00</td>\n",
       "      <td>True</td>\n",
       "      <td>2022-11-11 12:03:53.946</td>\n",
       "      <td>0</td>\n",
       "      <td>0</td>\n",
       "      <td>[]</td>\n",
       "      <td>0</td>\n",
       "      <td>1591039006770622468</td>\n",
       "      <td>Never seen such a deal for a punk since 2017! ...</td>\n",
       "      <td>en</td>\n",
       "      <td>0</td>\n",
       "      <td>Зөөгчөө нэг шоот хайр авъя,.. #NoWar #SlavaUkr...</td>\n",
       "      <td>1590345908172083201</td>\n",
       "      <td>[]</td>\n",
       "      <td>Never seen such a deal for a punk since 2017! ...</td>\n",
       "    </tr>\n",
       "    <tr>\n",
       "      <th>2</th>\n",
       "      <td>NaN</td>\n",
       "      <td>2022-11-11 12:03:53+00:00</td>\n",
       "      <td>True</td>\n",
       "      <td>2022-11-11 12:03:53.882</td>\n",
       "      <td>0</td>\n",
       "      <td>0</td>\n",
       "      <td>[]</td>\n",
       "      <td>0</td>\n",
       "      <td>1591039006501994503</td>\n",
       "      <td>Collection: ens \\n Sold for: 1.0040189 Eth (12...</td>\n",
       "      <td>en</td>\n",
       "      <td>0</td>\n",
       "      <td>Tracks sale/purchase of whale NFT accounts   \\...</td>\n",
       "      <td>1520781667769614337</td>\n",
       "      <td>[{'indices': [169, 173], 'text': 'ens'}, {'ind...</td>\n",
       "      <td>Collection: ens \\n Sold for: 1.0040189 Eth (12...</td>\n",
       "    </tr>\n",
       "    <tr>\n",
       "      <th>3</th>\n",
       "      <td>NaN</td>\n",
       "      <td>2022-11-10 06:05:54+00:00</td>\n",
       "      <td>False</td>\n",
       "      <td>NaT</td>\n",
       "      <td>0</td>\n",
       "      <td>4</td>\n",
       "      <td>[{'indices': [56, 69], 'text': 'LoveOnTourLA'}...</td>\n",
       "      <td>5</td>\n",
       "      <td>1590586526303686657</td>\n",
       "      <td>🎥 Harry singing Music For A Sushi Restaurant !...</td>\n",
       "      <td>en</td>\n",
       "      <td>0</td>\n",
       "      <td>Accept what is, let go of what was, and have f...</td>\n",
       "      <td>786084425406832644</td>\n",
       "      <td>None</td>\n",
       "      <td>None</td>\n",
       "    </tr>\n",
       "    <tr>\n",
       "      <th>4</th>\n",
       "      <td>NaN</td>\n",
       "      <td>2022-11-11 12:03:54+00:00</td>\n",
       "      <td>True</td>\n",
       "      <td>2022-11-11 12:03:54.075</td>\n",
       "      <td>0</td>\n",
       "      <td>0</td>\n",
       "      <td>[]</td>\n",
       "      <td>0</td>\n",
       "      <td>1591039007311683585</td>\n",
       "      <td>AAVE Airdrop iis now live. You can easily clai...</td>\n",
       "      <td>en</td>\n",
       "      <td>0</td>\n",
       "      <td>Kunji is meant to help people who want to pass...</td>\n",
       "      <td>1589700910883676160</td>\n",
       "      <td>[]</td>\n",
       "      <td>AAVE Airdrop iis now live. You can easily clai...</td>\n",
       "    </tr>\n",
       "  </tbody>\n",
       "</table>\n",
       "</div>"
      ],
      "text/plain": [
       "   in_reply_to_status_id                created_at  truncated  \\\n",
       "0           1.591014e+18 2022-11-11 12:03:53+00:00      False   \n",
       "1                    NaN 2022-11-11 12:03:53+00:00       True   \n",
       "2                    NaN 2022-11-11 12:03:53+00:00       True   \n",
       "3                    NaN 2022-11-10 06:05:54+00:00      False   \n",
       "4                    NaN 2022-11-11 12:03:54+00:00       True   \n",
       "\n",
       "             timestamp_ms  reply_count  retweet_count  \\\n",
       "0 2022-11-11 12:03:53.965            0              0   \n",
       "1 2022-11-11 12:03:53.946            0              0   \n",
       "2 2022-11-11 12:03:53.882            0              0   \n",
       "3                     NaT            0              4   \n",
       "4 2022-11-11 12:03:54.075            0              0   \n",
       "\n",
       "                                   entities.hashtags  favorite_count  \\\n",
       "0                                                 []               0   \n",
       "1                                                 []               0   \n",
       "2                                                 []               0   \n",
       "3  [{'indices': [56, 69], 'text': 'LoveOnTourLA'}...               5   \n",
       "4                                                 []               0   \n",
       "\n",
       "                    id                                               text  \\\n",
       "0  1591039006850310148  @0x5ab0 @Uniswap oh, missed fiat part, just sa...   \n",
       "1  1591039006770622468  Never seen such a deal for a punk since 2017! ...   \n",
       "2  1591039006501994503  Collection: ens \\n Sold for: 1.0040189 Eth (12...   \n",
       "3  1590586526303686657  🎥 Harry singing Music For A Sushi Restaurant !...   \n",
       "4  1591039007311683585  AAVE Airdrop iis now live. You can easily clai...   \n",
       "\n",
       "  lang  quote_count                                   user.description  \\\n",
       "0   en            0  @basinDAO cures my obsessions with #naturalcap...   \n",
       "1   en            0  Зөөгчөө нэг шоот хайр авъя,.. #NoWar #SlavaUkr...   \n",
       "2   en            0  Tracks sale/purchase of whale NFT accounts   \\...   \n",
       "3   en            0  Accept what is, let go of what was, and have f...   \n",
       "4   en            0  Kunji is meant to help people who want to pass...   \n",
       "\n",
       "               user.id                   extended_tweet.entities.hashtags  \\\n",
       "0            333239871                                               None   \n",
       "1  1590345908172083201                                                 []   \n",
       "2  1520781667769614337  [{'indices': [169, 173], 'text': 'ens'}, {'ind...   \n",
       "3   786084425406832644                                               None   \n",
       "4  1589700910883676160                                                 []   \n",
       "\n",
       "                            extended_tweet.full_text  \n",
       "0                                               None  \n",
       "1  Never seen such a deal for a punk since 2017! ...  \n",
       "2  Collection: ens \\n Sold for: 1.0040189 Eth (12...  \n",
       "3                                               None  \n",
       "4  AAVE Airdrop iis now live. You can easily clai...  "
      ]
     },
     "execution_count": 10,
     "metadata": {},
     "output_type": "execute_result"
    }
   ],
   "source": [
    "raw_data.head()"
   ]
  },
  {
   "cell_type": "markdown",
   "metadata": {},
   "source": [
    "If trucated is False, that means text has the full text. If True, extended_tweet.full_text has the full text.\n",
    "\n",
    "\n",
    "Note: scroll query to get everything in index"
   ]
  },
  {
   "cell_type": "code",
   "execution_count": 12,
   "metadata": {},
   "outputs": [
    {
     "data": {
      "text/plain": [
       "Index(['in_reply_to_status_id', 'created_at', 'truncated', 'timestamp_ms',\n",
       "       'reply_count', 'retweet_count', 'entities.hashtags', 'favorite_count',\n",
       "       'id', 'text', 'lang', 'quote_count', 'user.description', 'user.id',\n",
       "       'extended_tweet.entities.hashtags', 'extended_tweet.full_text'],\n",
       "      dtype='object')"
      ]
     },
     "execution_count": 12,
     "metadata": {},
     "output_type": "execute_result"
    }
   ],
   "source": [
    "raw_data.columns"
   ]
  },
  {
   "cell_type": "code",
   "execution_count": 15,
   "metadata": {},
   "outputs": [
    {
     "data": {
      "text/plain": [
       "False"
      ]
     },
     "execution_count": 15,
     "metadata": {},
     "output_type": "execute_result"
    }
   ],
   "source": [
    "(raw_data['whole_text'] == '').any()\n",
    "\n",
    "# very good!"
   ]
  }
 ],
 "metadata": {
  "kernelspec": {
   "display_name": "blockchain-sns-env",
   "language": "python",
   "name": "blockchain-sns-env"
  },
  "language_info": {
   "codemirror_mode": {
    "name": "ipython",
    "version": 3
   },
   "file_extension": ".py",
   "mimetype": "text/x-python",
   "name": "python",
   "nbconvert_exporter": "python",
   "pygments_lexer": "ipython3",
   "version": "3.6.8"
  },
  "vscode": {
   "interpreter": {
    "hash": "6cd29d4fa90de0455862d632ba5d82eded8ec761054fa1c425c75462c69e58ed"
   }
  }
 },
 "nbformat": 4,
 "nbformat_minor": 2
}
