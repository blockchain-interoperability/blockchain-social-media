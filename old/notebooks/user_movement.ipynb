{
 "cells": [
  {
   "cell_type": "code",
   "execution_count": 36,
   "metadata": {},
   "outputs": [],
   "source": [
    "import pandas as pd\n",
    "from pathlib import Path\n",
    "\n",
    "TWITTER_BASE = Path('/data/blockchain-interoperability/blockchain-social-media/twitter-data/')\n",
    "\n",
    "timestamps = pd.to_datetime(pd.read_pickle(TWITTER_BASE/'snapshots/timestamp_ms.pkl'),unit='ms')\n",
    "user_id = pd.read_pickle(TWITTER_BASE/'snapshots/user_id.pkl')\n",
    "cluster_id = pd.read_pickle(TWITTER_BASE/'snapshots/cluster_id.pkl')\n",
    "df = pd.concat([user_id,timestamps,cluster_id],axis=1)\n",
    "df = df[~df['timestamp_ms'].isna()]\n",
    "df['user_id'] = df['user_id'].factorize()[0]"
   ]
  },
  {
   "cell_type": "code",
   "execution_count": 37,
   "metadata": {},
   "outputs": [],
   "source": [
    "def get_user_appearances(tweets):\n",
    "    cluster_counts = tweets['cluster_id'].value_counts()\n",
    "    default_count = dict([(c,0) for c in range(6)])\n",
    "    _, one_user_clusters = zip(*sorted({**default_count,**cluster_counts.to_dict()}.items()))\n",
    "    return pd.Series(one_user_clusters,name='cluster_count')\n",
    "\n",
    "def get_cluster_info(user_tweets): \n",
    "    return user_tweets.groupby('user_id').apply(get_user_appearances)\n",
    "\n",
    "def user_cluster_over_time(interval = '1D'):\n",
    "    save_path = TWITTER_BASE/f'cluster_movement/{interval}.npy'\n",
    "    save_path.parent.mkdir(exist_ok = True, parents=True)\n",
    "    if not save_path.is_file():\n",
    "        change_over_time = df.resample(interval, on='timestamp_ms').apply(get_cluster_info)\n",
    "        change_over_time.to_pickle(save_path)\n",
    "    else:\n",
    "        change_over_time = pd.read_pickle(save_path)\n",
    "    return change_over_time"
   ]
  },
  {
   "cell_type": "code",
   "execution_count": 38,
   "metadata": {},
   "outputs": [
    {
     "ename": "TypeError",
     "evalue": "Path.mkdir() got an unexpected keyword argument 'parent'",
     "output_type": "error",
     "traceback": [
      "\u001b[0;31m---------------------------------------------------------------------------\u001b[0m",
      "\u001b[0;31mTypeError\u001b[0m                                 Traceback (most recent call last)",
      "Cell \u001b[0;32mIn[38], line 1\u001b[0m\n\u001b[0;32m----> 1\u001b[0m user_cluster_over_time(\u001b[39m'\u001b[39;49m\u001b[39m12H\u001b[39;49m\u001b[39m'\u001b[39;49m)\n\u001b[1;32m      2\u001b[0m user_cluster_over_time(\u001b[39m'\u001b[39m\u001b[39m1D\u001b[39m\u001b[39m'\u001b[39m)\n",
      "Cell \u001b[0;32mIn[37], line 12\u001b[0m, in \u001b[0;36muser_cluster_over_time\u001b[0;34m(interval)\u001b[0m\n\u001b[1;32m     10\u001b[0m \u001b[39mdef\u001b[39;00m \u001b[39muser_cluster_over_time\u001b[39m(interval \u001b[39m=\u001b[39m \u001b[39m'\u001b[39m\u001b[39m1D\u001b[39m\u001b[39m'\u001b[39m):\n\u001b[1;32m     11\u001b[0m     save_path \u001b[39m=\u001b[39m TWITTER_BASE\u001b[39m/\u001b[39m\u001b[39mf\u001b[39m\u001b[39m'\u001b[39m\u001b[39mcluster_movement/\u001b[39m\u001b[39m{\u001b[39;00minterval\u001b[39m}\u001b[39;00m\u001b[39m.npy\u001b[39m\u001b[39m'\u001b[39m\n\u001b[0;32m---> 12\u001b[0m     save_path\u001b[39m.\u001b[39;49mparent\u001b[39m.\u001b[39;49mmkdir(exist_ok \u001b[39m=\u001b[39;49m \u001b[39mTrue\u001b[39;49;00m, parent\u001b[39m=\u001b[39;49m\u001b[39mTrue\u001b[39;49;00m)\n\u001b[1;32m     13\u001b[0m     \u001b[39mif\u001b[39;00m \u001b[39mnot\u001b[39;00m save_path\u001b[39m.\u001b[39mis_file():\n\u001b[1;32m     14\u001b[0m         change_over_time \u001b[39m=\u001b[39m df\u001b[39m.\u001b[39mresample(interval, on\u001b[39m=\u001b[39m\u001b[39m'\u001b[39m\u001b[39mtimestamp_ms\u001b[39m\u001b[39m'\u001b[39m)\u001b[39m.\u001b[39mapply(get_cluster_info)\n",
      "\u001b[0;31mTypeError\u001b[0m: Path.mkdir() got an unexpected keyword argument 'parent'"
     ]
    }
   ],
   "source": [
    "user_cluster_over_time('12H')\n",
    "user_cluster_over_time('1D')"
   ]
  },
  {
   "attachments": {},
   "cell_type": "markdown",
   "metadata": {},
   "source": [
    "Main Idea: Visualize the overlaps in clusters as time passes"
   ]
  },
  {
   "cell_type": "markdown",
   "metadata": {},
   "source": []
  }
 ],
 "metadata": {
  "kernelspec": {
   "display_name": "blockchain-sns-env",
   "language": "python",
   "name": "blockchain-sns-env"
  },
  "language_info": {
   "codemirror_mode": {
    "name": "ipython",
    "version": 3
   },
   "file_extension": ".py",
   "mimetype": "text/x-python",
   "name": "python",
   "nbconvert_exporter": "python",
   "pygments_lexer": "ipython3",
   "version": "3.10.9"
  },
  "orig_nbformat": 4
 },
 "nbformat": 4,
 "nbformat_minor": 2
}
